{
 "cells": [
  {
   "cell_type": "code",
   "execution_count": 47,
   "id": "d4b2141b-5147-448e-bea7-df402318cf49",
   "metadata": {},
   "outputs": [
    {
     "name": "stdout",
     "output_type": "stream",
     "text": [
      "The dotenv extension is already loaded. To reload it, use:\n",
      "  %reload_ext dotenv\n"
     ]
    }
   ],
   "source": [
    "%load_ext dotenv\n",
    "%dotenv"
   ]
  },
  {
   "cell_type": "code",
   "execution_count": 48,
   "id": "bb6622c0-6ac0-42e8-8bd0-f69a203ad06c",
   "metadata": {},
   "outputs": [],
   "source": [
    "from langchain_openai.chat_models import ChatOpenAI\n",
    "\n",
    "from langchain_core.prompts import (SystemMessagePromptTemplate, \n",
    "                                            HumanMessagePromptTemplate, \n",
    "                                            ChatPromptTemplate,\n",
    "                                            AIMessagePromptTemplate, \n",
    "                                            FewShotChatMessagePromptTemplate)"
   ]
  },
  {
   "cell_type": "code",
   "execution_count": 49,
   "id": "797a21d9-99f2-45fe-9d3b-0ab5ebf37ead",
   "metadata": {},
   "outputs": [],
   "source": [
    " chat = ChatOpenAI(model_name = 'gpt-4',\n",
    "                  seed = 365,\n",
    "                  temperature = 0,\n",
    "                  max_tokens = 100)"
   ]
  },
  {
   "cell_type": "code",
   "execution_count": 50,
   "id": "fcc2c02f-6540-43e7-9c75-855979b23068",
   "metadata": {},
   "outputs": [],
   "source": [
    "TEMPLATE_H = '''I've recently adopted a {pet}.\n",
    "Could you suggest some {pet} names?'''\n",
    "TEMPLATE_AI = '''{response}'''\n",
    "\n",
    "message_template_h = HumanMessagePromptTemplate.from_template(template = TEMPLATE_H)\n",
    "message_template_ai = AIMessagePromptTemplate.from_template(template = TEMPLATE_AI)"
   ]
  },
  {
   "cell_type": "code",
   "execution_count": 51,
   "id": "3de29fc4-f6c3-49fc-8a38-49fc4d1b908d",
   "metadata": {},
   "outputs": [],
   "source": [
    "example_template = ChatPromptTemplate.from_messages([message_template_h, message_template_ai])"
   ]
  },
  {
   "cell_type": "code",
   "execution_count": 52,
   "id": "990d3ba9-a7ef-4753-825b-44d136602ced",
   "metadata": {},
   "outputs": [],
   "source": [
    "examples = [{ 'pet': 'dog',\n",
    "             'response': '''Oh, absolutely. Because nothing screams \"I'm a responsible pet owner\" like asking a chatbot to name your new furball. \n",
    "             How about \"Bark Twain\" (if it's a literary hound)?'''},\n",
    "            {\n",
    "                'pet':'cat',\n",
    "                'response':'''Oh, absolutely. Because nothing screams \"I'm a unique creative individual\" \n",
    "                like asking a chatbot to name your cat. \n",
    "             How about \"Furry McFurFace\", \"Sir Meowsalot\", or \"Catastrophe\"?'''\n",
    "            }]"
   ]
  },
  {
   "cell_type": "code",
   "execution_count": 53,
   "id": "de63f0c5-68aa-4971-9721-cfa453095bc9",
   "metadata": {},
   "outputs": [],
   "source": [
    "few_shot_prompt = FewShotChatMessagePromptTemplate(examples = examples,\n",
    "                                                   example_prompt = example_template,\n",
    "                                                   input_variables = ['pet'])"
   ]
  },
  {
   "cell_type": "code",
   "execution_count": 54,
   "id": "d15c376b-7eb8-4c4c-9711-2efeb22378fc",
   "metadata": {},
   "outputs": [],
   "source": [
    "chat_template = ChatPromptTemplate.from_messages([few_shot_prompt, message_template_h])"
   ]
  },
  {
   "cell_type": "code",
   "execution_count": 55,
   "id": "ffa309b2-fce3-4638-ad03-a023fcd32682",
   "metadata": {},
   "outputs": [],
   "source": [
    "chat_value = chat_template.invoke({'pet':'rabbit'})"
   ]
  },
  {
   "cell_type": "code",
   "execution_count": 56,
   "id": "c4d24b5b-df7f-422d-a630-337d4475aeec",
   "metadata": {},
   "outputs": [
    {
     "name": "stdout",
     "output_type": "stream",
     "text": [
      "human: I've recently adopted a dog.\n",
      "Could you suggest some dog names?\n",
      "\n",
      "ai: Oh, absolutely. Because nothing screams \"I'm a responsible pet owner\" like asking a chatbot to name your new furball. \n",
      "             How about \"Bark Twain\" (if it's a literary hound)?\n",
      "\n",
      "human: I've recently adopted a cat.\n",
      "Could you suggest some cat names?\n",
      "\n",
      "ai: Oh, absolutely. Because nothing screams \"I'm a unique creative individual\" \n",
      "                like asking a chatbot to name your cat. \n",
      "             How about \"Furry McFurFace\", \"Sir Meowsalot\", or \"Catastrophe\"?\n",
      "\n",
      "human: I've recently adopted a rabbit.\n",
      "Could you suggest some rabbit names?\n",
      "\n"
     ]
    }
   ],
   "source": [
    "for i in chat_value.messages:\n",
    "    print(f'{i.type}: {i.content}\\n')"
   ]
  },
  {
   "cell_type": "code",
   "execution_count": 57,
   "id": "0fa390cb-494c-47e6-989f-bd9a7da2033a",
   "metadata": {},
   "outputs": [],
   "source": [
    "response = chat.invoke(chat_value)"
   ]
  },
  {
   "cell_type": "code",
   "execution_count": 58,
   "id": "6fe44d25-d28d-4562-8808-ab046b955244",
   "metadata": {},
   "outputs": [
    {
     "name": "stdout",
     "output_type": "stream",
     "text": [
      "Of course! How about \"Thumper\", \"Bun Bun\", \"Cinnabun\", \"Nibbles\", \"Snowball\", \"Fluffy\", \"Hopper\", or \"Binky\"?\n"
     ]
    }
   ],
   "source": [
    "print(response.content)"
   ]
  },
  {
   "cell_type": "code",
   "execution_count": null,
   "id": "62f2a33c-dff9-4bdf-80bc-29e6812b9de6",
   "metadata": {},
   "outputs": [],
   "source": []
  }
 ],
 "metadata": {
  "kernelspec": {
   "display_name": "langchain_env_benji",
   "language": "python",
   "name": "langchain_env_benji"
  },
  "language_info": {
   "codemirror_mode": {
    "name": "ipython",
    "version": 3
   },
   "file_extension": ".py",
   "mimetype": "text/x-python",
   "name": "python",
   "nbconvert_exporter": "python",
   "pygments_lexer": "ipython3",
   "version": "3.10.10"
  }
 },
 "nbformat": 4,
 "nbformat_minor": 5
}
