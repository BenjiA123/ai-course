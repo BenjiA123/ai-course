{
 "cells": [
  {
   "cell_type": "markdown",
   "id": "490aee40-1e7f-44f1-befe-f36030475347",
   "metadata": {},
   "source": [
    "## LLM CHAIN"
   ]
  },
  {
   "cell_type": "code",
   "execution_count": 3,
   "id": "d4b2141b-5147-448e-bea7-df402318cf49",
   "metadata": {},
   "outputs": [],
   "source": [
    "%load_ext dotenv\n",
    "%dotenv"
   ]
  },
  {
   "cell_type": "code",
   "execution_count": 40,
   "id": "bb6622c0-6ac0-42e8-8bd0-f69a203ad06c",
   "metadata": {},
   "outputs": [],
   "source": [
    "from langchain_openai.chat_models import ChatOpenAI\n",
    "\n",
    "from langchain_core.prompts import (SystemMessagePromptTemplate, \n",
    "                                            HumanMessagePromptTemplate, \n",
    "                                            ChatPromptTemplate,\n",
    "                                            AIMessagePromptTemplate, \n",
    "                                            FewShotChatMessagePromptTemplate)\n",
    "from langchain.chains.llm import LLMChain\n",
    "from langchain_core.runnables import RunnableSequence"
   ]
  },
  {
   "cell_type": "code",
   "execution_count": 5,
   "id": "797a21d9-99f2-45fe-9d3b-0ab5ebf37ead",
   "metadata": {},
   "outputs": [],
   "source": [
    " chat = ChatOpenAI(model_name = 'gpt-4',\n",
    "                  seed = 365,\n",
    "                  temperature = 0,\n",
    "                  max_tokens = 100)"
   ]
  },
  {
   "cell_type": "code",
   "execution_count": 6,
   "id": "fcc2c02f-6540-43e7-9c75-855979b23068",
   "metadata": {},
   "outputs": [],
   "source": [
    "TEMPLATE_H = '''I've recently adopted a {pet}.\n",
    "Could you suggest some {pet} names?'''\n",
    "TEMPLATE_AI = '''{response}'''\n",
    "\n",
    "message_template_h = HumanMessagePromptTemplate.from_template(template = TEMPLATE_H)\n",
    "message_template_ai = AIMessagePromptTemplate.from_template(template = TEMPLATE_AI)"
   ]
  },
  {
   "cell_type": "code",
   "execution_count": 7,
   "id": "3de29fc4-f6c3-49fc-8a38-49fc4d1b908d",
   "metadata": {},
   "outputs": [],
   "source": [
    "example_template = ChatPromptTemplate.from_messages([message_template_h, message_template_ai])"
   ]
  },
  {
   "cell_type": "code",
   "execution_count": 8,
   "id": "990d3ba9-a7ef-4753-825b-44d136602ced",
   "metadata": {},
   "outputs": [],
   "source": [
    "examples = [{ 'pet': 'dog',\n",
    "             'response': '''Oh, absolutely. Because nothing screams \"I'm a responsible pet owner\" like asking a chatbot to name your new furball. \n",
    "             How about \"Bark Twain\" (if it's a literary hound)?'''},\n",
    "            {\n",
    "                'pet':'cat',\n",
    "                'response':'''Oh, absolutely. Because nothing screams \"I'm a unique creative individual\" \n",
    "                like asking a chatbot to name your cat. \n",
    "             How about \"Furry McFurFace\", \"Sir Meowsalot\", or \"Catastrophe\"?'''\n",
    "            }]"
   ]
  },
  {
   "cell_type": "code",
   "execution_count": 9,
   "id": "de63f0c5-68aa-4971-9721-cfa453095bc9",
   "metadata": {},
   "outputs": [],
   "source": [
    "few_shot_prompt = FewShotChatMessagePromptTemplate(examples = examples,\n",
    "                                                   example_prompt = example_template,\n",
    "                                                   input_variables = ['pet'])"
   ]
  },
  {
   "cell_type": "code",
   "execution_count": 10,
   "id": "d15c376b-7eb8-4c4c-9711-2efeb22378fc",
   "metadata": {},
   "outputs": [],
   "source": [
    "chat_template = ChatPromptTemplate.from_messages([few_shot_prompt, message_template_h])"
   ]
  },
  {
   "cell_type": "code",
   "execution_count": 46,
   "id": "62f2a33c-dff9-4bdf-80bc-29e6812b9de6",
   "metadata": {},
   "outputs": [],
   "source": [
    "chain = chat_template | chat"
   ]
  },
  {
   "cell_type": "code",
   "execution_count": 48,
   "id": "73f2f575-5905-4aaa-905c-d6a0dc705523",
   "metadata": {},
   "outputs": [],
   "source": [
    "result = chain.invoke({\"pet\": \"fish\"})"
   ]
  },
  {
   "cell_type": "code",
   "execution_count": 52,
   "id": "c72502d6-9911-46ab-ab2c-e35c662038cf",
   "metadata": {},
   "outputs": [
    {
     "name": "stdout",
     "output_type": "stream",
     "text": [
      "Of course! How about \"Finley\", \"Bubbles\", \"Sushi\", or \"Captain Nemo\"?\n"
     ]
    }
   ],
   "source": [
    "print(result.content)"
   ]
  },
  {
   "cell_type": "code",
   "execution_count": null,
   "id": "98cc54a8-c4b6-4e0a-9480-77fa8c13b9b3",
   "metadata": {},
   "outputs": [],
   "source": []
  },
  {
   "cell_type": "code",
   "execution_count": null,
   "id": "4b4f2b89-7ab8-498a-a5b9-24d9bdc81542",
   "metadata": {},
   "outputs": [],
   "source": []
  }
 ],
 "metadata": {
  "kernelspec": {
   "display_name": "langchain_env_benji",
   "language": "python",
   "name": "langchain_env_benji"
  },
  "language_info": {
   "codemirror_mode": {
    "name": "ipython",
    "version": 3
   },
   "file_extension": ".py",
   "mimetype": "text/x-python",
   "name": "python",
   "nbconvert_exporter": "python",
   "pygments_lexer": "ipython3",
   "version": "3.10.10"
  }
 },
 "nbformat": 4,
 "nbformat_minor": 5
}
