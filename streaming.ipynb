{
 "cells": [
  {
   "cell_type": "markdown",
   "id": "4160b6b8",
   "metadata": {},
   "source": [
    "# Streaming"
   ]
  },
  {
   "cell_type": "code",
   "execution_count": 2,
   "id": "ef5c5f5e",
   "metadata": {},
   "outputs": [],
   "source": [
    "%load_ext dotenv\n",
    "%dotenv"
   ]
  },
  {
   "cell_type": "code",
   "execution_count": 3,
   "id": "4d8e2ede",
   "metadata": {},
   "outputs": [],
   "source": [
    "from langchain_core.prompts import ChatPromptTemplate\n",
    "from langchain_openai import ChatOpenAI"
   ]
  },
  {
   "cell_type": "code",
   "execution_count": 4,
   "id": "c7679ea5",
   "metadata": {},
   "outputs": [],
   "source": [
    "chat_template = ChatPromptTemplate.from_messages([\n",
    "    ('human', \n",
    "     \"I've recently adopted a {pet} which is a {breed}. Could you suggest several training tips?\")])"
   ]
  },
  {
   "cell_type": "code",
   "execution_count": 5,
   "id": "5e7ca601",
   "metadata": {},
   "outputs": [
    {
     "name": "stderr",
     "output_type": "stream",
     "text": [
      "/opt/anaconda3/envs/langchain_env_benji/lib/python3.10/site-packages/IPython/core/interactiveshell.py:3519: UserWarning: Parameters {'seed'} should be specified explicitly. Instead they were passed in as part of `model_kwargs` parameter.\n",
      "  if await self.run_code(code, result, async_=asy):\n"
     ]
    }
   ],
   "source": [
    "chat = ChatOpenAI(model_name = 'gpt-4', \n",
    "                  model_kwargs = {'seed':365},\n",
    "                  temperature = 0,\n",
    "                  max_tokens = 100)"
   ]
  },
  {
   "cell_type": "code",
   "execution_count": 6,
   "id": "fcd4f11e",
   "metadata": {},
   "outputs": [],
   "source": [
    "chain = chat_template | chat"
   ]
  },
  {
   "cell_type": "code",
   "execution_count": 7,
   "id": "965839a4",
   "metadata": {},
   "outputs": [
    {
     "data": {
      "text/plain": [
       "AIMessage(content=\"1. Start Training Early: Begin training your shepherd dog as soon as you bring them home. This will help them understand their boundaries and what is expected of them.\\n\\n2. Consistency is Key: Be consistent with your commands and training. If you allow your dog to do something once, they will think it's always acceptable. \\n\\n3. Use Positive Reinforcement: Always reward your dog for good behavior. This can be in the form of treats, praise, or extra playtime. \\n\\n4\", additional_kwargs={'refusal': None}, response_metadata={'token_usage': {'completion_tokens': 100, 'prompt_tokens': 25, 'total_tokens': 125, 'completion_tokens_details': {'accepted_prediction_tokens': 0, 'audio_tokens': 0, 'reasoning_tokens': 0, 'rejected_prediction_tokens': 0}, 'prompt_tokens_details': {'audio_tokens': 0, 'cached_tokens': 0}}, 'model_name': 'gpt-4-0613', 'system_fingerprint': None, 'id': 'chatcmpl-BM9RT3MxrzMOgngEvrRBgDiPkbQdv', 'finish_reason': 'length', 'logprobs': None}, id='run-3b22cd40-3a75-4542-8f0e-db17efcc6584-0', usage_metadata={'input_tokens': 25, 'output_tokens': 100, 'total_tokens': 125, 'input_token_details': {'audio': 0, 'cache_read': 0}, 'output_token_details': {'audio': 0, 'reasoning': 0}})"
      ]
     },
     "execution_count": 7,
     "metadata": {},
     "output_type": "execute_result"
    }
   ],
   "source": [
    "chain.invoke({'pet':'dog', 'breed':'shepherd'})"
   ]
  },
  {
   "cell_type": "code",
   "execution_count": 8,
   "id": "820d3960",
   "metadata": {},
   "outputs": [
    {
     "name": "stdout",
     "output_type": "stream",
     "text": [
      "CPU times: user 20.4 ms, sys: 11.4 ms, total: 31.9 ms\n",
      "Wall time: 6.67 s\n"
     ]
    },
    {
     "data": {
      "text/plain": [
       "[AIMessage(content=\"1. Start Training Early: Begin training your shepherd dog as soon as you bring him home. This breed is intelligent and eager to learn, so starting early will help establish good behavior.\\n\\n2. Consistency is Key: Be consistent with your commands and expectations. If you allow your dog to do something once, he will think it's always acceptable. \\n\\n3. Use Positive Reinforcement: Always reward good behavior with treats, praise, or playtime. This will encourage your dog to repeat the behavior\", additional_kwargs={'refusal': None}, response_metadata={'token_usage': {'completion_tokens': 100, 'prompt_tokens': 25, 'total_tokens': 125, 'completion_tokens_details': {'accepted_prediction_tokens': 0, 'audio_tokens': 0, 'reasoning_tokens': 0, 'rejected_prediction_tokens': 0}, 'prompt_tokens_details': {'audio_tokens': 0, 'cached_tokens': 0}}, 'model_name': 'gpt-4-0613', 'system_fingerprint': None, 'id': 'chatcmpl-BM9RZoVmdhPQVBtE4mQDwDutB7uX7', 'finish_reason': 'length', 'logprobs': None}, id='run-f4196b24-f7fc-43d3-86e7-4269566b63e5-0', usage_metadata={'input_tokens': 25, 'output_tokens': 100, 'total_tokens': 125, 'input_token_details': {'audio': 0, 'cache_read': 0}, 'output_token_details': {'audio': 0, 'reasoning': 0}}),\n",
       " AIMessage(content='Training a dragon, especially a Night Fury, is no small task. Here are some tips to help you:\\n\\n1. Establish Trust: Night Furies are intelligent and sensitive creatures. They need to trust you before they can be trained. Spend time with your dragon, talk to it, and show it that you mean no harm.\\n\\n2. Understand Their Behavior: Night Furies are nocturnal creatures. They are most active during the night and prefer to hunt in the dark. Understanding their behavior will help', additional_kwargs={'refusal': None}, response_metadata={'token_usage': {'completion_tokens': 100, 'prompt_tokens': 26, 'total_tokens': 126, 'completion_tokens_details': {'accepted_prediction_tokens': 0, 'audio_tokens': 0, 'reasoning_tokens': 0, 'rejected_prediction_tokens': 0}, 'prompt_tokens_details': {'audio_tokens': 0, 'cached_tokens': 0}}, 'model_name': 'gpt-4-0613', 'system_fingerprint': None, 'id': 'chatcmpl-BM9RacrWXnqfAEWNMpbjhUPNyJU9L', 'finish_reason': 'length', 'logprobs': None}, id='run-3faa5439-c637-4966-9c4b-c5ec50645691-0', usage_metadata={'input_tokens': 26, 'output_tokens': 100, 'total_tokens': 126, 'input_token_details': {'audio': 0, 'cache_read': 0}, 'output_token_details': {'audio': 0, 'reasoning': 0}})]"
      ]
     },
     "execution_count": 8,
     "metadata": {},
     "output_type": "execute_result"
    }
   ],
   "source": [
    "%%time\n",
    "chain.batch([{'pet':'dog', 'breed':'shepherd'}, \n",
    "             {'pet':'dragon', 'breed':'night fury'}])"
   ]
  },
  {
   "cell_type": "code",
   "execution_count": 9,
   "id": "7ea5f4be",
   "metadata": {},
   "outputs": [
    {
     "name": "stdout",
     "output_type": "stream",
     "text": [
      "CPU times: user 5.67 ms, sys: 3.58 ms, total: 9.25 ms\n",
      "Wall time: 5.13 s\n"
     ]
    },
    {
     "data": {
      "text/plain": [
       "AIMessage(content=\"1. Start Training Early: Begin training your shepherd dog as soon as you bring them home. This will help them understand their boundaries and what is expected of them.\\n\\n2. Consistency is Key: Be consistent with your commands and expectations. If you allow your dog to do something once, they will think it's always acceptable. \\n\\n3. Positive Reinforcement: Always reward good behavior. This can be through treats, praise, or petting. This will encourage your dog to repeat the behavior.\\n\\n\", additional_kwargs={'refusal': None}, response_metadata={'token_usage': {'completion_tokens': 100, 'prompt_tokens': 25, 'total_tokens': 125, 'completion_tokens_details': {'accepted_prediction_tokens': 0, 'audio_tokens': 0, 'reasoning_tokens': 0, 'rejected_prediction_tokens': 0}, 'prompt_tokens_details': {'audio_tokens': 0, 'cached_tokens': 0}}, 'model_name': 'gpt-4-0613', 'system_fingerprint': None, 'id': 'chatcmpl-BM9RgbChOQ7a3usqsalo0hhbQUn6N', 'finish_reason': 'length', 'logprobs': None}, id='run-1f0fb3b4-e04b-4f33-973a-b45330c5f51e-0', usage_metadata={'input_tokens': 25, 'output_tokens': 100, 'total_tokens': 125, 'input_token_details': {'audio': 0, 'cache_read': 0}, 'output_token_details': {'audio': 0, 'reasoning': 0}})"
      ]
     },
     "execution_count": 9,
     "metadata": {},
     "output_type": "execute_result"
    }
   ],
   "source": [
    "%%time\n",
    "chain.invoke({'pet':'dog', 'breed':'shepherd'})"
   ]
  },
  {
   "cell_type": "code",
   "execution_count": 10,
   "id": "f213c737",
   "metadata": {},
   "outputs": [
    {
     "name": "stdout",
     "output_type": "stream",
     "text": [
      "CPU times: user 6.16 ms, sys: 9.08 ms, total: 15.2 ms\n",
      "Wall time: 6.52 s\n"
     ]
    },
    {
     "data": {
      "text/plain": [
       "AIMessage(content='Training a dragon, especially a Night Fury, is no small task. Here are some tips to help you:\\n\\n1. Establish Trust: Night Furies are intelligent and sensitive creatures. They need to trust you before they can be trained. Spend time with your dragon, talk to it, and show it that you mean no harm.\\n\\n2. Understand Their Behavior: Night Furies are known for their stealth and agility. They are also very protective. Understand these behaviors and use them to your advantage during training', additional_kwargs={'refusal': None}, response_metadata={'token_usage': {'completion_tokens': 100, 'prompt_tokens': 26, 'total_tokens': 126, 'completion_tokens_details': {'accepted_prediction_tokens': 0, 'audio_tokens': 0, 'reasoning_tokens': 0, 'rejected_prediction_tokens': 0}, 'prompt_tokens_details': {'audio_tokens': 0, 'cached_tokens': 0}}, 'model_name': 'gpt-4-0613', 'system_fingerprint': None, 'id': 'chatcmpl-BM9Rli2PUOJWfzhliupLH6xf6nBrs', 'finish_reason': 'length', 'logprobs': None}, id='run-d80c4e1c-0b5e-4f59-845f-eb3be876e3cd-0', usage_metadata={'input_tokens': 26, 'output_tokens': 100, 'total_tokens': 126, 'input_token_details': {'audio': 0, 'cache_read': 0}, 'output_token_details': {'audio': 0, 'reasoning': 0}})"
      ]
     },
     "execution_count": 10,
     "metadata": {},
     "output_type": "execute_result"
    }
   ],
   "source": [
    "%%time\n",
    "chain.invoke({'pet':'dragon', 'breed':'night fury'})"
   ]
  },
  {
   "cell_type": "code",
   "execution_count": 11,
   "id": "156e36b4",
   "metadata": {},
   "outputs": [],
   "source": [
    "response = chain.stream({'pet':'dragon', 'breed':'night fury'})"
   ]
  },
  {
   "cell_type": "code",
   "execution_count": 12,
   "id": "8d413b49",
   "metadata": {},
   "outputs": [
    {
     "data": {
      "text/plain": [
       "AIMessageChunk(content='', additional_kwargs={}, response_metadata={}, id='run-3462bfb9-9fed-48d4-8f06-be81cd98bbb4')"
      ]
     },
     "execution_count": 12,
     "metadata": {},
     "output_type": "execute_result"
    }
   ],
   "source": [
    "next(response)"
   ]
  },
  {
   "cell_type": "code",
   "execution_count": 15,
   "id": "85e8184c",
   "metadata": {},
   "outputs": [],
   "source": [
    "for i in response:\n",
    "    print(i.content, end = '')"
   ]
  },
  {
   "cell_type": "code",
   "execution_count": null,
   "id": "1be53ad4",
   "metadata": {},
   "outputs": [],
   "source": []
  },
  {
   "cell_type": "code",
   "execution_count": null,
   "id": "82d8f004",
   "metadata": {},
   "outputs": [],
   "source": []
  }
 ],
 "metadata": {
  "kernelspec": {
   "display_name": "langchain_env_benji",
   "language": "python",
   "name": "langchain_env_benji"
  },
  "language_info": {
   "codemirror_mode": {
    "name": "ipython",
    "version": 3
   },
   "file_extension": ".py",
   "mimetype": "text/x-python",
   "name": "python",
   "nbconvert_exporter": "python",
   "pygments_lexer": "ipython3",
   "version": "3.10.10"
  }
 },
 "nbformat": 4,
 "nbformat_minor": 5
}
