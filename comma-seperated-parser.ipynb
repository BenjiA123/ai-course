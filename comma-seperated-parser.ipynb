{
 "cells": [
  {
   "cell_type": "code",
   "execution_count": 1,
   "metadata": {},
   "outputs": [],
   "source": [
    "%load_ext dotenv\n",
    "%dotenv"
   ]
  },
  {
   "cell_type": "code",
   "execution_count": 2,
   "metadata": {},
   "outputs": [],
   "source": [
    "from langchain_openai.chat_models import ChatOpenAI\n",
    "from langchain_core.messages import HumanMessage\n",
    "from langchain_core.output_parsers import CommaSeparatedListOutputParser\n",
    "\n",
    "\n",
    "from langchain.globals import set_verbose\n",
    "set_verbose(True)"
   ]
  },
  {
   "cell_type": "code",
   "execution_count": 3,
   "metadata": {},
   "outputs": [],
   "source": [
    "chat = ChatOpenAI(model_name = 'gpt-4',\n",
    "                  seed = 365,\n",
    "                  temperature = 0,\n",
    "                  max_tokens = 100)"
   ]
  },
  {
   "cell_type": "code",
   "execution_count": 12,
   "metadata": {},
   "outputs": [
    {
     "name": "stdout",
     "output_type": "stream",
     "text": [
      "Your response should be a list of comma separated values, eg: `foo, bar, baz` or `foo,bar,baz`\n"
     ]
    }
   ],
   "source": [
    "print(CommaSeparatedListOutputParser().get_format_instructions())"
   ]
  },
  {
   "cell_type": "code",
   "execution_count": 13,
   "metadata": {},
   "outputs": [],
   "source": [
    "message_h = HumanMessage(content = f'''I've recently adopted a dog. Can you suggest some dog names?\n",
    "{CommaSeparatedListOutputParser().get_format_instructions()}\n",
    "''')\n"
   ]
  },
  {
   "cell_type": "code",
   "execution_count": 14,
   "metadata": {},
   "outputs": [
    {
     "name": "stdout",
     "output_type": "stream",
     "text": [
      "content=\"I've recently adopted a dog. Can you suggest some dog names?\\nYour response should be a list of comma separated values, eg: `foo, bar, baz` or `foo,bar,baz`\\n\" additional_kwargs={} response_metadata={}\n"
     ]
    }
   ],
   "source": [
    "print(message_h)"
   ]
  },
  {
   "cell_type": "code",
   "execution_count": 15,
   "metadata": {},
   "outputs": [],
   "source": [
    "\n",
    "response = chat.invoke([message_h])"
   ]
  },
  {
   "cell_type": "code",
   "execution_count": 16,
   "metadata": {},
   "outputs": [
    {
     "name": "stdout",
     "output_type": "stream",
     "text": [
      "content='Max, Bella, Charlie, Lucy, Cooper, Daisy, Buddy, Lola, Rocky, Sadie, Zeus, Molly, Bailey, Stella, Toby, Luna, Jack, Sophie, Duke, Roxy, Oliver, Maggie, Teddy, Chloe, Winston, Ruby, Milo, Zoe, Bentley, Lily, Jasper, Rosie, Oscar, Coco, Leo, Bella, Harley, Pepper, Daisy, Ginger, Lucky, Buster, Shadow, Tucker, Princess, Bruno, Simba, Rex, Lady' additional_kwargs={'refusal': None} response_metadata={'token_usage': {'completion_tokens': 100, 'prompt_tokens': 49, 'total_tokens': 149, 'completion_tokens_details': {'accepted_prediction_tokens': 0, 'audio_tokens': 0, 'reasoning_tokens': 0, 'rejected_prediction_tokens': 0}, 'prompt_tokens_details': {'audio_tokens': 0, 'cached_tokens': 0}}, 'model_name': 'gpt-4-0613', 'system_fingerprint': None, 'id': 'chatcmpl-BLu4eleIANpdIDXb4C9WcnHlvXS8x', 'finish_reason': 'length', 'logprobs': None} id='run-19ae9880-e832-49ec-a526-db69aa644b60-0' usage_metadata={'input_tokens': 49, 'output_tokens': 100, 'total_tokens': 149, 'input_token_details': {'audio': 0, 'cache_read': 0}, 'output_token_details': {'audio': 0, 'reasoning': 0}}\n"
     ]
    }
   ],
   "source": [
    "print(response)"
   ]
  },
  {
   "cell_type": "code",
   "execution_count": 17,
   "metadata": {},
   "outputs": [],
   "source": [
    "list_output_parser = CommaSeparatedListOutputParser()"
   ]
  },
  {
   "cell_type": "code",
   "execution_count": 18,
   "metadata": {},
   "outputs": [],
   "source": [
    "response_parsed = list_output_parser.invoke(response)"
   ]
  },
  {
   "cell_type": "code",
   "execution_count": 19,
   "metadata": {},
   "outputs": [
    {
     "data": {
      "text/plain": [
       "['Max',\n",
       " 'Bella',\n",
       " 'Charlie',\n",
       " 'Lucy',\n",
       " 'Cooper',\n",
       " 'Daisy',\n",
       " 'Buddy',\n",
       " 'Lola',\n",
       " 'Rocky',\n",
       " 'Sadie',\n",
       " 'Zeus',\n",
       " 'Molly',\n",
       " 'Bailey',\n",
       " 'Stella',\n",
       " 'Toby',\n",
       " 'Luna',\n",
       " 'Jack',\n",
       " 'Sophie',\n",
       " 'Duke',\n",
       " 'Roxy',\n",
       " 'Oliver',\n",
       " 'Maggie',\n",
       " 'Teddy',\n",
       " 'Chloe',\n",
       " 'Winston',\n",
       " 'Ruby',\n",
       " 'Milo',\n",
       " 'Zoe',\n",
       " 'Bentley',\n",
       " 'Lily',\n",
       " 'Jasper',\n",
       " 'Rosie',\n",
       " 'Oscar',\n",
       " 'Coco',\n",
       " 'Leo',\n",
       " 'Bella',\n",
       " 'Harley',\n",
       " 'Pepper',\n",
       " 'Daisy',\n",
       " 'Ginger',\n",
       " 'Lucky',\n",
       " 'Buster',\n",
       " 'Shadow',\n",
       " 'Tucker',\n",
       " 'Princess',\n",
       " 'Bruno',\n",
       " 'Simba',\n",
       " 'Rex',\n",
       " 'Lady']"
      ]
     },
     "execution_count": 19,
     "metadata": {},
     "output_type": "execute_result"
    }
   ],
   "source": [
    "response_parsed"
   ]
  },
  {
   "cell_type": "code",
   "execution_count": null,
   "metadata": {},
   "outputs": [],
   "source": []
  }
 ],
 "metadata": {
  "kernelspec": {
   "display_name": "langchain_env_benji",
   "language": "python",
   "name": "langchain_env_benji"
  },
  "language_info": {
   "codemirror_mode": {
    "name": "ipython",
    "version": 3
   },
   "file_extension": ".py",
   "mimetype": "text/x-python",
   "name": "python",
   "nbconvert_exporter": "python",
   "pygments_lexer": "ipython3",
   "version": "3.10.10"
  }
 },
 "nbformat": 4,
 "nbformat_minor": 2
}
