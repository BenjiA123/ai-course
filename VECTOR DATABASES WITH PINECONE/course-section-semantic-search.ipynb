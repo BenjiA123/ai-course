{
 "cells": [
  {
   "cell_type": "markdown",
   "metadata": {},
   "source": [
    "## Courses and Sections Semantic Search"
   ]
  },
  {
   "cell_type": "code",
   "execution_count": 1,
   "metadata": {},
   "outputs": [],
   "source": [
    "%load_ext dotenv\n",
    "%dotenv"
   ]
  },
  {
   "cell_type": "code",
   "execution_count": 2,
   "metadata": {},
   "outputs": [],
   "source": [
    "import pandas as pd\n",
    "import os\n",
    "from pinecone import Pinecone, ServerlessSpec\n",
    "from dotenv import load_dotenv, find_dotenv\n",
    "import pinecone\n",
    "from sentence_transformers import SentenceTransformer"
   ]
  },
  {
   "cell_type": "code",
   "execution_count": 12,
   "metadata": {},
   "outputs": [
    {
     "data": {
      "text/plain": [
       "True"
      ]
     },
     "execution_count": 12,
     "metadata": {},
     "output_type": "execute_result"
    }
   ],
   "source": [
    "load_dotenv(find_dotenv(), override=True)"
   ]
  },
  {
   "cell_type": "code",
   "execution_count": 5,
   "metadata": {},
   "outputs": [],
   "source": [
    "files = pd.read_csv(\"course_section_descriptions.csv\", encoding=\"cp1252\")"
   ]
  },
  {
   "cell_type": "code",
   "execution_count": 6,
   "metadata": {},
   "outputs": [],
   "source": [
    "files['unique_id'] = files['course_id'].astype(str) + '-' + files['section_id'].astype(str)"
   ]
  },
  {
   "cell_type": "code",
   "execution_count": 7,
   "metadata": {},
   "outputs": [],
   "source": [
    "files['metadata'] = files.apply(\n",
    "    lambda row: {\n",
    "        'course_name': row['course_name'],\n",
    "        'section_name': row['section_name'],\n",
    "        'section_description': row['section_description'],\n",
    "    }, axis=1\n",
    ")"
   ]
  },
  {
   "cell_type": "code",
   "execution_count": 8,
   "metadata": {},
   "outputs": [],
   "source": [
    "model = SentenceTransformer('all-MiniLM-L6-v2')"
   ]
  },
  {
   "cell_type": "code",
   "execution_count": 9,
   "metadata": {},
   "outputs": [],
   "source": [
    "def create_embeddings(row):\n",
    "    combined_text = f'''\n",
    "            {row['course_name']} {row['course_technology']},\n",
    "            {row['course_description']} {row['section_name']}{row['section_description']} ,\n",
    "            '''\n",
    "    return model.encode(combined_text, show_progress_bar=False)"
   ]
  },
  {
   "cell_type": "code",
   "execution_count": 10,
   "metadata": {},
   "outputs": [],
   "source": [
    "files['embedding'] = files.apply(create_embeddings, axis=1)"
   ]
  },
  {
   "cell_type": "code",
   "execution_count": 11,
   "metadata": {},
   "outputs": [
    {
     "data": {
      "text/html": [
       "<div>\n",
       "<style scoped>\n",
       "    .dataframe tbody tr th:only-of-type {\n",
       "        vertical-align: middle;\n",
       "    }\n",
       "\n",
       "    .dataframe tbody tr th {\n",
       "        vertical-align: top;\n",
       "    }\n",
       "\n",
       "    .dataframe thead th {\n",
       "        text-align: right;\n",
       "    }\n",
       "</style>\n",
       "<table border=\"1\" class=\"dataframe\">\n",
       "  <thead>\n",
       "    <tr style=\"text-align: right;\">\n",
       "      <th></th>\n",
       "      <th>course_id</th>\n",
       "      <th>course_name</th>\n",
       "      <th>course_slug</th>\n",
       "      <th>course_description</th>\n",
       "      <th>course_description_short</th>\n",
       "      <th>course_technology</th>\n",
       "      <th>course_topic</th>\n",
       "      <th>course_instructor_quote</th>\n",
       "      <th>section_id</th>\n",
       "      <th>section_name</th>\n",
       "      <th>section_description</th>\n",
       "      <th>unique_id</th>\n",
       "      <th>metadata</th>\n",
       "      <th>embedding</th>\n",
       "    </tr>\n",
       "  </thead>\n",
       "  <tbody>\n",
       "    <tr>\n",
       "      <th>0</th>\n",
       "      <td>2</td>\n",
       "      <td>Introduction to Tableau</td>\n",
       "      <td>tableau</td>\n",
       "      <td>Tableau is now one of the most popular busines...</td>\n",
       "      <td>Teaching you how to tell compelling stories wi...</td>\n",
       "      <td>tableau</td>\n",
       "      <td>data visualization</td>\n",
       "      <td>Data scientists don’t just need to deal with d...</td>\n",
       "      <td>9</td>\n",
       "      <td>Introduction to Tableau</td>\n",
       "      <td>While Tableau is an indispensable tool in the ...</td>\n",
       "      <td>2-9</td>\n",
       "      <td>{'course_name': 'Introduction to Tableau', 'se...</td>\n",
       "      <td>[0.0028394142, -0.023841972, -0.08445899, -0.0...</td>\n",
       "    </tr>\n",
       "    <tr>\n",
       "      <th>1</th>\n",
       "      <td>2</td>\n",
       "      <td>Introduction to Tableau</td>\n",
       "      <td>tableau</td>\n",
       "      <td>Tableau is now one of the most popular busines...</td>\n",
       "      <td>Teaching you how to tell compelling stories wi...</td>\n",
       "      <td>tableau</td>\n",
       "      <td>data visualization</td>\n",
       "      <td>Data scientists don’t just need to deal with d...</td>\n",
       "      <td>10</td>\n",
       "      <td>Tableau Functionalities</td>\n",
       "      <td>In this section, you will create your first Ta...</td>\n",
       "      <td>2-10</td>\n",
       "      <td>{'course_name': 'Introduction to Tableau', 'se...</td>\n",
       "      <td>[0.009216177, -0.018384973, -0.04621931, 0.014...</td>\n",
       "    </tr>\n",
       "    <tr>\n",
       "      <th>2</th>\n",
       "      <td>2</td>\n",
       "      <td>Introduction to Tableau</td>\n",
       "      <td>tableau</td>\n",
       "      <td>Tableau is now one of the most popular busines...</td>\n",
       "      <td>Teaching you how to tell compelling stories wi...</td>\n",
       "      <td>tableau</td>\n",
       "      <td>data visualization</td>\n",
       "      <td>Data scientists don’t just need to deal with d...</td>\n",
       "      <td>11</td>\n",
       "      <td>The Tableau Exercise</td>\n",
       "      <td>This section is a practical example that will ...</td>\n",
       "      <td>2-11</td>\n",
       "      <td>{'course_name': 'Introduction to Tableau', 'se...</td>\n",
       "      <td>[0.014854905, -0.027043158, -0.040676318, 0.02...</td>\n",
       "    </tr>\n",
       "    <tr>\n",
       "      <th>3</th>\n",
       "      <td>3</td>\n",
       "      <td>The Complete Data Visualization Course with Py...</td>\n",
       "      <td>data-visualization</td>\n",
       "      <td>The Data Visualization course is designed for ...</td>\n",
       "      <td>Teaching you how to master the art of creating...</td>\n",
       "      <td>python</td>\n",
       "      <td>data visualization</td>\n",
       "      <td>Data visualization is the face of data. Many p...</td>\n",
       "      <td>12</td>\n",
       "      <td>Introduction</td>\n",
       "      <td>In this section, you will learn about the impo...</td>\n",
       "      <td>3-12</td>\n",
       "      <td>{'course_name': 'The Complete Data Visualizati...</td>\n",
       "      <td>[0.07602877, -0.02480618, -0.013246953, -0.028...</td>\n",
       "    </tr>\n",
       "    <tr>\n",
       "      <th>4</th>\n",
       "      <td>3</td>\n",
       "      <td>The Complete Data Visualization Course with Py...</td>\n",
       "      <td>data-visualization</td>\n",
       "      <td>The Data Visualization course is designed for ...</td>\n",
       "      <td>Teaching you how to master the art of creating...</td>\n",
       "      <td>python</td>\n",
       "      <td>data visualization</td>\n",
       "      <td>Data visualization is the face of data. Many p...</td>\n",
       "      <td>13</td>\n",
       "      <td>Setting Up the Environments</td>\n",
       "      <td>Here, we set up different environments for the...</td>\n",
       "      <td>3-13</td>\n",
       "      <td>{'course_name': 'The Complete Data Visualizati...</td>\n",
       "      <td>[0.08091247, -0.02829237, -0.015455507, -0.032...</td>\n",
       "    </tr>\n",
       "  </tbody>\n",
       "</table>\n",
       "</div>"
      ],
      "text/plain": [
       "   course_id  ...                                          embedding\n",
       "0          2  ...  [0.0028394142, -0.023841972, -0.08445899, -0.0...\n",
       "1          2  ...  [0.009216177, -0.018384973, -0.04621931, 0.014...\n",
       "2          2  ...  [0.014854905, -0.027043158, -0.040676318, 0.02...\n",
       "3          3  ...  [0.07602877, -0.02480618, -0.013246953, -0.028...\n",
       "4          3  ...  [0.08091247, -0.02829237, -0.015455507, -0.032...\n",
       "\n",
       "[5 rows x 14 columns]"
      ]
     },
     "execution_count": 11,
     "metadata": {},
     "output_type": "execute_result"
    }
   ],
   "source": [
    "files.head()"
   ]
  },
  {
   "cell_type": "code",
   "execution_count": 13,
   "metadata": {},
   "outputs": [],
   "source": [
    "pc = Pinecone(api_key=os.environ.get(\"PINECONE_API_KEY\"), environment= os.environ.get(\"PINECONE_ENV\"))"
   ]
  },
  {
   "cell_type": "code",
   "execution_count": 14,
   "metadata": {},
   "outputs": [],
   "source": [
    "index_name = \"ben-start-index\"\n",
    "dimension = 384\n",
    "metric = \"cosine\""
   ]
  },
  {
   "cell_type": "code",
   "execution_count": 15,
   "metadata": {},
   "outputs": [
    {
     "name": "stdout",
     "output_type": "stream",
     "text": [
      "ben-start-index successfully delete.\n"
     ]
    }
   ],
   "source": [
    "if index_name in [index.name for index in pc.list_indexes()]:\n",
    "    pc.delete_index(index_name)\n",
    "    print(f\"{index_name} successfully delete.\")\n",
    "\n",
    "else:\n",
    "    print(f\"{index_name} not in index list.\")\n"
   ]
  },
  {
   "cell_type": "code",
   "execution_count": 16,
   "metadata": {},
   "outputs": [
    {
     "data": {
      "text/plain": [
       "{\n",
       "    \"name\": \"ben-start-index\",\n",
       "    \"metric\": \"cosine\",\n",
       "    \"host\": \"ben-start-index-i2oc4nb.svc.aped-4627-b74a.pinecone.io\",\n",
       "    \"spec\": {\n",
       "        \"serverless\": {\n",
       "            \"cloud\": \"aws\",\n",
       "            \"region\": \"us-east-1\"\n",
       "        }\n",
       "    },\n",
       "    \"status\": {\n",
       "        \"ready\": true,\n",
       "        \"state\": \"Ready\"\n",
       "    },\n",
       "    \"vector_type\": \"dense\",\n",
       "    \"dimension\": 384,\n",
       "    \"deletion_protection\": \"disabled\",\n",
       "    \"tags\": null\n",
       "}"
      ]
     },
     "execution_count": 16,
     "metadata": {},
     "output_type": "execute_result"
    }
   ],
   "source": [
    "pc.create_index(\n",
    "    name=index_name,\n",
    "    dimension=dimension,\n",
    "    metric=metric,\n",
    "    spec=ServerlessSpec(\n",
    "        cloud='aws',\n",
    "        region='us-east-1'\n",
    "    )\n",
    ")"
   ]
  },
  {
   "cell_type": "code",
   "execution_count": 17,
   "metadata": {},
   "outputs": [],
   "source": [
    "index = pc.Index(index_name)"
   ]
  },
  {
   "cell_type": "code",
   "execution_count": 18,
   "metadata": {},
   "outputs": [],
   "source": [
    "vectors_to_upsert = [(row['unique_id'], row['embedding'].tolist(), row['metadata']) for index, row in files.iterrows()]"
   ]
  },
  {
   "cell_type": "code",
   "execution_count": 19,
   "metadata": {},
   "outputs": [
    {
     "name": "stdout",
     "output_type": "stream",
     "text": [
      "Data upserted to Pinecone Index  ben-start-index\n"
     ]
    }
   ],
   "source": [
    "index.upsert(vectors=vectors_to_upsert)\n",
    "\n",
    "print('Data upserted to Pinecone Index ', index_name)"
   ]
  },
  {
   "cell_type": "markdown",
   "metadata": {},
   "source": [
    "## Semantic Search"
   ]
  },
  {
   "cell_type": "code",
   "execution_count": 26,
   "metadata": {},
   "outputs": [],
   "source": [
    "query = 'regression'\n",
    "\n",
    "query_embedding= model.encode(query, show_progress_bar=False).tolist()"
   ]
  },
  {
   "cell_type": "code",
   "execution_count": 37,
   "metadata": {},
   "outputs": [],
   "source": [
    "query_results = index.query(\n",
    "    vector=[query_embedding], top_k=6, include_metadata=True\n",
    ")"
   ]
  },
  {
   "cell_type": "code",
   "execution_count": 38,
   "metadata": {},
   "outputs": [
    {
     "data": {
      "text/plain": [
       "{'matches': [{'id': '37-369',\n",
       "              'metadata': {'course_name': 'Machine Learning in Python',\n",
       "                           'section_description': 'While there are many '\n",
       "                                                  'libraries that can compute '\n",
       "                                                  'a regression model, the '\n",
       "                                                  'most numerically stable one '\n",
       "                                                  'is sklearn. It is also the '\n",
       "                                                  'preferred choice of many '\n",
       "                                                  'machine learning '\n",
       "                                                  'professionals. In this '\n",
       "                                                  'section, we implement all '\n",
       "                                                  'we know about regressions '\n",
       "                                                  'in this amazing library.',\n",
       "                           'section_name': 'Linear Regression with sklearn'},\n",
       "              'score': 0.504379392,\n",
       "              'values': []},\n",
       "             {'id': '51-465',\n",
       "              'metadata': {'course_name': 'Machine Learning in Excel',\n",
       "                           'section_description': 'Join us to create your '\n",
       "                                                  'first simple regression in '\n",
       "                                                  'Excel and get familiar with '\n",
       "                                                  'a very important '\n",
       "                                                  'statistical concept – the '\n",
       "                                                  'Ordinary least squares '\n",
       "                                                  'framework. You will learn '\n",
       "                                                  'about OLS assumptions, how '\n",
       "                                                  'to interpret regression '\n",
       "                                                  'results, as well as how to '\n",
       "                                                  'decompose variability. ',\n",
       "                           'section_name': 'Simple Linear Regression'},\n",
       "              'score': 0.48060903,\n",
       "              'values': []},\n",
       "             {'id': '51-466',\n",
       "              'metadata': {'course_name': 'Machine Learning in Excel',\n",
       "                           'section_description': 'In section 3 you will '\n",
       "                                                  'discover multiple linear '\n",
       "                                                  'regression. We will expand '\n",
       "                                                  'on the simple linear '\n",
       "                                                  'regression techniques we '\n",
       "                                                  'covered in the previous '\n",
       "                                                  'section and discuss some '\n",
       "                                                  'practical considerations '\n",
       "                                                  'such as working with dummy '\n",
       "                                                  'variables and how to make '\n",
       "                                                  'predictions with more than '\n",
       "                                                  'one independent variable '\n",
       "                                                  'using Excel. ',\n",
       "                           'section_name': 'Multiple Linear Regression'},\n",
       "              'score': 0.473860651,\n",
       "              'values': []},\n",
       "             {'id': '51-467',\n",
       "              'metadata': {'course_name': 'Machine Learning in Excel',\n",
       "                           'section_description': 'An all-in-one use case that '\n",
       "                                                  'tests your understanding of '\n",
       "                                                  'each of the concepts you '\n",
       "                                                  'mastered so far. We will '\n",
       "                                                  'focus on a property price '\n",
       "                                                  'dataset and create a linear '\n",
       "                                                  'regression model to predict '\n",
       "                                                  'house prices. ',\n",
       "                           'section_name': 'Linear Regression Practical '\n",
       "                                           'Example'},\n",
       "              'score': 0.464401066,\n",
       "              'values': []},\n",
       "             {'id': '4-34',\n",
       "              'metadata': {'course_name': 'Introduction to R Programming',\n",
       "                           'section_description': 'Regression analysis is '\n",
       "                                                  'another topic we covered '\n",
       "                                                  'earlier in our program. As '\n",
       "                                                  'with hypothesis testing, '\n",
       "                                                  'this is a great opportunity '\n",
       "                                                  'to apply the theory you '\n",
       "                                                  'have learned previously in '\n",
       "                                                  'R.',\n",
       "                           'section_name': 'Linear Regression Analysis in R'},\n",
       "              'score': 0.453677446,\n",
       "              'values': []},\n",
       "             {'id': '31-307',\n",
       "              'metadata': {'course_name': 'Deep Learning with TensorFlow',\n",
       "                           'section_description': 'It is time to build your '\n",
       "                                                  'first machine learning '\n",
       "                                                  'algorithm. We will show you '\n",
       "                                                  'how to import the relevant '\n",
       "                                                  'libraries, how to generate '\n",
       "                                                  'random input data for the '\n",
       "                                                  'model to train on, how to '\n",
       "                                                  'create the targets the '\n",
       "                                                  'model will aim at, and how '\n",
       "                                                  'to plot the training data. '\n",
       "                                                  'The mechanics of this model '\n",
       "                                                  'exemplify how all '\n",
       "                                                  'regressions you’ve run in '\n",
       "                                                  'different packages '\n",
       "                                                  '(scikit-learn) or software '\n",
       "                                                  '(Excel) work. This is an '\n",
       "                                                  'iterative method aiming to '\n",
       "                                                  'find the best-fitting line.',\n",
       "                           'section_name': 'Minimal example'},\n",
       "              'score': 0.448293239,\n",
       "              'values': []}],\n",
       " 'namespace': '',\n",
       " 'usage': {'read_units': 6}}"
      ]
     },
     "execution_count": 38,
     "metadata": {},
     "output_type": "execute_result"
    }
   ],
   "source": [
    "query_results"
   ]
  },
  {
   "cell_type": "code",
   "execution_count": 39,
   "metadata": {},
   "outputs": [],
   "source": [
    "score_threshold= 0.3"
   ]
  },
  {
   "cell_type": "code",
   "execution_count": 40,
   "metadata": {},
   "outputs": [
    {
     "name": "stdout",
     "output_type": "stream",
     "text": [
      "Matched item ID: 37-369, score: 0.504379392\n",
      "Course: Machine Learning in Python \n",
      "Section: Linear Regression with sklearn \n",
      "Description: While there are many libraries that can compute a regression model, the most numerically stable one is sklearn. It is also the preferred choice of many machine learning professionals. In this section, we implement all we know about regressions in this amazing library.\n",
      "Matched item ID: 51-465, score: 0.48060903\n",
      "Course: Machine Learning in Excel \n",
      "Section: Simple Linear Regression \n",
      "Description: Join us to create your first simple regression in Excel and get familiar with a very important statistical concept – the Ordinary least squares framework. You will learn about OLS assumptions, how to interpret regression results, as well as how to decompose variability. \n",
      "Matched item ID: 51-466, score: 0.473860651\n",
      "Course: Machine Learning in Excel \n",
      "Section: Multiple Linear Regression \n",
      "Description: In section 3 you will discover multiple linear regression. We will expand on the simple linear regression techniques we covered in the previous section and discuss some practical considerations such as working with dummy variables and how to make predictions with more than one independent variable using Excel. \n",
      "Matched item ID: 51-467, score: 0.464401066\n",
      "Course: Machine Learning in Excel \n",
      "Section: Linear Regression Practical Example \n",
      "Description: An all-in-one use case that tests your understanding of each of the concepts you mastered so far. We will focus on a property price dataset and create a linear regression model to predict house prices. \n",
      "Matched item ID: 4-34, score: 0.453677446\n",
      "Course: Introduction to R Programming \n",
      "Section: Linear Regression Analysis in R \n",
      "Description: Regression analysis is another topic we covered earlier in our program. As with hypothesis testing, this is a great opportunity to apply the theory you have learned previously in R.\n",
      "Matched item ID: 31-307, score: 0.448293239\n",
      "Course: Deep Learning with TensorFlow \n",
      "Section: Minimal example \n",
      "Description: It is time to build your first machine learning algorithm. We will show you how to import the relevant libraries, how to generate random input data for the model to train on, how to create the targets the model will aim at, and how to plot the training data. The mechanics of this model exemplify how all regressions you’ve run in different packages (scikit-learn) or software (Excel) work. This is an iterative method aiming to find the best-fitting line.\n"
     ]
    }
   ],
   "source": [
    "for match in query_results['matches']:\n",
    "\n",
    "    if match['score'] >= score_threshold:\n",
    "        course_details = match.get('metadata', {})\n",
    "        course_name = course_details.get('course_name', 'N/A')\n",
    "        section_name = course_details.get('section_name', 'N/A')\n",
    "        section_description = course_details.get('section_description', 'No description available')\n",
    "\n",
    "        print(f\"Matched item ID: {match['id']}, score: {match['score']}\")\n",
    "        print(f\"Course: {course_name} \\nSection: {section_name} \\nDescription: {section_description}\")"
   ]
  },
  {
   "cell_type": "code",
   "execution_count": null,
   "metadata": {},
   "outputs": [],
   "source": []
  }
 ],
 "metadata": {
  "kernelspec": {
   "display_name": "langchain_env_benji",
   "language": "python",
   "name": "langchain_env_benji"
  },
  "language_info": {
   "codemirror_mode": {
    "name": "ipython",
    "version": 3
   },
   "file_extension": ".py",
   "mimetype": "text/x-python",
   "name": "python",
   "nbconvert_exporter": "python",
   "pygments_lexer": "ipython3",
   "version": "3.10.16"
  }
 },
 "nbformat": 4,
 "nbformat_minor": 2
}
