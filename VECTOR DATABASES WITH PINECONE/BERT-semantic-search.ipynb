{
 "cells": [
  {
   "cell_type": "markdown",
   "metadata": {},
   "source": [
    "## Courses and Sections Semantic Search BERT"
   ]
  },
  {
   "cell_type": "code",
   "execution_count": 1,
   "metadata": {},
   "outputs": [],
   "source": [
    "%load_ext dotenv\n",
    "%dotenv"
   ]
  },
  {
   "cell_type": "code",
   "execution_count": 2,
   "metadata": {},
   "outputs": [
    {
     "name": "stderr",
     "output_type": "stream",
     "text": [
      "/opt/anaconda3/envs/langchain_env_benji/lib/python3.10/site-packages/tqdm/auto.py:21: TqdmWarning: IProgress not found. Please update jupyter and ipywidgets. See https://ipywidgets.readthedocs.io/en/stable/user_install.html\n",
      "  from .autonotebook import tqdm as notebook_tqdm\n"
     ]
    }
   ],
   "source": [
    "import pandas as pd\n",
    "import os\n",
    "from pinecone import Pinecone, ServerlessSpec\n",
    "from dotenv import load_dotenv, find_dotenv\n",
    "import pinecone\n",
    "from sentence_transformers import SentenceTransformer"
   ]
  },
  {
   "cell_type": "code",
   "execution_count": 3,
   "metadata": {},
   "outputs": [
    {
     "data": {
      "text/plain": [
       "True"
      ]
     },
     "execution_count": 3,
     "metadata": {},
     "output_type": "execute_result"
    }
   ],
   "source": [
    "load_dotenv(find_dotenv(), override=True)"
   ]
  },
  {
   "cell_type": "code",
   "execution_count": 4,
   "metadata": {},
   "outputs": [],
   "source": [
    "files = pd.read_csv(\"course_section_descriptions.csv\", encoding=\"cp1252\")"
   ]
  },
  {
   "cell_type": "code",
   "execution_count": 5,
   "metadata": {},
   "outputs": [],
   "source": [
    "files['unique_id'] = files['course_id'].astype(str) + '-' + files['section_id'].astype(str)"
   ]
  },
  {
   "cell_type": "code",
   "execution_count": 6,
   "metadata": {},
   "outputs": [],
   "source": [
    "files['metadata'] = files.apply(\n",
    "    lambda row: {\n",
    "        'course_name': row['course_name'],\n",
    "        'section_name': row['section_name'],\n",
    "        'section_description': row['section_description'],\n",
    "    }, axis=1\n",
    ")"
   ]
  },
  {
   "cell_type": "markdown",
   "metadata": {},
   "source": []
  },
  {
   "cell_type": "code",
   "execution_count": 7,
   "metadata": {},
   "outputs": [
    {
     "name": "stderr",
     "output_type": "stream",
     "text": [
      "Xet Storage is enabled for this repo, but the 'hf_xet' package is not installed. Falling back to regular HTTP download. For better performance, install the package with: `pip install huggingface_hub[hf_xet]` or `pip install hf_xet`\n"
     ]
    }
   ],
   "source": [
    "# model = SentenceTransformer('all-MiniLM-L6-v2')\n",
    "model = SentenceTransformer('multi-qa-distilbert-cos-v1')"
   ]
  },
  {
   "cell_type": "code",
   "execution_count": 8,
   "metadata": {},
   "outputs": [],
   "source": [
    "def create_embeddings(row):\n",
    "    combined_text = f'''\n",
    "            {row['course_name']} {row['course_technology']},\n",
    "            {row['course_description']} {row['section_name']}{row['section_description']} ,\n",
    "            '''\n",
    "    return model.encode(combined_text, show_progress_bar=False)"
   ]
  },
  {
   "cell_type": "code",
   "execution_count": 9,
   "metadata": {},
   "outputs": [],
   "source": [
    "files['embedding'] = files.apply(create_embeddings, axis=1)"
   ]
  },
  {
   "cell_type": "code",
   "execution_count": 10,
   "metadata": {},
   "outputs": [
    {
     "data": {
      "text/html": [
       "<div>\n",
       "<style scoped>\n",
       "    .dataframe tbody tr th:only-of-type {\n",
       "        vertical-align: middle;\n",
       "    }\n",
       "\n",
       "    .dataframe tbody tr th {\n",
       "        vertical-align: top;\n",
       "    }\n",
       "\n",
       "    .dataframe thead th {\n",
       "        text-align: right;\n",
       "    }\n",
       "</style>\n",
       "<table border=\"1\" class=\"dataframe\">\n",
       "  <thead>\n",
       "    <tr style=\"text-align: right;\">\n",
       "      <th></th>\n",
       "      <th>course_id</th>\n",
       "      <th>course_name</th>\n",
       "      <th>course_slug</th>\n",
       "      <th>course_description</th>\n",
       "      <th>course_description_short</th>\n",
       "      <th>course_technology</th>\n",
       "      <th>course_topic</th>\n",
       "      <th>course_instructor_quote</th>\n",
       "      <th>section_id</th>\n",
       "      <th>section_name</th>\n",
       "      <th>section_description</th>\n",
       "      <th>unique_id</th>\n",
       "      <th>metadata</th>\n",
       "      <th>embedding</th>\n",
       "    </tr>\n",
       "  </thead>\n",
       "  <tbody>\n",
       "    <tr>\n",
       "      <th>0</th>\n",
       "      <td>2</td>\n",
       "      <td>Introduction to Tableau</td>\n",
       "      <td>tableau</td>\n",
       "      <td>Tableau is now one of the most popular busines...</td>\n",
       "      <td>Teaching you how to tell compelling stories wi...</td>\n",
       "      <td>tableau</td>\n",
       "      <td>data visualization</td>\n",
       "      <td>Data scientists don’t just need to deal with d...</td>\n",
       "      <td>9</td>\n",
       "      <td>Introduction to Tableau</td>\n",
       "      <td>While Tableau is an indispensable tool in the ...</td>\n",
       "      <td>2-9</td>\n",
       "      <td>{'course_name': 'Introduction to Tableau', 'se...</td>\n",
       "      <td>[0.012094061, 0.048676707, 0.025640793, 0.0021...</td>\n",
       "    </tr>\n",
       "    <tr>\n",
       "      <th>1</th>\n",
       "      <td>2</td>\n",
       "      <td>Introduction to Tableau</td>\n",
       "      <td>tableau</td>\n",
       "      <td>Tableau is now one of the most popular busines...</td>\n",
       "      <td>Teaching you how to tell compelling stories wi...</td>\n",
       "      <td>tableau</td>\n",
       "      <td>data visualization</td>\n",
       "      <td>Data scientists don’t just need to deal with d...</td>\n",
       "      <td>10</td>\n",
       "      <td>Tableau Functionalities</td>\n",
       "      <td>In this section, you will create your first Ta...</td>\n",
       "      <td>2-10</td>\n",
       "      <td>{'course_name': 'Introduction to Tableau', 'se...</td>\n",
       "      <td>[0.034901984, 0.040251367, 0.019586952, 0.0168...</td>\n",
       "    </tr>\n",
       "    <tr>\n",
       "      <th>2</th>\n",
       "      <td>2</td>\n",
       "      <td>Introduction to Tableau</td>\n",
       "      <td>tableau</td>\n",
       "      <td>Tableau is now one of the most popular busines...</td>\n",
       "      <td>Teaching you how to tell compelling stories wi...</td>\n",
       "      <td>tableau</td>\n",
       "      <td>data visualization</td>\n",
       "      <td>Data scientists don’t just need to deal with d...</td>\n",
       "      <td>11</td>\n",
       "      <td>The Tableau Exercise</td>\n",
       "      <td>This section is a practical example that will ...</td>\n",
       "      <td>2-11</td>\n",
       "      <td>{'course_name': 'Introduction to Tableau', 'se...</td>\n",
       "      <td>[0.03602686, 0.024582712, 0.017501818, 0.02485...</td>\n",
       "    </tr>\n",
       "    <tr>\n",
       "      <th>3</th>\n",
       "      <td>3</td>\n",
       "      <td>The Complete Data Visualization Course with Py...</td>\n",
       "      <td>data-visualization</td>\n",
       "      <td>The Data Visualization course is designed for ...</td>\n",
       "      <td>Teaching you how to master the art of creating...</td>\n",
       "      <td>python</td>\n",
       "      <td>data visualization</td>\n",
       "      <td>Data visualization is the face of data. Many p...</td>\n",
       "      <td>12</td>\n",
       "      <td>Introduction</td>\n",
       "      <td>In this section, you will learn about the impo...</td>\n",
       "      <td>3-12</td>\n",
       "      <td>{'course_name': 'The Complete Data Visualizati...</td>\n",
       "      <td>[0.030950926, 0.03750276, 0.025479242, 0.07094...</td>\n",
       "    </tr>\n",
       "    <tr>\n",
       "      <th>4</th>\n",
       "      <td>3</td>\n",
       "      <td>The Complete Data Visualization Course with Py...</td>\n",
       "      <td>data-visualization</td>\n",
       "      <td>The Data Visualization course is designed for ...</td>\n",
       "      <td>Teaching you how to master the art of creating...</td>\n",
       "      <td>python</td>\n",
       "      <td>data visualization</td>\n",
       "      <td>Data visualization is the face of data. Many p...</td>\n",
       "      <td>13</td>\n",
       "      <td>Setting Up the Environments</td>\n",
       "      <td>Here, we set up different environments for the...</td>\n",
       "      <td>3-13</td>\n",
       "      <td>{'course_name': 'The Complete Data Visualizati...</td>\n",
       "      <td>[0.013764884, 0.048881054, 0.021354705, 0.0487...</td>\n",
       "    </tr>\n",
       "  </tbody>\n",
       "</table>\n",
       "</div>"
      ],
      "text/plain": [
       "   course_id                                        course_name  \\\n",
       "0          2                            Introduction to Tableau   \n",
       "1          2                            Introduction to Tableau   \n",
       "2          2                            Introduction to Tableau   \n",
       "3          3  The Complete Data Visualization Course with Py...   \n",
       "4          3  The Complete Data Visualization Course with Py...   \n",
       "\n",
       "          course_slug                                 course_description  \\\n",
       "0             tableau  Tableau is now one of the most popular busines...   \n",
       "1             tableau  Tableau is now one of the most popular busines...   \n",
       "2             tableau  Tableau is now one of the most popular busines...   \n",
       "3  data-visualization  The Data Visualization course is designed for ...   \n",
       "4  data-visualization  The Data Visualization course is designed for ...   \n",
       "\n",
       "                            course_description_short course_technology  \\\n",
       "0  Teaching you how to tell compelling stories wi...           tableau   \n",
       "1  Teaching you how to tell compelling stories wi...           tableau   \n",
       "2  Teaching you how to tell compelling stories wi...           tableau   \n",
       "3  Teaching you how to master the art of creating...            python   \n",
       "4  Teaching you how to master the art of creating...            python   \n",
       "\n",
       "         course_topic                            course_instructor_quote  \\\n",
       "0  data visualization  Data scientists don’t just need to deal with d...   \n",
       "1  data visualization  Data scientists don’t just need to deal with d...   \n",
       "2  data visualization  Data scientists don’t just need to deal with d...   \n",
       "3  data visualization  Data visualization is the face of data. Many p...   \n",
       "4  data visualization  Data visualization is the face of data. Many p...   \n",
       "\n",
       "   section_id                 section_name  \\\n",
       "0           9      Introduction to Tableau   \n",
       "1          10      Tableau Functionalities   \n",
       "2          11         The Tableau Exercise   \n",
       "3          12                 Introduction   \n",
       "4          13  Setting Up the Environments   \n",
       "\n",
       "                                 section_description unique_id  \\\n",
       "0  While Tableau is an indispensable tool in the ...       2-9   \n",
       "1  In this section, you will create your first Ta...      2-10   \n",
       "2  This section is a practical example that will ...      2-11   \n",
       "3  In this section, you will learn about the impo...      3-12   \n",
       "4  Here, we set up different environments for the...      3-13   \n",
       "\n",
       "                                            metadata  \\\n",
       "0  {'course_name': 'Introduction to Tableau', 'se...   \n",
       "1  {'course_name': 'Introduction to Tableau', 'se...   \n",
       "2  {'course_name': 'Introduction to Tableau', 'se...   \n",
       "3  {'course_name': 'The Complete Data Visualizati...   \n",
       "4  {'course_name': 'The Complete Data Visualizati...   \n",
       "\n",
       "                                           embedding  \n",
       "0  [0.012094061, 0.048676707, 0.025640793, 0.0021...  \n",
       "1  [0.034901984, 0.040251367, 0.019586952, 0.0168...  \n",
       "2  [0.03602686, 0.024582712, 0.017501818, 0.02485...  \n",
       "3  [0.030950926, 0.03750276, 0.025479242, 0.07094...  \n",
       "4  [0.013764884, 0.048881054, 0.021354705, 0.0487...  "
      ]
     },
     "execution_count": 10,
     "metadata": {},
     "output_type": "execute_result"
    }
   ],
   "source": [
    "files.head()"
   ]
  },
  {
   "cell_type": "code",
   "execution_count": 11,
   "metadata": {},
   "outputs": [],
   "source": [
    "pc = Pinecone(api_key=os.environ.get(\"PINECONE_API_KEY\"), environment= os.environ.get(\"PINECONE_ENV\"))"
   ]
  },
  {
   "cell_type": "code",
   "execution_count": 21,
   "metadata": {},
   "outputs": [],
   "source": [
    "index_name = \"benji-bert-index\"\n",
    "dimension = 768\n",
    "metric = \"cosine\""
   ]
  },
  {
   "cell_type": "code",
   "execution_count": 19,
   "metadata": {},
   "outputs": [
    {
     "name": "stdout",
     "output_type": "stream",
     "text": [
      "benji_bert_index not in index list.\n"
     ]
    }
   ],
   "source": [
    "if index_name in [index.name for index in pc.list_indexes()]:\n",
    "    pc.delete_index(index_name)\n",
    "    print(f\"{index_name} successfully delete.\")\n",
    "\n",
    "else:\n",
    "    print(f\"{index_name} not in index list.\")\n"
   ]
  },
  {
   "cell_type": "code",
   "execution_count": 22,
   "metadata": {},
   "outputs": [
    {
     "data": {
      "text/plain": [
       "{\n",
       "    \"name\": \"benji-bert-index\",\n",
       "    \"metric\": \"cosine\",\n",
       "    \"host\": \"benji-bert-index-i2oc4nb.svc.aped-4627-b74a.pinecone.io\",\n",
       "    \"spec\": {\n",
       "        \"serverless\": {\n",
       "            \"cloud\": \"aws\",\n",
       "            \"region\": \"us-east-1\"\n",
       "        }\n",
       "    },\n",
       "    \"status\": {\n",
       "        \"ready\": true,\n",
       "        \"state\": \"Ready\"\n",
       "    },\n",
       "    \"vector_type\": \"dense\",\n",
       "    \"dimension\": 768,\n",
       "    \"deletion_protection\": \"disabled\",\n",
       "    \"tags\": null\n",
       "}"
      ]
     },
     "execution_count": 22,
     "metadata": {},
     "output_type": "execute_result"
    }
   ],
   "source": [
    "pc.create_index(\n",
    "    name=index_name,\n",
    "    dimension=dimension,\n",
    "    metric=metric,\n",
    "    spec=ServerlessSpec(\n",
    "        cloud='aws',\n",
    "        region='us-east-1'\n",
    "    )\n",
    ")"
   ]
  },
  {
   "cell_type": "code",
   "execution_count": 23,
   "metadata": {},
   "outputs": [],
   "source": [
    "index = pc.Index(index_name)"
   ]
  },
  {
   "cell_type": "code",
   "execution_count": 24,
   "metadata": {},
   "outputs": [],
   "source": [
    "vectors_to_upsert = [(row['unique_id'], row['embedding'].tolist(), row['metadata']) for index, row in files.iterrows()]"
   ]
  },
  {
   "cell_type": "code",
   "execution_count": 25,
   "metadata": {},
   "outputs": [
    {
     "name": "stdout",
     "output_type": "stream",
     "text": [
      "Data upserted to Pinecone Index  benji-bert-index\n"
     ]
    }
   ],
   "source": [
    "index.upsert(vectors=vectors_to_upsert)\n",
    "\n",
    "print('Data upserted to Pinecone Index ', index_name)"
   ]
  },
  {
   "cell_type": "markdown",
   "metadata": {},
   "source": [
    "## Semantic Search"
   ]
  },
  {
   "cell_type": "code",
   "execution_count": 26,
   "metadata": {},
   "outputs": [],
   "source": [
    "query = 'regression'\n",
    "\n",
    "query_embedding= model.encode(query, show_progress_bar=False).tolist()"
   ]
  },
  {
   "cell_type": "code",
   "execution_count": 27,
   "metadata": {},
   "outputs": [],
   "source": [
    "query_results = index.query(\n",
    "    vector=[query_embedding], top_k=6, include_metadata=True\n",
    ")"
   ]
  },
  {
   "cell_type": "code",
   "execution_count": 28,
   "metadata": {},
   "outputs": [
    {
     "data": {
      "text/plain": [
       "{'matches': [], 'namespace': '', 'usage': {'read_units': 1}}"
      ]
     },
     "execution_count": 28,
     "metadata": {},
     "output_type": "execute_result"
    }
   ],
   "source": [
    "query_results"
   ]
  },
  {
   "cell_type": "code",
   "execution_count": 29,
   "metadata": {},
   "outputs": [],
   "source": [
    "score_threshold= 0.3"
   ]
  },
  {
   "cell_type": "code",
   "execution_count": 30,
   "metadata": {},
   "outputs": [],
   "source": [
    "for match in query_results['matches']:\n",
    "\n",
    "    if match['score'] >= score_threshold:\n",
    "        course_details = match.get('metadata', {})\n",
    "        course_name = course_details.get('course_name', 'N/A')\n",
    "        section_name = course_details.get('section_name', 'N/A')\n",
    "        section_description = course_details.get('section_description', 'No description available')\n",
    "\n",
    "        print(f\"Matched item ID: {match['id']}, score: {match['score']}\")\n",
    "        print(f\"Course: {course_name} \\nSection: {section_name} \\nDescription: {section_description}\")"
   ]
  },
  {
   "cell_type": "code",
   "execution_count": null,
   "metadata": {},
   "outputs": [],
   "source": []
  }
 ],
 "metadata": {
  "kernelspec": {
   "display_name": "langchain_env_benji",
   "language": "python",
   "name": "langchain_env_benji"
  },
  "language_info": {
   "codemirror_mode": {
    "name": "ipython",
    "version": 3
   },
   "file_extension": ".py",
   "mimetype": "text/x-python",
   "name": "python",
   "nbconvert_exporter": "python",
   "pygments_lexer": "ipython3",
   "version": "3.10.16"
  }
 },
 "nbformat": 4,
 "nbformat_minor": 2
}
