{
 "cells": [
  {
   "cell_type": "markdown",
   "id": "4160b6b8",
   "metadata": {},
   "source": [
    "# Batching"
   ]
  },
  {
   "cell_type": "code",
   "execution_count": 1,
   "id": "ef5c5f5e",
   "metadata": {},
   "outputs": [],
   "source": [
    "%load_ext dotenv\n",
    "%dotenv"
   ]
  },
  {
   "cell_type": "code",
   "execution_count": 2,
   "id": "4d8e2ede",
   "metadata": {},
   "outputs": [],
   "source": [
    "from langchain_core.prompts import ChatPromptTemplate\n",
    "from langchain_openai import ChatOpenAI"
   ]
  },
  {
   "cell_type": "code",
   "execution_count": 3,
   "id": "c7679ea5",
   "metadata": {},
   "outputs": [],
   "source": [
    "chat_template = ChatPromptTemplate.from_messages([\n",
    "    ('human', \n",
    "     \"I've recently adopted a {pet} which is a {breed}. Could you suggest several training tips?\")])"
   ]
  },
  {
   "cell_type": "code",
   "execution_count": 4,
   "id": "5e7ca601",
   "metadata": {},
   "outputs": [
    {
     "name": "stderr",
     "output_type": "stream",
     "text": [
      "/opt/anaconda3/envs/langchain_env_benji/lib/python3.10/site-packages/IPython/core/interactiveshell.py:3519: UserWarning: Parameters {'seed'} should be specified explicitly. Instead they were passed in as part of `model_kwargs` parameter.\n",
      "  if await self.run_code(code, result, async_=asy):\n"
     ]
    }
   ],
   "source": [
    "chat = ChatOpenAI(model_name = 'gpt-4', \n",
    "                  model_kwargs = {'seed':365},\n",
    "                  temperature = 0,\n",
    "                  max_tokens = 100)"
   ]
  },
  {
   "cell_type": "code",
   "execution_count": 5,
   "id": "fcd4f11e",
   "metadata": {},
   "outputs": [],
   "source": [
    "chain = chat_template | chat"
   ]
  },
  {
   "cell_type": "code",
   "execution_count": 6,
   "id": "965839a4",
   "metadata": {},
   "outputs": [
    {
     "data": {
      "text/plain": [
       "AIMessage(content=\"1. Start Training Early: Begin training your shepherd dog as soon as you bring him home. This breed is intelligent and eager to learn, so starting early will help establish good behavior.\\n\\n2. Consistency is Key: Be consistent with your commands and expectations. If you allow your dog to do something once, he will think it's always acceptable. \\n\\n3. Positive Reinforcement: Always use positive reinforcement when training. This could be in the form of treats, praise, or petting. Never\", additional_kwargs={'refusal': None}, response_metadata={'token_usage': {'completion_tokens': 100, 'prompt_tokens': 25, 'total_tokens': 125, 'completion_tokens_details': {'accepted_prediction_tokens': 0, 'audio_tokens': 0, 'reasoning_tokens': 0, 'rejected_prediction_tokens': 0}, 'prompt_tokens_details': {'audio_tokens': 0, 'cached_tokens': 0}}, 'model_name': 'gpt-4-0613', 'system_fingerprint': None, 'id': 'chatcmpl-BM9Md7ugH8gS9BegmQgCz21qTiorC', 'finish_reason': 'length', 'logprobs': None}, id='run-44956b51-01ac-406a-91d1-c1774e29dd81-0', usage_metadata={'input_tokens': 25, 'output_tokens': 100, 'total_tokens': 125, 'input_token_details': {'audio': 0, 'cache_read': 0}, 'output_token_details': {'audio': 0, 'reasoning': 0}})"
      ]
     },
     "execution_count": 6,
     "metadata": {},
     "output_type": "execute_result"
    }
   ],
   "source": [
    "chain.invoke({'pet':'dog', 'breed':'shepherd'})"
   ]
  },
  {
   "cell_type": "code",
   "execution_count": 7,
   "id": "820d3960",
   "metadata": {},
   "outputs": [
    {
     "name": "stdout",
     "output_type": "stream",
     "text": [
      "CPU times: user 13 ms, sys: 7.7 ms, total: 20.6 ms\n",
      "Wall time: 7.1 s\n"
     ]
    },
    {
     "data": {
      "text/plain": [
       "[AIMessage(content='1. Start Training Early: Begin training your shepherd dog as soon as you bring them home. This will help them understand what is expected of them and will make the training process easier.\\n\\n2. Consistency is Key: Be consistent with your commands and the way you train your dog. This will help them understand what you want from them and will make the training process smoother.\\n\\n3. Use Positive Reinforcement: Always reward your dog for good behavior. This could be in the form of treats, praise', additional_kwargs={'refusal': None}, response_metadata={'token_usage': {'completion_tokens': 100, 'prompt_tokens': 25, 'total_tokens': 125, 'completion_tokens_details': {'accepted_prediction_tokens': 0, 'audio_tokens': 0, 'reasoning_tokens': 0, 'rejected_prediction_tokens': 0}, 'prompt_tokens_details': {'audio_tokens': 0, 'cached_tokens': 0}}, 'model_name': 'gpt-4-0613', 'system_fingerprint': None, 'id': 'chatcmpl-BM9Mk4W0e045b3uE8CVexHhnnEgOi', 'finish_reason': 'length', 'logprobs': None}, id='run-bb097404-38e1-43f6-9dcd-e072c84b4010-0', usage_metadata={'input_tokens': 25, 'output_tokens': 100, 'total_tokens': 125, 'input_token_details': {'audio': 0, 'cache_read': 0}, 'output_token_details': {'audio': 0, 'reasoning': 0}}),\n",
       " AIMessage(content='Training a dragon, especially a Night Fury, is no small task. Here are some tips to help you:\\n\\n1. Establish Trust: Night Furies are intelligent and sensitive creatures. They need to trust you before they can be trained. Spend time with your dragon, talk to it, and show it that you mean no harm.\\n\\n2. Understand Their Behavior: Night Furies are known for their stealth and agility. They are also very protective. Understand these behaviors and use them to your advantage during training', additional_kwargs={'refusal': None}, response_metadata={'token_usage': {'completion_tokens': 100, 'prompt_tokens': 26, 'total_tokens': 126, 'completion_tokens_details': {'accepted_prediction_tokens': 0, 'audio_tokens': 0, 'reasoning_tokens': 0, 'rejected_prediction_tokens': 0}, 'prompt_tokens_details': {'audio_tokens': 0, 'cached_tokens': 0}}, 'model_name': 'gpt-4-0613', 'system_fingerprint': None, 'id': 'chatcmpl-BM9MkQ6VCJplVKidiTCH3hUJbZq0i', 'finish_reason': 'length', 'logprobs': None}, id='run-a0214cef-95d5-4695-954d-e1941a2346fb-0', usage_metadata={'input_tokens': 26, 'output_tokens': 100, 'total_tokens': 126, 'input_token_details': {'audio': 0, 'cache_read': 0}, 'output_token_details': {'audio': 0, 'reasoning': 0}})]"
      ]
     },
     "execution_count": 7,
     "metadata": {},
     "output_type": "execute_result"
    }
   ],
   "source": [
    "%%time\n",
    "chain.batch([{'pet':'dog', 'breed':'shepherd'}, \n",
    "             {'pet':'dragon', 'breed':'night fury'}])"
   ]
  },
  {
   "cell_type": "code",
   "execution_count": 8,
   "id": "7ea5f4be",
   "metadata": {},
   "outputs": [
    {
     "name": "stdout",
     "output_type": "stream",
     "text": [
      "CPU times: user 6.34 ms, sys: 3.83 ms, total: 10.2 ms\n",
      "Wall time: 6.97 s\n"
     ]
    },
    {
     "data": {
      "text/plain": [
       "AIMessage(content=\"1. Start Training Early: Begin training your shepherd dog as soon as you bring him home. This breed is intelligent and eager to learn, so starting early will help establish good behavior.\\n\\n2. Consistency is Key: Be consistent with your commands and expectations. If you allow your dog to do something once, he will think it's always acceptable. \\n\\n3. Positive Reinforcement: Always use positive reinforcement when training. This could be in the form of treats, praise, or petting. Never\", additional_kwargs={'refusal': None}, response_metadata={'token_usage': {'completion_tokens': 100, 'prompt_tokens': 25, 'total_tokens': 125, 'completion_tokens_details': {'accepted_prediction_tokens': 0, 'audio_tokens': 0, 'reasoning_tokens': 0, 'rejected_prediction_tokens': 0}, 'prompt_tokens_details': {'audio_tokens': 0, 'cached_tokens': 0}}, 'model_name': 'gpt-4-0613', 'system_fingerprint': None, 'id': 'chatcmpl-BM9MrNGQTNHwzfqshlLMCvOdbp4UQ', 'finish_reason': 'length', 'logprobs': None}, id='run-173b3b7b-8aa6-491f-9f4e-d10d4cdabc12-0', usage_metadata={'input_tokens': 25, 'output_tokens': 100, 'total_tokens': 125, 'input_token_details': {'audio': 0, 'cache_read': 0}, 'output_token_details': {'audio': 0, 'reasoning': 0}})"
      ]
     },
     "execution_count": 8,
     "metadata": {},
     "output_type": "execute_result"
    }
   ],
   "source": [
    "%%time\n",
    "chain.invoke({'pet':'dog', 'breed':'shepherd'})"
   ]
  },
  {
   "cell_type": "code",
   "execution_count": 9,
   "id": "f213c737",
   "metadata": {},
   "outputs": [
    {
     "name": "stdout",
     "output_type": "stream",
     "text": [
      "CPU times: user 6.66 ms, sys: 2.61 ms, total: 9.27 ms\n",
      "Wall time: 5.66 s\n"
     ]
    },
    {
     "data": {
      "text/plain": [
       "AIMessage(content='Training a dragon, especially a Night Fury, is no small task. Here are some tips to help you:\\n\\n1. Establish Trust: Night Furies are intelligent and sensitive creatures. They need to trust you before they can be trained. Spend time with your dragon, talk to it, and show it that you mean no harm.\\n\\n2. Understand Their Behavior: Night Furies are nocturnal creatures. They are most active during the night and prefer to hunt and play in the dark. Understanding their behavior', additional_kwargs={'refusal': None}, response_metadata={'token_usage': {'completion_tokens': 100, 'prompt_tokens': 26, 'total_tokens': 126, 'completion_tokens_details': {'accepted_prediction_tokens': 0, 'audio_tokens': 0, 'reasoning_tokens': 0, 'rejected_prediction_tokens': 0}, 'prompt_tokens_details': {'audio_tokens': 0, 'cached_tokens': 0}}, 'model_name': 'gpt-4-0613', 'system_fingerprint': None, 'id': 'chatcmpl-BM9MyLcYQtYn18e7E2CKjHBSypk36', 'finish_reason': 'length', 'logprobs': None}, id='run-bc5da1f3-a641-4eeb-80ae-45fc990a3cea-0', usage_metadata={'input_tokens': 26, 'output_tokens': 100, 'total_tokens': 126, 'input_token_details': {'audio': 0, 'cache_read': 0}, 'output_token_details': {'audio': 0, 'reasoning': 0}})"
      ]
     },
     "execution_count": 9,
     "metadata": {},
     "output_type": "execute_result"
    }
   ],
   "source": [
    "%%time\n",
    "chain.invoke({'pet':'dragon', 'breed':'night fury'})"
   ]
  },
  {
   "cell_type": "code",
   "execution_count": null,
   "id": "156e36b4",
   "metadata": {},
   "outputs": [],
   "source": []
  },
  {
   "cell_type": "code",
   "execution_count": null,
   "id": "8d413b49",
   "metadata": {},
   "outputs": [],
   "source": []
  }
 ],
 "metadata": {
  "kernelspec": {
   "display_name": "langchain_env_benji",
   "language": "python",
   "name": "langchain_env_benji"
  },
  "language_info": {
   "codemirror_mode": {
    "name": "ipython",
    "version": 3
   },
   "file_extension": ".py",
   "mimetype": "text/x-python",
   "name": "python",
   "nbconvert_exporter": "python",
   "pygments_lexer": "ipython3",
   "version": "3.10.10"
  }
 },
 "nbformat": 4,
 "nbformat_minor": 5
}
