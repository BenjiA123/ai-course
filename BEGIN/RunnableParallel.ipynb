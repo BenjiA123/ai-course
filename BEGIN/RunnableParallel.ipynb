{
 "cells": [
  {
   "cell_type": "markdown",
   "id": "f1c2bb50",
   "metadata": {},
   "source": [
    "# RunnableParallel"
   ]
  },
  {
   "cell_type": "code",
   "execution_count": 13,
   "id": "8777fb21",
   "metadata": {},
   "outputs": [
    {
     "name": "stdout",
     "output_type": "stream",
     "text": [
      "The dotenv extension is already loaded. To reload it, use:\n",
      "  %reload_ext dotenv\n"
     ]
    }
   ],
   "source": [
    "%load_ext dotenv\n",
    "%dotenv"
   ]
  },
  {
   "cell_type": "code",
   "execution_count": 14,
   "id": "4f860633",
   "metadata": {},
   "outputs": [],
   "source": [
    "from langchain_core.prompts import ChatPromptTemplate\n",
    "from langchain_openai import ChatOpenAI\n",
    "from langchain_core.output_parsers import StrOutputParser\n",
    "from langchain_core.runnables import RunnableParallel"
   ]
  },
  {
   "cell_type": "code",
   "execution_count": 15,
   "id": "aa5e0455",
   "metadata": {},
   "outputs": [],
   "source": [
    "chat_template_books = ChatPromptTemplate.from_template(\n",
    "    '''\n",
    "    Suggest three of the best intermediate-level {programming language} books. \n",
    "    Answer only by listing the books.\n",
    "    '''\n",
    ")\n",
    "\n",
    "chat_template_projects = ChatPromptTemplate.from_template(\n",
    "    '''\n",
    "    Suggest three interesting {programming language} projects suitable for intermediate-level programmers. \n",
    "    Answer only by listing the projects.\n",
    "    '''\n",
    ")\n",
    "\n",
    "chat_template_time = ChatPromptTemplate.from_template(\n",
    "    '''\n",
    "    I'm an intermediate level programmer,\n",
    "\n",
    "    Consider the following literature:\n",
    "    {books}\n",
    "\n",
    "    Also, consider the following projects:\n",
    "    {projects}\n",
    "\n",
    "    Roughly how much time would it take me to complete the literature and the projects?\n",
    "    '''\n",
    ")"
   ]
  },
  {
   "cell_type": "code",
   "execution_count": 16,
   "id": "f36d1816",
   "metadata": {},
   "outputs": [
    {
     "name": "stderr",
     "output_type": "stream",
     "text": [
      "/opt/anaconda3/envs/langchain_env_benji/lib/python3.10/site-packages/IPython/core/interactiveshell.py:3519: UserWarning: Parameters {'seed'} should be specified explicitly. Instead they were passed in as part of `model_kwargs` parameter.\n",
      "  if await self.run_code(code, result, async_=asy):\n"
     ]
    }
   ],
   "source": [
    "chat = ChatOpenAI(model_name = 'gpt-4', \n",
    "                  model_kwargs = {'seed':365},\n",
    "                  temperature = 0,\n",
    "                  max_tokens = 500)"
   ]
  },
  {
   "cell_type": "code",
   "execution_count": 17,
   "id": "15d5489d",
   "metadata": {},
   "outputs": [],
   "source": [
    "string_parser = StrOutputParser()"
   ]
  },
  {
   "cell_type": "code",
   "execution_count": 18,
   "id": "7a0d5064",
   "metadata": {},
   "outputs": [],
   "source": [
    "chain_books = chat_template_books | chat | string_parser\n",
    "\n",
    "chain_projects = chat_template_projects | chat | string_parser"
   ]
  },
  {
   "cell_type": "code",
   "execution_count": 19,
   "id": "c2261d3c",
   "metadata": {},
   "outputs": [],
   "source": [
    "chain_parallel = RunnableParallel({'books':chain_books, 'projects':chain_projects})"
   ]
  },
  {
   "cell_type": "code",
   "execution_count": 20,
   "id": "632eef42",
   "metadata": {},
   "outputs": [
    {
     "data": {
      "text/plain": [
       "{'books': '1. \"Fluent Python: Clear, Concise, and Effective Programming\" by Luciano Ramalho\\n2. \"Python Cookbook: Recipes for Mastering Python 3\" by David Beazley and Brian K. Jones\\n3. \"Effective Python: 90 Specific Ways to Write Better Python\" by Brett Slatkin',\n",
       " 'projects': '1. Building a Web Scraper using BeautifulSoup.\\n2. Developing a simple Machine Learning model using Scikit-learn.\\n3. Creating a basic web application using Django or Flask.'}"
      ]
     },
     "execution_count": 20,
     "metadata": {},
     "output_type": "execute_result"
    }
   ],
   "source": [
    "chain_parallel.invoke({'programming language':'Python'})"
   ]
  },
  {
   "cell_type": "code",
   "execution_count": 21,
   "id": "14f1d1ee",
   "metadata": {},
   "outputs": [
    {
     "name": "stdout",
     "output_type": "stream",
     "text": [
      "            +-------------------------------+              \n",
      "            | Parallel<books,projects>Input |              \n",
      "            +-------------------------------+              \n",
      "                   ***               ***                   \n",
      "                ***                     ***                \n",
      "              **                           **              \n",
      "+--------------------+              +--------------------+ \n",
      "| ChatPromptTemplate |              | ChatPromptTemplate | \n",
      "+--------------------+              +--------------------+ \n",
      "           *                                   *           \n",
      "           *                                   *           \n",
      "           *                                   *           \n",
      "    +------------+                      +------------+     \n",
      "    | ChatOpenAI |                      | ChatOpenAI |     \n",
      "    +------------+                      +------------+     \n",
      "           *                                   *           \n",
      "           *                                   *           \n",
      "           *                                   *           \n",
      "  +-----------------+                 +-----------------+  \n",
      "  | StrOutputParser |                 | StrOutputParser |  \n",
      "  +-----------------+                 +-----------------+  \n",
      "                   ***               ***                   \n",
      "                      ***         ***                      \n",
      "                         **     **                         \n",
      "            +--------------------------------+             \n",
      "            | Parallel<books,projects>Output |             \n",
      "            +--------------------------------+             \n"
     ]
    }
   ],
   "source": [
    "chain_parallel.get_graph().print_ascii()"
   ]
  },
  {
   "cell_type": "code",
   "execution_count": 22,
   "id": "7fdd6f09",
   "metadata": {},
   "outputs": [],
   "source": [
    "chain_time = (RunnableParallel({'books':chain_books, 'projects':chain_projects})\n",
    "              | chat_template_time | chat |string_parser) \n",
    "\n"
   ]
  },
  {
   "cell_type": "code",
   "execution_count": 23,
   "id": "e360bbce",
   "metadata": {},
   "outputs": [
    {
     "data": {
      "text/plain": [
       "'The time it takes to complete the literature and the projects can vary greatly depending on several factors such as your current skill level, the amount of time you can dedicate each day, your reading speed, and how quickly you grasp new concepts. \\n\\nHowever, as a rough estimate:\\n\\n1. \"Fluent Python: Clear, Concise, and Effective Programming\" - This book is around 800 pages. If you read and practice for about 2 hours a day, it might take you around 1-2 months to complete.\\n\\n2. \"Python Cookbook: Recipes for Mastering Python 3\" - This book is around 700 pages. Again, if you read and practice for about 2 hours a day, it might take you around 1-2 months to complete.\\n\\n3. \"Effective Python: 90 Specific Ways to Write Better Python\" - This book is around 230 pages. If you read and practice for about 2 hours a day, it might take you around 2-3 weeks to complete.\\n\\nAs for the projects:\\n\\n1. Building a Web Scraper using BeautifulSoup and Requests - If you work on it for about 2-3 hours a day, it might take you around 1-2 weeks to complete, depending on the complexity of the website you\\'re scraping.\\n\\n2. Developing a simple Machine Learning application using Scikit-learn - If you work on it for about 2-3 hours a day, it might take you around 2-3 weeks to complete, depending on the complexity of the application.\\n\\n3. Creating a GUI-based application using Tkinter or PyQt - If you work on it for about 2-3 hours a day, it might take you around 2-3 weeks to complete, depending on the complexity of the application.\\n\\nSo in total, if you\\'re dedicating about 2-3 hours a day, it might take you around 5-7 months to complete all the literature and projects. This is just a rough estimate and the actual time could be more or less depending on the factors mentioned earlier.'"
      ]
     },
     "execution_count": 23,
     "metadata": {},
     "output_type": "execute_result"
    }
   ],
   "source": [
    "chain_time.invoke({'programming language': 'Python'})"
   ]
  },
  {
   "cell_type": "code",
   "execution_count": 24,
   "id": "a43afbbb",
   "metadata": {},
   "outputs": [
    {
     "name": "stdout",
     "output_type": "stream",
     "text": [
      "            +-------------------------------+              \n",
      "            | Parallel<books,projects>Input |              \n",
      "            +-------------------------------+              \n",
      "                   ***               ***                   \n",
      "                ***                     ***                \n",
      "              **                           **              \n",
      "+--------------------+              +--------------------+ \n",
      "| ChatPromptTemplate |              | ChatPromptTemplate | \n",
      "+--------------------+              +--------------------+ \n",
      "           *                                   *           \n",
      "           *                                   *           \n",
      "           *                                   *           \n",
      "    +------------+                      +------------+     \n",
      "    | ChatOpenAI |                      | ChatOpenAI |     \n",
      "    +------------+                      +------------+     \n",
      "           *                                   *           \n",
      "           *                                   *           \n",
      "           *                                   *           \n",
      "  +-----------------+                 +-----------------+  \n",
      "  | StrOutputParser |                 | StrOutputParser |  \n",
      "  +-----------------+                 +-----------------+  \n",
      "                   ***               ***                   \n",
      "                      ***         ***                      \n",
      "                         **     **                         \n",
      "            +--------------------------------+             \n",
      "            | Parallel<books,projects>Output |             \n",
      "            +--------------------------------+             \n",
      "                             *                             \n",
      "                             *                             \n",
      "                             *                             \n",
      "                  +--------------------+                   \n",
      "                  | ChatPromptTemplate |                   \n",
      "                  +--------------------+                   \n",
      "                             *                             \n",
      "                             *                             \n",
      "                             *                             \n",
      "                      +------------+                       \n",
      "                      | ChatOpenAI |                       \n",
      "                      +------------+                       \n",
      "                             *                             \n",
      "                             *                             \n",
      "                             *                             \n",
      "                    +-----------------+                    \n",
      "                    | StrOutputParser |                    \n",
      "                    +-----------------+                    \n",
      "                             *                             \n",
      "                             *                             \n",
      "                             *                             \n",
      "                +-----------------------+                  \n",
      "                | StrOutputParserOutput |                  \n",
      "                +-----------------------+                  \n"
     ]
    }
   ],
   "source": [
    "chain_time.get_graph().print_ascii()"
   ]
  },
  {
   "cell_type": "code",
   "execution_count": null,
   "id": "0a89193a",
   "metadata": {},
   "outputs": [],
   "source": []
  }
 ],
 "metadata": {
  "kernelspec": {
   "display_name": "langchain_env_benji",
   "language": "python",
   "name": "langchain_env_benji"
  },
  "language_info": {
   "codemirror_mode": {
    "name": "ipython",
    "version": 3
   },
   "file_extension": ".py",
   "mimetype": "text/x-python",
   "name": "python",
   "nbconvert_exporter": "python",
   "pygments_lexer": "ipython3",
   "version": "3.10.10"
  }
 },
 "nbformat": 4,
 "nbformat_minor": 5
}
