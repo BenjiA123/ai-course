{
 "cells": [
  {
   "cell_type": "markdown",
   "metadata": {},
   "source": [
    "## LangChain Hub"
   ]
  },
  {
   "cell_type": "code",
   "execution_count": 1,
   "metadata": {},
   "outputs": [],
   "source": [
    "%load_ext dotenv\n",
    "%dotenv"
   ]
  },
  {
   "cell_type": "code",
   "execution_count": 2,
   "metadata": {},
   "outputs": [],
   "source": [
    "from langchain_community.utilities import WikipediaAPIWrapper\n",
    "from langchain_community.tools import WikipediaQueryRun\n",
    "from langchain_community.vectorstores import Chroma\n",
    "\n",
    "from langchain_openai.embeddings import OpenAIEmbeddings\n",
    "from langchain_openai.chat_models import ChatOpenAI\n",
    "\n",
    "from langchain.tools.retriever import create_retriever_tool\n",
    "from langchain.tools import tool\n",
    "\n",
    "from langchain import hub\n",
    "\n",
    "from platform import python_version\n",
    "\n",
    "from langchain.agents import create_tool_calling_agent, AgentExecutor"
   ]
  },
  {
   "cell_type": "code",
   "execution_count": 3,
   "metadata": {},
   "outputs": [],
   "source": [
    "wikipedia_tool = WikipediaQueryRun(api_wrapper=WikipediaAPIWrapper())"
   ]
  },
  {
   "cell_type": "code",
   "execution_count": 4,
   "metadata": {},
   "outputs": [
    {
     "name": "stderr",
     "output_type": "stream",
     "text": [
      "/var/folders/l0/l8bzvy196wn95cjygzkqtsfw0000gn/T/ipykernel_61588/675396890.py:1: LangChainDeprecationWarning: The class `Chroma` was deprecated in LangChain 0.2.9 and will be removed in 1.0. An updated version of the class exists in the :class:`~langchain-chroma package and should be used instead. To use it run `pip install -U :class:`~langchain-chroma` and import as `from :class:`~langchain_chroma import Chroma``.\n",
      "  vectorstore = Chroma(\n"
     ]
    }
   ],
   "source": [
    "vectorstore = Chroma(\n",
    "    persist_directory= '../vector-store-local',\n",
    "    embedding_function=OpenAIEmbeddings()\n",
    "    )\n",
    "\n",
    "\n",
    "retriever = vectorstore.as_retriever(\n",
    "    search_type = 'mmr', search_kwargs = {'k': 3, 'lambda_mult': 0.7}\n",
    ")\n",
    "\n",
    "retriever_tool = create_retriever_tool(\n",
    "    retriever=retriever,\n",
    "    name=\"Introduction-to-Data-and-Data-Science-Course-Lectures\",\n",
    "    description='''For any questions regarding the\n",
    "    Introduction to Data and Data Science course, you must use this tool.'''\n",
    "    )\n",
    "\n",
    "\n",
    "\n",
    "\n"
   ]
  },
  {
   "cell_type": "code",
   "execution_count": 5,
   "metadata": {},
   "outputs": [],
   "source": [
    "@tool\n",
    "def get_python_version() -> str:\n",
    "    '''Useful for questions regarding the version of Python recently used.'''\n",
    "    return python_version()"
   ]
  },
  {
   "cell_type": "code",
   "execution_count": 6,
   "metadata": {},
   "outputs": [],
   "source": [
    "tools = [wikipedia_tool, retriever_tool, get_python_version]"
   ]
  },
  {
   "cell_type": "code",
   "execution_count": 7,
   "metadata": {},
   "outputs": [],
   "source": [
    "# tools[0].name,\n",
    "# tools[2].name,\n"
   ]
  },
  {
   "cell_type": "code",
   "execution_count": 8,
   "metadata": {},
   "outputs": [
    {
     "name": "stderr",
     "output_type": "stream",
     "text": [
      "/opt/anaconda3/envs/langchain_env_benji/lib/python3.10/site-packages/IPython/core/interactiveshell.py:3519: UserWarning: Parameters {'seed'} should be specified explicitly. Instead they were passed in as part of `model_kwargs` parameter.\n",
      "  if await self.run_code(code, result, async_=asy):\n"
     ]
    }
   ],
   "source": [
    "chat = ChatOpenAI(model='gpt-4-0125-preview',\n",
    "                  temperature=0,\n",
    "                  model_kwargs={'seed':365})"
   ]
  },
  {
   "cell_type": "code",
   "execution_count": 9,
   "metadata": {},
   "outputs": [
    {
     "name": "stderr",
     "output_type": "stream",
     "text": [
      "/opt/anaconda3/envs/langchain_env_benji/lib/python3.10/site-packages/langsmith/client.py:241: LangSmithMissingAPIKeyWarning: API key must be provided when using hosted LangSmith API\n",
      "  warnings.warn(\n"
     ]
    }
   ],
   "source": [
    "chat_prompt_template = hub.pull('hwchase17/openai-tools-agent')"
   ]
  },
  {
   "cell_type": "code",
   "execution_count": 10,
   "metadata": {},
   "outputs": [
    {
     "data": {
      "text/plain": [
       "ChatPromptTemplate(input_variables=['agent_scratchpad', 'input'], optional_variables=['chat_history'], input_types={'chat_history': list[typing.Annotated[typing.Union[typing.Annotated[langchain_core.messages.ai.AIMessage, Tag(tag='ai')], typing.Annotated[langchain_core.messages.human.HumanMessage, Tag(tag='human')], typing.Annotated[langchain_core.messages.chat.ChatMessage, Tag(tag='chat')], typing.Annotated[langchain_core.messages.system.SystemMessage, Tag(tag='system')], typing.Annotated[langchain_core.messages.function.FunctionMessage, Tag(tag='function')], typing.Annotated[langchain_core.messages.tool.ToolMessage, Tag(tag='tool')], typing.Annotated[langchain_core.messages.ai.AIMessageChunk, Tag(tag='AIMessageChunk')], typing.Annotated[langchain_core.messages.human.HumanMessageChunk, Tag(tag='HumanMessageChunk')], typing.Annotated[langchain_core.messages.chat.ChatMessageChunk, Tag(tag='ChatMessageChunk')], typing.Annotated[langchain_core.messages.system.SystemMessageChunk, Tag(tag='SystemMessageChunk')], typing.Annotated[langchain_core.messages.function.FunctionMessageChunk, Tag(tag='FunctionMessageChunk')], typing.Annotated[langchain_core.messages.tool.ToolMessageChunk, Tag(tag='ToolMessageChunk')]], FieldInfo(annotation=NoneType, required=True, discriminator=Discriminator(discriminator=<function _get_type at 0x10aaa3d00>, custom_error_type=None, custom_error_message=None, custom_error_context=None))]], 'agent_scratchpad': list[typing.Annotated[typing.Union[typing.Annotated[langchain_core.messages.ai.AIMessage, Tag(tag='ai')], typing.Annotated[langchain_core.messages.human.HumanMessage, Tag(tag='human')], typing.Annotated[langchain_core.messages.chat.ChatMessage, Tag(tag='chat')], typing.Annotated[langchain_core.messages.system.SystemMessage, Tag(tag='system')], typing.Annotated[langchain_core.messages.function.FunctionMessage, Tag(tag='function')], typing.Annotated[langchain_core.messages.tool.ToolMessage, Tag(tag='tool')], typing.Annotated[langchain_core.messages.ai.AIMessageChunk, Tag(tag='AIMessageChunk')], typing.Annotated[langchain_core.messages.human.HumanMessageChunk, Tag(tag='HumanMessageChunk')], typing.Annotated[langchain_core.messages.chat.ChatMessageChunk, Tag(tag='ChatMessageChunk')], typing.Annotated[langchain_core.messages.system.SystemMessageChunk, Tag(tag='SystemMessageChunk')], typing.Annotated[langchain_core.messages.function.FunctionMessageChunk, Tag(tag='FunctionMessageChunk')], typing.Annotated[langchain_core.messages.tool.ToolMessageChunk, Tag(tag='ToolMessageChunk')]], FieldInfo(annotation=NoneType, required=True, discriminator=Discriminator(discriminator=<function _get_type at 0x10aaa3d00>, custom_error_type=None, custom_error_message=None, custom_error_context=None))]]}, partial_variables={'chat_history': []}, metadata={'lc_hub_owner': 'hwchase17', 'lc_hub_repo': 'openai-tools-agent', 'lc_hub_commit_hash': 'c18672812789a3b9697656dd539edf0120285dcae36396d0b548ae42a4ed66f5'}, messages=[SystemMessagePromptTemplate(prompt=PromptTemplate(input_variables=[], input_types={}, partial_variables={}, template='You are a helpful assistant'), additional_kwargs={}), MessagesPlaceholder(variable_name='chat_history', optional=True), HumanMessagePromptTemplate(prompt=PromptTemplate(input_variables=['input'], input_types={}, partial_variables={}, template='{input}'), additional_kwargs={}), MessagesPlaceholder(variable_name='agent_scratchpad')])"
      ]
     },
     "execution_count": 10,
     "metadata": {},
     "output_type": "execute_result"
    }
   ],
   "source": [
    "chat_prompt_template"
   ]
  },
  {
   "cell_type": "code",
   "execution_count": 11,
   "metadata": {},
   "outputs": [
    {
     "name": "stdout",
     "output_type": "stream",
     "text": [
      "================================\u001b[1m System Message \u001b[0m================================\n",
      "\n",
      "You are a helpful assistant\n",
      "\n",
      "=============================\u001b[1m Messages Placeholder \u001b[0m=============================\n",
      "\n",
      "\u001b[33;1m\u001b[1;3m{chat_history}\u001b[0m\n",
      "\n",
      "================================\u001b[1m Human Message \u001b[0m=================================\n",
      "\n",
      "\u001b[33;1m\u001b[1;3m{input}\u001b[0m\n",
      "\n",
      "=============================\u001b[1m Messages Placeholder \u001b[0m=============================\n",
      "\n",
      "\u001b[33;1m\u001b[1;3m{agent_scratchpad}\u001b[0m\n"
     ]
    }
   ],
   "source": [
    "chat_prompt_template.pretty_print()"
   ]
  },
  {
   "cell_type": "code",
   "execution_count": 12,
   "metadata": {},
   "outputs": [],
   "source": [
    "agent = create_tool_calling_agent(llm=chat,\n",
    "                                  tools=tools,\n",
    "                                  prompt=chat_prompt_template)"
   ]
  },
  {
   "cell_type": "code",
   "execution_count": 13,
   "metadata": {},
   "outputs": [],
   "source": [
    "agent_executor = AgentExecutor(agent=agent,\n",
    "                               tools=tools,\n",
    "                               verbose=True,\n",
    "                               return_intermediate_steps=True)"
   ]
  },
  {
   "cell_type": "code",
   "execution_count": 15,
   "metadata": {},
   "outputs": [
    {
     "name": "stdout",
     "output_type": "stream",
     "text": [
      "\n",
      "\n",
      "\u001b[1m> Entering new AgentExecutor chain...\u001b[0m\n",
      "\u001b[32;1m\u001b[1;3m\n",
      "Invoking: `get_python_version` with `{}`\n",
      "\n",
      "\n",
      "\u001b[0m\u001b[38;5;200m\u001b[1;3m3.10.16\u001b[0m\u001b[32;1m\u001b[1;3mThe version of Python you are currently using is 3.10.16.\u001b[0m\n",
      "\n",
      "\u001b[1m> Finished chain.\u001b[0m\n"
     ]
    }
   ],
   "source": [
    "response = agent_executor.invoke({'input':\"Could you tell me the version of Python I am currently using?\"})"
   ]
  },
  {
   "cell_type": "code",
   "execution_count": 16,
   "metadata": {},
   "outputs": [
    {
     "name": "stdout",
     "output_type": "stream",
     "text": [
      "{'input': 'Could you tell me the version of Python I am currently using?', 'output': 'The version of Python you are currently using is 3.10.16.', 'intermediate_steps': [(ToolAgentAction(tool='get_python_version', tool_input={}, log='\\nInvoking: `get_python_version` with `{}`\\n\\n\\n', message_log=[AIMessageChunk(content='', additional_kwargs={'tool_calls': [{'index': 0, 'id': 'call_WdzSq4jphyasBFIZraXkCXdW', 'function': {'arguments': '{}', 'name': 'get_python_version'}, 'type': 'function'}]}, response_metadata={'finish_reason': 'tool_calls', 'model_name': 'gpt-4-0125-preview'}, id='run-038d5403-53f6-46c4-b3cf-08389fb38a54', tool_calls=[{'name': 'get_python_version', 'args': {}, 'id': 'call_WdzSq4jphyasBFIZraXkCXdW', 'type': 'tool_call'}], tool_call_chunks=[{'name': 'get_python_version', 'args': '{}', 'id': 'call_WdzSq4jphyasBFIZraXkCXdW', 'index': 0, 'type': 'tool_call_chunk'}])], tool_call_id='call_WdzSq4jphyasBFIZraXkCXdW'), '3.10.16')]}\n"
     ]
    }
   ],
   "source": [
    "print(response)"
   ]
  },
  {
   "cell_type": "code",
   "execution_count": 17,
   "metadata": {},
   "outputs": [
    {
     "name": "stdout",
     "output_type": "stream",
     "text": [
      "\n",
      "\n",
      "\u001b[1m> Entering new AgentExecutor chain...\u001b[0m\n",
      "\u001b[32;1m\u001b[1;3m\n",
      "Invoking: `Introduction-to-Data-and-Data-Science-Course-Lectures` with `{'query': 'programming languages for data science'}`\n",
      "\n",
      "\n",
      "\u001b[0m\u001b[33;1m\u001b[1;3mThus, we need a lot of computational power, and we can expect people to use the languages similar to those in the big data column. Apart from R, Python, and MATLAB, other, faster languages are used like Java, JavaScript, C, C++, and Scala. Cool. What we said may be wonderful, but that’s not all! By using one or more programming languages, people create application software or, as they are sometimes called, software solutions, that are adjusted for specific business needs\n",
      "\n",
      "As you can see from the infographic, R, and Python are the two most popular tools across all columns. Their biggest advantage is that they can manipulate data and are integrated within multiple data and data science software platforms. They are not just suitable for mathematical and statistical computations. In other words, R, and Python are adaptable. They can solve a wide variety of business and data-related problems from beginning to the end\n",
      "\n",
      "Great! We hope we gave you a good idea about the level of applicability of the most frequently used programming and software tools in the field of data science. Thank you for watching!\u001b[0m\u001b[32;1m\u001b[1;3m\n",
      "Invoking: `wikipedia` with `{'query': 'R programming language'}`\n",
      "\n",
      "\n",
      "\u001b[0m\u001b[36;1m\u001b[1;3mPage: R (programming language)\n",
      "Summary: R is a programming language for statistical computing and data visualization. It's been adopted in the fields of data mining, bioinformatics and data analysis.\n",
      "The core R language is augmented by a large number of extension packages, containing reusable code, documentation, and sample data.\n",
      "R software is open-source and free software. R is licensed by the GNU Project and available under the GNU General Public License. It's written primarily in C, Fortran, and R itself. Precompiled executables are provided for various operating systems.\n",
      "As an interpreted language, R has a native command line interface. Moreover, multiple third-party graphical user interfaces are available, such as RStudio—an integrated development environment—and Jupyter—a notebook interface.\n",
      "\n",
      "\n",
      "\n",
      "Page: C (programming language)\n",
      "Summary: C (pronounced  – like the letter c) is a general-purpose programming language. It was created in the 1970s by Dennis Ritchie and remains very widely used and influential. By design, C's features cleanly reflect the capabilities of the targeted CPUs. It has found lasting use in operating systems code (especially in kernels), device drivers, and protocol stacks, but its use in application software has been decreasing. C is commonly used on computer architectures that range from the largest supercomputers to the smallest microcontrollers and embedded systems.\n",
      "A successor to the programming language B, C was originally developed at Bell Labs by Ritchie between 1972 and 1973 to construct utilities running on Unix. It was applied to re-implementing the kernel of the Unix operating system. During the 1980s, C gradually gained popularity. It has become one of the most widely used programming languages, with C compilers available for practically all modern computer architectures and operating systems. The book The C Programming Language, co-authored by the original language designer, served for many years as the de facto standard for the language. C has been standardized since 1989 by the American National Standards Institute (ANSI) and, subsequently, jointly by the International Organization for Standardization (ISO) and the International Electrotechnical Commission (IEC).\n",
      "C is an imperative procedural language, supporting structured programming, lexical variable scope, and recursion, with a static type system. It was designed to be compiled to provide low-level access to memory and language constructs that map efficiently to machine instructions, all with minimal runtime support. Despite its low-level capabilities, the language was designed to encourage cross-platform programming. A standards-compliant C program written with portability in mind can be compiled for a wide variety of computer platforms and operating systems with few changes to its source code.\n",
      "Since 2000, C has consistently ranked among the top four languages in the TIOBE index, a measure of the popularity of programming languages.\n",
      "\n",
      "\n",
      "\n",
      "Page: The C Programming Language\n",
      "Summary: The C Programming Language (sometimes termed K&R, after its authors' initials) is a computer programming book written by Brian Kernighan and Dennis Ritchie, the latter of whom originally designed and implemented the C programming language, as well as co-designed the Unix operating system with which development of the language was closely intertwined.  The book was central to the development and popularization of C and is still widely read and used today.  Because the book was co-authored by the original language designer, and because the first edition of the book served for many years as the de facto standard for the language, the book was regarded by many to be the authoritative reference on C.\n",
      "\n",
      "\u001b[0m\u001b[32;1m\u001b[1;3m\n",
      "Invoking: `wikipedia` with `{'query': 'Python programming language'}`\n",
      "\n",
      "\n",
      "\u001b[0m\u001b[36;1m\u001b[1;3mPage: Python (programming language)\n",
      "Summary: Python is a high-level, general-purpose programming language. Its design philosophy emphasizes code readability with the use of significant indentation.\n",
      "Python is dynamically type-checked and garbage-collected. It supports multiple programming paradigms, including structured (particularly procedural), object-oriented and functional programming. It is often described as a \"batteries included\" language due to its comprehensive standard library.\n",
      "Guido van Rossum began working on Python in the late 1980s as a successor to the ABC programming language and first released it in 1991 as Python 0.9.0. Python 2.0 was released in 2000. Python 3.0, released in 2008, was a major revision not completely backward-compatible with earlier versions. Python 2.7.18, released in 2020, was the last release of Python 2.\n",
      "Python consistently ranks as one of the most popular programming languages, and has gained widespread use in the machine learning community.\n",
      "\n",
      "\n",
      "\n",
      "Page: History of Python\n",
      "Summary: The programming language Python was conceived in the late 1980s, and its implementation was started in December 1989 by Guido van Rossum at CWI in the Netherlands as a successor to ABC capable of exception handling and interfacing with the Amoeba operating system. Van Rossum is Python's principal author, and his continuing central role in deciding the direction of Python is reflected in the title given to him by the Python community, Benevolent Dictator for Life (BDFL). (However, Van Rossum stepped down as leader on July 12, 2018.). Python was named after the BBC TV show Monty Python's Flying Circus.\n",
      "Python 2.0 was released on October 16, 2000, with many major new features, such as list comprehensions, cycle-detecting garbage collector (in addition to reference counting) and reference counting, for memory management and support for Unicode, along with a change to the development process itself, with a shift to a more transparent and community-backed process.\n",
      "Python 3.0, a major, backwards-incompatible release, was released on December 3, 2008 after a long period of testing. Many of its major features have also been backported to the backwards-compatible, though now-unsupported, Python 2.6 and 2.7. Releases of Python 3 include the 2to3 utility, which automates the translation of Python 2 code to Python 3.\n",
      "\n",
      "Page: Mojo (programming language)\n",
      "Summary: Mojo is a programming language in the Python family that is currently under development. It is available both in browsers via Jupyter notebooks, and locally on Linux and macOS. Mojo aims to combine the usability of a high-level programming language, specifically Python, with the performance of a system programming language such as C++, Rust, and Zig. As of February 2025, the Mojo compiler is closed source with an open source standard library. Modular, the company behind Mojo, has stated an intent to eventually open source the Mojo language, as it matures.\n",
      "Mojo builds on the Multi-Level Intermediate Representation (MLIR) compiler software framework instead of directly on the lower level LLVM compiler framework, as do many languages such as Julia, Swift, Clang, and Rust. MLIR is a newer compiler framework that allows Mojo to exploit higher level compiler passes unavailable in LLVM alone, and allows Mojo to compile down and target more than only central processing units (CPUs), including producing code that can run on graphics  processing units (GPUs), Tensor Processing Units (TPUs), application-specific integrated circuits (ASICs) and other accelerators. It can also often more effectively use certain types of CPU optimizations directly, like single instruction, multiple data (SIMD) with minor intervention by a developer, as occurs in many other languages. According to Jeremy Howard of fast.ai, Mojo can be seen as \"syntax sugar for MLIR\" and for that reason Mojo is well optimized for applications like artificial intelligence (AI).\u001b[0m\u001b[32;1m\u001b[1;3m\n",
      "Invoking: `wikipedia` with `{'query': 'MATLAB'}`\n",
      "\n",
      "\n",
      "\u001b[0m\u001b[36;1m\u001b[1;3mPage: MATLAB\n",
      "Summary: MATLAB (an abbreviation of \"MATrix LABoratory\") is a proprietary multi-paradigm programming language and numeric computing environment developed by MathWorks. MATLAB allows matrix manipulations, plotting of functions and data, implementation of algorithms, creation of user interfaces, and interfacing with programs written in other languages.\n",
      "Although MATLAB is intended primarily for numeric computing, an optional toolbox uses the MuPAD symbolic engine allowing access to symbolic computing abilities. An additional package, Simulink, adds graphical multi-domain simulation and model-based design for dynamic and embedded systems.\n",
      "As of 2020, MATLAB has more than four million users worldwide. They come from various backgrounds of engineering, science, and economics. As of 2017, more than 5000 global colleges and universities use MATLAB to support instruction and research.\n",
      "\n",
      "\n",
      "\n",
      "Page: MathWorks\n",
      "Summary: The MathWorks, Inc. is an American privately held corporation that specializes in mathematical computing software.  Its major products include MATLAB and Simulink, which support data analysis and simulation.\n",
      "\n",
      "Page: Psychtoolbox for MATLAB\n",
      "Summary: Psychophysics Toolbox Version 3 (PTB-3) is a collection of free functions for MATLAB or GNU Octave intended for use by neuroscience and vision researchers. It synthesizes and shows accurately controlled visual and auditory stimuli and interacts with the observer. It has at least twelve thousand active users, an active forum, and many citations. PTB-3 is based on the Psychophysics Toolbox Version 2 (PTB-2) but its MATLAB extensions (in C) were rewritten to be more modular and use OpenGL. Psychtoolbox is offered alongside many alternative toolboxes for programming Psychophysics and Psychology experiments, such as PsychoPy for Python or jsPsych for JavaScript.\n",
      "Psychophysics Toolbox Version 3 is free software. Most of it is released under the MIT License, but parts of it are licensed under other open source and free software licenses.\u001b[0m\u001b[32;1m\u001b[1;3m\n",
      "Invoking: `wikipedia` with `{'query': 'Java programming language'}`\n",
      "\n",
      "\n",
      "\u001b[0m\u001b[36;1m\u001b[1;3mPage: Java (programming language)\n",
      "Summary: Java is a high-level, general-purpose, memory-safe, object-oriented programming language. It is intended to let programmers write once, run anywhere (WORA), meaning that compiled Java code can run on all platforms that support Java without the need to recompile. Java applications are typically compiled to bytecode that can run on any Java virtual machine (JVM) regardless of the underlying computer architecture. The syntax of Java is similar to C and C++, but has fewer low-level facilities than either of them. The Java runtime provides dynamic capabilities (such as reflection and runtime code modification) that are typically not available in traditional compiled languages.\n",
      "Java gained popularity shortly after its release, and has been a popular programming language since then. Java was the third most popular programming language in 2022 according to GitHub. Although still widely popular, there has been a gradual decline in use of Java in recent years with other languages using JVM gaining popularity.\n",
      "Java was designed by James Gosling at Sun Microsystems. It was released in May 1995 as a core component of Sun's Java platform. The original and reference implementation Java compilers, virtual machines, and class libraries were released by Sun under proprietary licenses. As of May 2007, in compliance with the specifications of the Java Community Process, Sun had relicensed most of its Java technologies under the GPL-2.0-only license. Oracle, which bought Sun in 2010, offers its own HotSpot Java Virtual Machine. However, the official reference implementation is the OpenJDK JVM, which is open-source software used by most developers and is the default JVM for almost all Linux distributions.\n",
      "Java 24 is the version current as of March 2025. Java 8, 11, 17, and 21 are long-term support versions still under maintenance.\n",
      "\n",
      "Page: JavaScript\n",
      "Summary: JavaScript ( ), often abbreviated as JS, is a programming language and core technology of the World Wide Web, alongside HTML and CSS. Ninety-nine percent of websites use JavaScript on the client side for webpage behavior.\n",
      "Web browsers have a dedicated JavaScript engine that executes the client code. These engines are also utilized in some servers and a variety of apps. The most popular runtime system for non-browser usage is Node.js.\n",
      "JavaScript is a high-level, often just-in-time–compiled language that conforms to the ECMAScript standard. It has dynamic typing, prototype-based object-orientation, and first-class functions. It is multi-paradigm, supporting event-driven, functional, and imperative programming styles. It has application programming interfaces (APIs) for working with text, dates, regular expressions, standard data structures, and the Document Object Model (DOM).\n",
      "The ECMAScript standard does not include any input/output (I/O), such as networking, storage, or graphics facilities. In practice, the web browser or other runtime system provides JavaScript APIs for I/O.\n",
      "Although Java and JavaScript are similar in name and syntax, the two languages are distinct and differ greatly in design.\n",
      "\n",
      "\n",
      "\n",
      "Page: Kotlin (programming language)\n",
      "Summary: Kotlin () is a cross-platform, statically typed, general-purpose high-level programming language with type inference. Kotlin is designed to interoperate fully with Java, and the JVM version of Kotlin's standard library depends on the Java Class Library,\n",
      "but type inference allows its syntax to be more concise. Kotlin mainly targets the JVM, but also compiles to JavaScript (e.g., for frontend web applications using React) or native code via LLVM (e.g., for native iOS apps sharing business logic with Android apps). Language development costs are borne by JetBrains, while the Kotlin Foundation protects the Kotlin trademark.\n",
      "On 7 May 2019, Google announced that the Kotlin programming language had become its preferred language for Android app developers. Since the release of Android Studio 3.0 in October 2017, Kotlin has\u001b[0m\u001b[32;1m\u001b[1;3m\n",
      "Invoking: `wikipedia` with `{'query': 'JavaScript'}`\n",
      "\n",
      "\n",
      "\u001b[0m\u001b[36;1m\u001b[1;3mPage: JavaScript\n",
      "Summary: JavaScript ( ), often abbreviated as JS, is a programming language and core technology of the World Wide Web, alongside HTML and CSS. Ninety-nine percent of websites use JavaScript on the client side for webpage behavior.\n",
      "Web browsers have a dedicated JavaScript engine that executes the client code. These engines are also utilized in some servers and a variety of apps. The most popular runtime system for non-browser usage is Node.js.\n",
      "JavaScript is a high-level, often just-in-time–compiled language that conforms to the ECMAScript standard. It has dynamic typing, prototype-based object-orientation, and first-class functions. It is multi-paradigm, supporting event-driven, functional, and imperative programming styles. It has application programming interfaces (APIs) for working with text, dates, regular expressions, standard data structures, and the Document Object Model (DOM).\n",
      "The ECMAScript standard does not include any input/output (I/O), such as networking, storage, or graphics facilities. In practice, the web browser or other runtime system provides JavaScript APIs for I/O.\n",
      "Although Java and JavaScript are similar in name and syntax, the two languages are distinct and differ greatly in design.\n",
      "\n",
      "\n",
      "\n",
      "Page: JavaScript engine\n",
      "Summary: A JavaScript engine is a software component that executes JavaScript code. The first JavaScript engines were mere interpreters, but all relevant modern engines use just-in-time compilation for improved performance. JavaScript engines are typically developed by web browser vendors, and every major browser has one. In a browser, the JavaScript engine runs in concert with the rendering engine via the Document Object Model and Web IDL bindings. However, the use of JavaScript engines is not limited to browsers; for example, the V8 engine is a core component of the Node.js runtime system. Since ECMAScript is the standardized specification of JavaScript, ECMAScript engine is another name for these implementations. With the advent of WebAssembly, some engines can also execute this code in the same sandbox as regular JavaScript code.\n",
      "\n",
      "Page: JavaScript syntax\n",
      "Summary: The syntax of JavaScript is the set of rules that define a correctly structured JavaScript program.\n",
      "The examples below make use of the log function of the console object present in most browsers for standard text output.\n",
      "The JavaScript standard library lacks an official standard text output function (with the exception of document.write). Given that JavaScript is mainly used for client-side scripting within modern web browsers, and that almost all Web browsers provide the alert function, alert can also be used, but is not commonly used.\u001b[0m\u001b[32;1m\u001b[1;3m\n",
      "Invoking: `wikipedia` with `{'query': 'C programming language'}`\n",
      "\n",
      "\n",
      "\u001b[0m\u001b[36;1m\u001b[1;3mPage: C (programming language)\n",
      "Summary: C (pronounced  – like the letter c) is a general-purpose programming language. It was created in the 1970s by Dennis Ritchie and remains very widely used and influential. By design, C's features cleanly reflect the capabilities of the targeted CPUs. It has found lasting use in operating systems code (especially in kernels), device drivers, and protocol stacks, but its use in application software has been decreasing. C is commonly used on computer architectures that range from the largest supercomputers to the smallest microcontrollers and embedded systems.\n",
      "A successor to the programming language B, C was originally developed at Bell Labs by Ritchie between 1972 and 1973 to construct utilities running on Unix. It was applied to re-implementing the kernel of the Unix operating system. During the 1980s, C gradually gained popularity. It has become one of the most widely used programming languages, with C compilers available for practically all modern computer architectures and operating systems. The book The C Programming Language, co-authored by the original language designer, served for many years as the de facto standard for the language. C has been standardized since 1989 by the American National Standards Institute (ANSI) and, subsequently, jointly by the International Organization for Standardization (ISO) and the International Electrotechnical Commission (IEC).\n",
      "C is an imperative procedural language, supporting structured programming, lexical variable scope, and recursion, with a static type system. It was designed to be compiled to provide low-level access to memory and language constructs that map efficiently to machine instructions, all with minimal runtime support. Despite its low-level capabilities, the language was designed to encourage cross-platform programming. A standards-compliant C program written with portability in mind can be compiled for a wide variety of computer platforms and operating systems with few changes to its source code.\n",
      "Since 2000, C has consistently ranked among the top four languages in the TIOBE index, a measure of the popularity of programming languages.\n",
      "\n",
      "\n",
      "\n",
      "Page: The C Programming Language\n",
      "Summary: The C Programming Language (sometimes termed K&R, after its authors' initials) is a computer programming book written by Brian Kernighan and Dennis Ritchie, the latter of whom originally designed and implemented the C programming language, as well as co-designed the Unix operating system with which development of the language was closely intertwined.  The book was central to the development and popularization of C and is still widely read and used today.  Because the book was co-authored by the original language designer, and because the first edition of the book served for many years as the de facto standard for the language, the book was regarded by many to be the authoritative reference on C.\n",
      "\n",
      "\n",
      "\n",
      "Page: C Sharp (programming language)\n",
      "Summary: C# ( see SHARP) is a general-purpose high-level programming language supporting multiple paradigms. C# encompasses static typing,: 4  strong typing, lexically scoped, imperative, declarative, functional, generic,: 22  object-oriented (class-based), and component-oriented programming disciplines.\n",
      "The principal inventors of the C# programming language were Anders Hejlsberg, Scott Wiltamuth, and Peter Golde from Microsoft. It was first widely distributed in July 2000 and was later approved as an international standard by Ecma (ECMA-334) in 2002 and ISO/IEC (ISO/IEC 23270 and 20619) in 2003. Microsoft introduced C# along with .NET Framework and Microsoft Visual Studio, both of which are technically speaking, closed-source. At the time, Microsoft had no open-source products. Four years later, in 2004, a free and open-source project called Microsoft Mono began, providing a cross-platform compiler and runtime environment for the C# programming language. A decade later, Microsoft released Visual Studio Code (code editor), Rosl\u001b[0m\u001b[32;1m\u001b[1;3m\n",
      "Invoking: `wikipedia` with `{'query': 'C++ programming language'}`\n",
      "\n",
      "\n",
      "\u001b[0m\u001b[36;1m\u001b[1;3mPage: C (programming language)\n",
      "Summary: C (pronounced  – like the letter c) is a general-purpose programming language. It was created in the 1970s by Dennis Ritchie and remains very widely used and influential. By design, C's features cleanly reflect the capabilities of the targeted CPUs. It has found lasting use in operating systems code (especially in kernels), device drivers, and protocol stacks, but its use in application software has been decreasing. C is commonly used on computer architectures that range from the largest supercomputers to the smallest microcontrollers and embedded systems.\n",
      "A successor to the programming language B, C was originally developed at Bell Labs by Ritchie between 1972 and 1973 to construct utilities running on Unix. It was applied to re-implementing the kernel of the Unix operating system. During the 1980s, C gradually gained popularity. It has become one of the most widely used programming languages, with C compilers available for practically all modern computer architectures and operating systems. The book The C Programming Language, co-authored by the original language designer, served for many years as the de facto standard for the language. C has been standardized since 1989 by the American National Standards Institute (ANSI) and, subsequently, jointly by the International Organization for Standardization (ISO) and the International Electrotechnical Commission (IEC).\n",
      "C is an imperative procedural language, supporting structured programming, lexical variable scope, and recursion, with a static type system. It was designed to be compiled to provide low-level access to memory and language constructs that map efficiently to machine instructions, all with minimal runtime support. Despite its low-level capabilities, the language was designed to encourage cross-platform programming. A standards-compliant C program written with portability in mind can be compiled for a wide variety of computer platforms and operating systems with few changes to its source code.\n",
      "Since 2000, C has consistently ranked among the top four languages in the TIOBE index, a measure of the popularity of programming languages.\n",
      "\n",
      "\n",
      "\n",
      "Page: C Sharp (programming language)\n",
      "Summary: C# ( see SHARP) is a general-purpose high-level programming language supporting multiple paradigms. C# encompasses static typing,: 4  strong typing, lexically scoped, imperative, declarative, functional, generic,: 22  object-oriented (class-based), and component-oriented programming disciplines.\n",
      "The principal inventors of the C# programming language were Anders Hejlsberg, Scott Wiltamuth, and Peter Golde from Microsoft. It was first widely distributed in July 2000 and was later approved as an international standard by Ecma (ECMA-334) in 2002 and ISO/IEC (ISO/IEC 23270 and 20619) in 2003. Microsoft introduced C# along with .NET Framework and Microsoft Visual Studio, both of which are technically speaking, closed-source. At the time, Microsoft had no open-source products. Four years later, in 2004, a free and open-source project called Microsoft Mono began, providing a cross-platform compiler and runtime environment for the C# programming language. A decade later, Microsoft released Visual Studio Code (code editor), Roslyn (compiler), and the unified .NET platform (software framework), all of which support C# and are free, open-source, and cross-platform. Mono also joined Microsoft but was not merged into .NET.\n",
      "As of January 2025, the most recent stable version of the language is C# 13.0, which was released in 2024 in .NET 9.0\n",
      "\n",
      "\n",
      "\n",
      "Page: The C Programming Language\n",
      "Summary: The C Programming Language (sometimes termed K&R, after its authors' initials) is a computer programming book written by Brian Kernighan and Dennis Ritchie, the latter of whom originally designed and implemented the C programming language, as well as co-designed the Unix operating system with which development of the language was closely intertwined.  The book was central to the developmen\u001b[0m\u001b[32;1m\u001b[1;3m\n",
      "Invoking: `wikipedia` with `{'query': 'Scala programming language'}`\n",
      "\n",
      "\n",
      "\u001b[0m\u001b[36;1m\u001b[1;3mPage: Scala (programming language)\n",
      "Summary: Scala ( SKAH-lah) is a strong statically typed high-level general-purpose programming language that supports both object-oriented programming and functional programming. Designed to be concise, many of Scala's design decisions are intended to address criticisms of Java.\n",
      "Scala source code can be compiled to Java bytecode and run on a Java virtual machine (JVM). Scala can also be transpiled to JavaScript to run in a browser, or compiled directly to a native executable. When running on the JVM, Scala provides language interoperability with Java so that libraries written in either language may be referenced directly in Scala or Java code. Like Java, Scala is object-oriented, and uses a syntax termed curly-brace which is similar to the language C. Since Scala 3, there is also an option to use the off-side rule (indenting) to structure blocks, and its use is advised. Martin Odersky has said that this turned out to be the most productive change introduced in Scala 3.\n",
      "Unlike Java, Scala has many features of functional programming languages (like Scheme, Standard ML, and Haskell), including currying, immutability, lazy evaluation, and pattern matching. It also has an advanced type system supporting algebraic data types, covariance and contravariance, higher-order types (but not higher-rank types), anonymous types, operator overloading, optional parameters, named parameters, raw strings, and an experimental exception-only version of algebraic effects that can be seen as a more powerful version of Java's checked exceptions.\n",
      "The name Scala is a portmanteau of scalable and language, signifying that it is designed to grow with the demands of its users.\n",
      "\n",
      "\n",
      "\n",
      "Page: Comparison of multi-paradigm programming languages\n",
      "Summary: Programming languages can be grouped by the number and types of paradigms supported.\n",
      "\n",
      "Page: List of programming languages by type\n",
      "Summary: This is a list of notable programming languages, grouped by type.\n",
      "The groupings are overlapping; not mutually exclusive. A language can be listed in multiple groupings.\n",
      "\n",
      "\u001b[0m\u001b[32;1m\u001b[1;3mHere's a list of programming languages a data scientist should know, along with their creators:\n",
      "\n",
      "1. **R Programming Language**: R is a language for statistical computing and graphics. It was created by Ross Ihaka and Robert Gentleman at the University of Auckland, New Zealand.\n",
      "\n",
      "2. **Python**: Python is a high-level, general-purpose programming language. It was created by Guido van Rossum and first released in 1991.\n",
      "\n",
      "3. **MATLAB**: MATLAB (Matrix Laboratory) is a multi-paradigm numerical computing environment and proprietary programming language developed by MathWorks. Cleve Moler is the chairman of MathWorks and the original author of the MATLAB software.\n",
      "\n",
      "4. **Java**: Java is a high-level, class-based, object-oriented programming language that is designed to have as few implementation dependencies as possible. It was developed by James Gosling at Sun Microsystems and released in 1995.\n",
      "\n",
      "5. **JavaScript**: JavaScript is a high-level, just-in-time compiled language that conforms to the ECMAScript specification. It was created by Brendan Eich in 1995 while he was an engineer at Netscape.\n",
      "\n",
      "6. **C**: The C programming language was developed by Dennis Ritchie in the early 1970s at Bell Labs.\n",
      "\n",
      "7. **C++**: C++ is a general-purpose programming language created by Bjarne Stroustrup as an extension of the C programming language, or \"C with Classes\". It was first implemented in 1983.\n",
      "\n",
      "8. **Scala**: Scala is a general-purpose programming language providing support for functional programming and a strong static type system. It was designed by Martin Odersky and first appeared in 2004.\n",
      "\n",
      "These languages are widely used in data science for various tasks, including data analysis, machine learning, and statistical modeling.\u001b[0m\n",
      "\n",
      "\u001b[1m> Finished chain.\u001b[0m\n"
     ]
    }
   ],
   "source": [
    "response2 = agent_executor.invoke({'input':'''\n",
    "I'm currently following the Introduction To Data and Data science course.\n",
    "                                   Could you list the programming languages a data scientst should know?\n",
    "                                   Additionally, could you tell me who their creators are?'''})"
   ]
  },
  {
   "cell_type": "code",
   "execution_count": 18,
   "metadata": {},
   "outputs": [
    {
     "data": {
      "text/plain": [
       "{'input': \"\\nI'm currently following the Introduction To Data and Data science course.\\n                                   Could you list the programming languages a data scientst should know?\\n                                   Additionally, could you tell me who their creators are?\",\n",
       " 'output': 'Here\\'s a list of programming languages a data scientist should know, along with their creators:\\n\\n1. **R Programming Language**: R is a language for statistical computing and graphics. It was created by Ross Ihaka and Robert Gentleman at the University of Auckland, New Zealand.\\n\\n2. **Python**: Python is a high-level, general-purpose programming language. It was created by Guido van Rossum and first released in 1991.\\n\\n3. **MATLAB**: MATLAB (Matrix Laboratory) is a multi-paradigm numerical computing environment and proprietary programming language developed by MathWorks. Cleve Moler is the chairman of MathWorks and the original author of the MATLAB software.\\n\\n4. **Java**: Java is a high-level, class-based, object-oriented programming language that is designed to have as few implementation dependencies as possible. It was developed by James Gosling at Sun Microsystems and released in 1995.\\n\\n5. **JavaScript**: JavaScript is a high-level, just-in-time compiled language that conforms to the ECMAScript specification. It was created by Brendan Eich in 1995 while he was an engineer at Netscape.\\n\\n6. **C**: The C programming language was developed by Dennis Ritchie in the early 1970s at Bell Labs.\\n\\n7. **C++**: C++ is a general-purpose programming language created by Bjarne Stroustrup as an extension of the C programming language, or \"C with Classes\". It was first implemented in 1983.\\n\\n8. **Scala**: Scala is a general-purpose programming language providing support for functional programming and a strong static type system. It was designed by Martin Odersky and first appeared in 2004.\\n\\nThese languages are widely used in data science for various tasks, including data analysis, machine learning, and statistical modeling.',\n",
       " 'intermediate_steps': [(ToolAgentAction(tool='Introduction-to-Data-and-Data-Science-Course-Lectures', tool_input={'query': 'programming languages for data science'}, log=\"\\nInvoking: `Introduction-to-Data-and-Data-Science-Course-Lectures` with `{'query': 'programming languages for data science'}`\\n\\n\\n\", message_log=[AIMessageChunk(content='', additional_kwargs={'tool_calls': [{'index': 0, 'id': 'call_K7ZVvMrieRo4MVwbMXro0J6Q', 'function': {'arguments': '{\"query\":\"programming languages for data science\"}', 'name': 'Introduction-to-Data-and-Data-Science-Course-Lectures'}, 'type': 'function'}]}, response_metadata={'finish_reason': 'tool_calls', 'model_name': 'gpt-4-0125-preview'}, id='run-451f5830-907e-4c0a-816b-80368dac1a72', tool_calls=[{'name': 'Introduction-to-Data-and-Data-Science-Course-Lectures', 'args': {'query': 'programming languages for data science'}, 'id': 'call_K7ZVvMrieRo4MVwbMXro0J6Q', 'type': 'tool_call'}], tool_call_chunks=[{'name': 'Introduction-to-Data-and-Data-Science-Course-Lectures', 'args': '{\"query\":\"programming languages for data science\"}', 'id': 'call_K7ZVvMrieRo4MVwbMXro0J6Q', 'index': 0, 'type': 'tool_call_chunk'}])], tool_call_id='call_K7ZVvMrieRo4MVwbMXro0J6Q'),\n",
       "   'Thus, we need a lot of computational power, and we can expect people to use the languages similar to those in the big data column. Apart from R, Python, and MATLAB, other, faster languages are used like Java, JavaScript, C, C++, and Scala. Cool. What we said may be wonderful, but that’s not all! By using one or more programming languages, people create application software or, as they are sometimes called, software solutions, that are adjusted for specific business needs\\n\\nAs you can see from the infographic, R, and Python are the two most popular tools across all columns. Their biggest advantage is that they can manipulate data and are integrated within multiple data and data science software platforms. They are not just suitable for mathematical and statistical computations. In other words, R, and Python are adaptable. They can solve a wide variety of business and data-related problems from beginning to the end\\n\\nGreat! We hope we gave you a good idea about the level of applicability of the most frequently used programming and software tools in the field of data science. Thank you for watching!'),\n",
       "  (ToolAgentAction(tool='wikipedia', tool_input={'query': 'R programming language'}, log=\"\\nInvoking: `wikipedia` with `{'query': 'R programming language'}`\\n\\n\\n\", message_log=[AIMessageChunk(content='', additional_kwargs={'tool_calls': [{'index': 0, 'id': 'call_pAwpsR3UkpD4h5bwMiVxkd7a', 'function': {'arguments': '{\"query\": \"R programming language\"}', 'name': 'wikipedia'}, 'type': 'function'}, {'index': 1, 'id': 'call_grzdLDhe2V3XhxkMgRdyv30m', 'function': {'arguments': '{\"query\": \"Python programming language\"}', 'name': 'wikipedia'}, 'type': 'function'}, {'index': 2, 'id': 'call_bgr1r1L0Oiu1ZbErfpVYFopM', 'function': {'arguments': '{\"query\": \"MATLAB\"}', 'name': 'wikipedia'}, 'type': 'function'}, {'index': 3, 'id': 'call_kdEq5sZ6gZqur747H13dVKbh', 'function': {'arguments': '{\"query\": \"Java programming language\"}', 'name': 'wikipedia'}, 'type': 'function'}, {'index': 4, 'id': 'call_SiRPfb6MNn7d5ma80eYSSR35', 'function': {'arguments': '{\"query\": \"JavaScript\"}', 'name': 'wikipedia'}, 'type': 'function'}, {'index': 5, 'id': 'call_wZxVby13Nnn9Rdnk2RKGhNti', 'function': {'arguments': '{\"query\": \"C programming language\"}', 'name': 'wikipedia'}, 'type': 'function'}, {'index': 6, 'id': 'call_JxU0nOdcYF0ywyjgtB7rmtoi', 'function': {'arguments': '{\"query\": \"C++ programming language\"}', 'name': 'wikipedia'}, 'type': 'function'}, {'index': 7, 'id': 'call_FyUWj4mQ0Oy3OIfM5EclEM74', 'function': {'arguments': '{\"query\": \"Scala programming language\"}', 'name': 'wikipedia'}, 'type': 'function'}]}, response_metadata={'finish_reason': 'tool_calls', 'model_name': 'gpt-4-0125-preview'}, id='run-5413bd2f-06fb-4f55-a5a2-4c18aa6cf48e', tool_calls=[{'name': 'wikipedia', 'args': {'query': 'R programming language'}, 'id': 'call_pAwpsR3UkpD4h5bwMiVxkd7a', 'type': 'tool_call'}, {'name': 'wikipedia', 'args': {'query': 'Python programming language'}, 'id': 'call_grzdLDhe2V3XhxkMgRdyv30m', 'type': 'tool_call'}, {'name': 'wikipedia', 'args': {'query': 'MATLAB'}, 'id': 'call_bgr1r1L0Oiu1ZbErfpVYFopM', 'type': 'tool_call'}, {'name': 'wikipedia', 'args': {'query': 'Java programming language'}, 'id': 'call_kdEq5sZ6gZqur747H13dVKbh', 'type': 'tool_call'}, {'name': 'wikipedia', 'args': {'query': 'JavaScript'}, 'id': 'call_SiRPfb6MNn7d5ma80eYSSR35', 'type': 'tool_call'}, {'name': 'wikipedia', 'args': {'query': 'C programming language'}, 'id': 'call_wZxVby13Nnn9Rdnk2RKGhNti', 'type': 'tool_call'}, {'name': 'wikipedia', 'args': {'query': 'C++ programming language'}, 'id': 'call_JxU0nOdcYF0ywyjgtB7rmtoi', 'type': 'tool_call'}, {'name': 'wikipedia', 'args': {'query': 'Scala programming language'}, 'id': 'call_FyUWj4mQ0Oy3OIfM5EclEM74', 'type': 'tool_call'}], tool_call_chunks=[{'name': 'wikipedia', 'args': '{\"query\": \"R programming language\"}', 'id': 'call_pAwpsR3UkpD4h5bwMiVxkd7a', 'index': 0, 'type': 'tool_call_chunk'}, {'name': 'wikipedia', 'args': '{\"query\": \"Python programming language\"}', 'id': 'call_grzdLDhe2V3XhxkMgRdyv30m', 'index': 1, 'type': 'tool_call_chunk'}, {'name': 'wikipedia', 'args': '{\"query\": \"MATLAB\"}', 'id': 'call_bgr1r1L0Oiu1ZbErfpVYFopM', 'index': 2, 'type': 'tool_call_chunk'}, {'name': 'wikipedia', 'args': '{\"query\": \"Java programming language\"}', 'id': 'call_kdEq5sZ6gZqur747H13dVKbh', 'index': 3, 'type': 'tool_call_chunk'}, {'name': 'wikipedia', 'args': '{\"query\": \"JavaScript\"}', 'id': 'call_SiRPfb6MNn7d5ma80eYSSR35', 'index': 4, 'type': 'tool_call_chunk'}, {'name': 'wikipedia', 'args': '{\"query\": \"C programming language\"}', 'id': 'call_wZxVby13Nnn9Rdnk2RKGhNti', 'index': 5, 'type': 'tool_call_chunk'}, {'name': 'wikipedia', 'args': '{\"query\": \"C++ programming language\"}', 'id': 'call_JxU0nOdcYF0ywyjgtB7rmtoi', 'index': 6, 'type': 'tool_call_chunk'}, {'name': 'wikipedia', 'args': '{\"query\": \"Scala programming language\"}', 'id': 'call_FyUWj4mQ0Oy3OIfM5EclEM74', 'index': 7, 'type': 'tool_call_chunk'}])], tool_call_id='call_pAwpsR3UkpD4h5bwMiVxkd7a'),\n",
       "   \"Page: R (programming language)\\nSummary: R is a programming language for statistical computing and data visualization. It's been adopted in the fields of data mining, bioinformatics and data analysis.\\nThe core R language is augmented by a large number of extension packages, containing reusable code, documentation, and sample data.\\nR software is open-source and free software. R is licensed by the GNU Project and available under the GNU General Public License. It's written primarily in C, Fortran, and R itself. Precompiled executables are provided for various operating systems.\\nAs an interpreted language, R has a native command line interface. Moreover, multiple third-party graphical user interfaces are available, such as RStudio—an integrated development environment—and Jupyter—a notebook interface.\\n\\n\\n\\nPage: C (programming language)\\nSummary: C (pronounced  – like the letter c) is a general-purpose programming language. It was created in the 1970s by Dennis Ritchie and remains very widely used and influential. By design, C's features cleanly reflect the capabilities of the targeted CPUs. It has found lasting use in operating systems code (especially in kernels), device drivers, and protocol stacks, but its use in application software has been decreasing. C is commonly used on computer architectures that range from the largest supercomputers to the smallest microcontrollers and embedded systems.\\nA successor to the programming language B, C was originally developed at Bell Labs by Ritchie between 1972 and 1973 to construct utilities running on Unix. It was applied to re-implementing the kernel of the Unix operating system. During the 1980s, C gradually gained popularity. It has become one of the most widely used programming languages, with C compilers available for practically all modern computer architectures and operating systems. The book The C Programming Language, co-authored by the original language designer, served for many years as the de facto standard for the language. C has been standardized since 1989 by the American National Standards Institute (ANSI) and, subsequently, jointly by the International Organization for Standardization (ISO) and the International Electrotechnical Commission (IEC).\\nC is an imperative procedural language, supporting structured programming, lexical variable scope, and recursion, with a static type system. It was designed to be compiled to provide low-level access to memory and language constructs that map efficiently to machine instructions, all with minimal runtime support. Despite its low-level capabilities, the language was designed to encourage cross-platform programming. A standards-compliant C program written with portability in mind can be compiled for a wide variety of computer platforms and operating systems with few changes to its source code.\\nSince 2000, C has consistently ranked among the top four languages in the TIOBE index, a measure of the popularity of programming languages.\\n\\n\\n\\nPage: The C Programming Language\\nSummary: The C Programming Language (sometimes termed K&R, after its authors' initials) is a computer programming book written by Brian Kernighan and Dennis Ritchie, the latter of whom originally designed and implemented the C programming language, as well as co-designed the Unix operating system with which development of the language was closely intertwined.  The book was central to the development and popularization of C and is still widely read and used today.  Because the book was co-authored by the original language designer, and because the first edition of the book served for many years as the de facto standard for the language, the book was regarded by many to be the authoritative reference on C.\\n\\n\"),\n",
       "  (ToolAgentAction(tool='wikipedia', tool_input={'query': 'Python programming language'}, log=\"\\nInvoking: `wikipedia` with `{'query': 'Python programming language'}`\\n\\n\\n\", message_log=[AIMessageChunk(content='', additional_kwargs={'tool_calls': [{'index': 0, 'id': 'call_pAwpsR3UkpD4h5bwMiVxkd7a', 'function': {'arguments': '{\"query\": \"R programming language\"}', 'name': 'wikipedia'}, 'type': 'function'}, {'index': 1, 'id': 'call_grzdLDhe2V3XhxkMgRdyv30m', 'function': {'arguments': '{\"query\": \"Python programming language\"}', 'name': 'wikipedia'}, 'type': 'function'}, {'index': 2, 'id': 'call_bgr1r1L0Oiu1ZbErfpVYFopM', 'function': {'arguments': '{\"query\": \"MATLAB\"}', 'name': 'wikipedia'}, 'type': 'function'}, {'index': 3, 'id': 'call_kdEq5sZ6gZqur747H13dVKbh', 'function': {'arguments': '{\"query\": \"Java programming language\"}', 'name': 'wikipedia'}, 'type': 'function'}, {'index': 4, 'id': 'call_SiRPfb6MNn7d5ma80eYSSR35', 'function': {'arguments': '{\"query\": \"JavaScript\"}', 'name': 'wikipedia'}, 'type': 'function'}, {'index': 5, 'id': 'call_wZxVby13Nnn9Rdnk2RKGhNti', 'function': {'arguments': '{\"query\": \"C programming language\"}', 'name': 'wikipedia'}, 'type': 'function'}, {'index': 6, 'id': 'call_JxU0nOdcYF0ywyjgtB7rmtoi', 'function': {'arguments': '{\"query\": \"C++ programming language\"}', 'name': 'wikipedia'}, 'type': 'function'}, {'index': 7, 'id': 'call_FyUWj4mQ0Oy3OIfM5EclEM74', 'function': {'arguments': '{\"query\": \"Scala programming language\"}', 'name': 'wikipedia'}, 'type': 'function'}]}, response_metadata={'finish_reason': 'tool_calls', 'model_name': 'gpt-4-0125-preview'}, id='run-5413bd2f-06fb-4f55-a5a2-4c18aa6cf48e', tool_calls=[{'name': 'wikipedia', 'args': {'query': 'R programming language'}, 'id': 'call_pAwpsR3UkpD4h5bwMiVxkd7a', 'type': 'tool_call'}, {'name': 'wikipedia', 'args': {'query': 'Python programming language'}, 'id': 'call_grzdLDhe2V3XhxkMgRdyv30m', 'type': 'tool_call'}, {'name': 'wikipedia', 'args': {'query': 'MATLAB'}, 'id': 'call_bgr1r1L0Oiu1ZbErfpVYFopM', 'type': 'tool_call'}, {'name': 'wikipedia', 'args': {'query': 'Java programming language'}, 'id': 'call_kdEq5sZ6gZqur747H13dVKbh', 'type': 'tool_call'}, {'name': 'wikipedia', 'args': {'query': 'JavaScript'}, 'id': 'call_SiRPfb6MNn7d5ma80eYSSR35', 'type': 'tool_call'}, {'name': 'wikipedia', 'args': {'query': 'C programming language'}, 'id': 'call_wZxVby13Nnn9Rdnk2RKGhNti', 'type': 'tool_call'}, {'name': 'wikipedia', 'args': {'query': 'C++ programming language'}, 'id': 'call_JxU0nOdcYF0ywyjgtB7rmtoi', 'type': 'tool_call'}, {'name': 'wikipedia', 'args': {'query': 'Scala programming language'}, 'id': 'call_FyUWj4mQ0Oy3OIfM5EclEM74', 'type': 'tool_call'}], tool_call_chunks=[{'name': 'wikipedia', 'args': '{\"query\": \"R programming language\"}', 'id': 'call_pAwpsR3UkpD4h5bwMiVxkd7a', 'index': 0, 'type': 'tool_call_chunk'}, {'name': 'wikipedia', 'args': '{\"query\": \"Python programming language\"}', 'id': 'call_grzdLDhe2V3XhxkMgRdyv30m', 'index': 1, 'type': 'tool_call_chunk'}, {'name': 'wikipedia', 'args': '{\"query\": \"MATLAB\"}', 'id': 'call_bgr1r1L0Oiu1ZbErfpVYFopM', 'index': 2, 'type': 'tool_call_chunk'}, {'name': 'wikipedia', 'args': '{\"query\": \"Java programming language\"}', 'id': 'call_kdEq5sZ6gZqur747H13dVKbh', 'index': 3, 'type': 'tool_call_chunk'}, {'name': 'wikipedia', 'args': '{\"query\": \"JavaScript\"}', 'id': 'call_SiRPfb6MNn7d5ma80eYSSR35', 'index': 4, 'type': 'tool_call_chunk'}, {'name': 'wikipedia', 'args': '{\"query\": \"C programming language\"}', 'id': 'call_wZxVby13Nnn9Rdnk2RKGhNti', 'index': 5, 'type': 'tool_call_chunk'}, {'name': 'wikipedia', 'args': '{\"query\": \"C++ programming language\"}', 'id': 'call_JxU0nOdcYF0ywyjgtB7rmtoi', 'index': 6, 'type': 'tool_call_chunk'}, {'name': 'wikipedia', 'args': '{\"query\": \"Scala programming language\"}', 'id': 'call_FyUWj4mQ0Oy3OIfM5EclEM74', 'index': 7, 'type': 'tool_call_chunk'}])], tool_call_id='call_grzdLDhe2V3XhxkMgRdyv30m'),\n",
       "   'Page: Python (programming language)\\nSummary: Python is a high-level, general-purpose programming language. Its design philosophy emphasizes code readability with the use of significant indentation.\\nPython is dynamically type-checked and garbage-collected. It supports multiple programming paradigms, including structured (particularly procedural), object-oriented and functional programming. It is often described as a \"batteries included\" language due to its comprehensive standard library.\\nGuido van Rossum began working on Python in the late 1980s as a successor to the ABC programming language and first released it in 1991 as Python 0.9.0. Python 2.0 was released in 2000. Python 3.0, released in 2008, was a major revision not completely backward-compatible with earlier versions. Python 2.7.18, released in 2020, was the last release of Python 2.\\nPython consistently ranks as one of the most popular programming languages, and has gained widespread use in the machine learning community.\\n\\n\\n\\nPage: History of Python\\nSummary: The programming language Python was conceived in the late 1980s, and its implementation was started in December 1989 by Guido van Rossum at CWI in the Netherlands as a successor to ABC capable of exception handling and interfacing with the Amoeba operating system. Van Rossum is Python\\'s principal author, and his continuing central role in deciding the direction of Python is reflected in the title given to him by the Python community, Benevolent Dictator for Life (BDFL). (However, Van Rossum stepped down as leader on July 12, 2018.). Python was named after the BBC TV show Monty Python\\'s Flying Circus.\\nPython 2.0 was released on October 16, 2000, with many major new features, such as list comprehensions, cycle-detecting garbage collector (in addition to reference counting) and reference counting, for memory management and support for Unicode, along with a change to the development process itself, with a shift to a more transparent and community-backed process.\\nPython 3.0, a major, backwards-incompatible release, was released on December 3, 2008 after a long period of testing. Many of its major features have also been backported to the backwards-compatible, though now-unsupported, Python 2.6 and 2.7. Releases of Python 3 include the 2to3 utility, which automates the translation of Python 2 code to Python 3.\\n\\nPage: Mojo (programming language)\\nSummary: Mojo is a programming language in the Python family that is currently under development. It is available both in browsers via Jupyter notebooks, and locally on Linux and macOS. Mojo aims to combine the usability of a high-level programming language, specifically Python, with the performance of a system programming language such as C++, Rust, and Zig. As of February 2025, the Mojo compiler is closed source with an open source standard library. Modular, the company behind Mojo, has stated an intent to eventually open source the Mojo language, as it matures.\\nMojo builds on the Multi-Level Intermediate Representation (MLIR) compiler software framework instead of directly on the lower level LLVM compiler framework, as do many languages such as Julia, Swift, Clang, and Rust. MLIR is a newer compiler framework that allows Mojo to exploit higher level compiler passes unavailable in LLVM alone, and allows Mojo to compile down and target more than only central processing units (CPUs), including producing code that can run on graphics  processing units (GPUs), Tensor Processing Units (TPUs), application-specific integrated circuits (ASICs) and other accelerators. It can also often more effectively use certain types of CPU optimizations directly, like single instruction, multiple data (SIMD) with minor intervention by a developer, as occurs in many other languages. According to Jeremy Howard of fast.ai, Mojo can be seen as \"syntax sugar for MLIR\" and for that reason Mojo is well optimized for applications like artificial intelligence (AI).'),\n",
       "  (ToolAgentAction(tool='wikipedia', tool_input={'query': 'MATLAB'}, log=\"\\nInvoking: `wikipedia` with `{'query': 'MATLAB'}`\\n\\n\\n\", message_log=[AIMessageChunk(content='', additional_kwargs={'tool_calls': [{'index': 0, 'id': 'call_pAwpsR3UkpD4h5bwMiVxkd7a', 'function': {'arguments': '{\"query\": \"R programming language\"}', 'name': 'wikipedia'}, 'type': 'function'}, {'index': 1, 'id': 'call_grzdLDhe2V3XhxkMgRdyv30m', 'function': {'arguments': '{\"query\": \"Python programming language\"}', 'name': 'wikipedia'}, 'type': 'function'}, {'index': 2, 'id': 'call_bgr1r1L0Oiu1ZbErfpVYFopM', 'function': {'arguments': '{\"query\": \"MATLAB\"}', 'name': 'wikipedia'}, 'type': 'function'}, {'index': 3, 'id': 'call_kdEq5sZ6gZqur747H13dVKbh', 'function': {'arguments': '{\"query\": \"Java programming language\"}', 'name': 'wikipedia'}, 'type': 'function'}, {'index': 4, 'id': 'call_SiRPfb6MNn7d5ma80eYSSR35', 'function': {'arguments': '{\"query\": \"JavaScript\"}', 'name': 'wikipedia'}, 'type': 'function'}, {'index': 5, 'id': 'call_wZxVby13Nnn9Rdnk2RKGhNti', 'function': {'arguments': '{\"query\": \"C programming language\"}', 'name': 'wikipedia'}, 'type': 'function'}, {'index': 6, 'id': 'call_JxU0nOdcYF0ywyjgtB7rmtoi', 'function': {'arguments': '{\"query\": \"C++ programming language\"}', 'name': 'wikipedia'}, 'type': 'function'}, {'index': 7, 'id': 'call_FyUWj4mQ0Oy3OIfM5EclEM74', 'function': {'arguments': '{\"query\": \"Scala programming language\"}', 'name': 'wikipedia'}, 'type': 'function'}]}, response_metadata={'finish_reason': 'tool_calls', 'model_name': 'gpt-4-0125-preview'}, id='run-5413bd2f-06fb-4f55-a5a2-4c18aa6cf48e', tool_calls=[{'name': 'wikipedia', 'args': {'query': 'R programming language'}, 'id': 'call_pAwpsR3UkpD4h5bwMiVxkd7a', 'type': 'tool_call'}, {'name': 'wikipedia', 'args': {'query': 'Python programming language'}, 'id': 'call_grzdLDhe2V3XhxkMgRdyv30m', 'type': 'tool_call'}, {'name': 'wikipedia', 'args': {'query': 'MATLAB'}, 'id': 'call_bgr1r1L0Oiu1ZbErfpVYFopM', 'type': 'tool_call'}, {'name': 'wikipedia', 'args': {'query': 'Java programming language'}, 'id': 'call_kdEq5sZ6gZqur747H13dVKbh', 'type': 'tool_call'}, {'name': 'wikipedia', 'args': {'query': 'JavaScript'}, 'id': 'call_SiRPfb6MNn7d5ma80eYSSR35', 'type': 'tool_call'}, {'name': 'wikipedia', 'args': {'query': 'C programming language'}, 'id': 'call_wZxVby13Nnn9Rdnk2RKGhNti', 'type': 'tool_call'}, {'name': 'wikipedia', 'args': {'query': 'C++ programming language'}, 'id': 'call_JxU0nOdcYF0ywyjgtB7rmtoi', 'type': 'tool_call'}, {'name': 'wikipedia', 'args': {'query': 'Scala programming language'}, 'id': 'call_FyUWj4mQ0Oy3OIfM5EclEM74', 'type': 'tool_call'}], tool_call_chunks=[{'name': 'wikipedia', 'args': '{\"query\": \"R programming language\"}', 'id': 'call_pAwpsR3UkpD4h5bwMiVxkd7a', 'index': 0, 'type': 'tool_call_chunk'}, {'name': 'wikipedia', 'args': '{\"query\": \"Python programming language\"}', 'id': 'call_grzdLDhe2V3XhxkMgRdyv30m', 'index': 1, 'type': 'tool_call_chunk'}, {'name': 'wikipedia', 'args': '{\"query\": \"MATLAB\"}', 'id': 'call_bgr1r1L0Oiu1ZbErfpVYFopM', 'index': 2, 'type': 'tool_call_chunk'}, {'name': 'wikipedia', 'args': '{\"query\": \"Java programming language\"}', 'id': 'call_kdEq5sZ6gZqur747H13dVKbh', 'index': 3, 'type': 'tool_call_chunk'}, {'name': 'wikipedia', 'args': '{\"query\": \"JavaScript\"}', 'id': 'call_SiRPfb6MNn7d5ma80eYSSR35', 'index': 4, 'type': 'tool_call_chunk'}, {'name': 'wikipedia', 'args': '{\"query\": \"C programming language\"}', 'id': 'call_wZxVby13Nnn9Rdnk2RKGhNti', 'index': 5, 'type': 'tool_call_chunk'}, {'name': 'wikipedia', 'args': '{\"query\": \"C++ programming language\"}', 'id': 'call_JxU0nOdcYF0ywyjgtB7rmtoi', 'index': 6, 'type': 'tool_call_chunk'}, {'name': 'wikipedia', 'args': '{\"query\": \"Scala programming language\"}', 'id': 'call_FyUWj4mQ0Oy3OIfM5EclEM74', 'index': 7, 'type': 'tool_call_chunk'}])], tool_call_id='call_bgr1r1L0Oiu1ZbErfpVYFopM'),\n",
       "   'Page: MATLAB\\nSummary: MATLAB (an abbreviation of \"MATrix LABoratory\") is a proprietary multi-paradigm programming language and numeric computing environment developed by MathWorks. MATLAB allows matrix manipulations, plotting of functions and data, implementation of algorithms, creation of user interfaces, and interfacing with programs written in other languages.\\nAlthough MATLAB is intended primarily for numeric computing, an optional toolbox uses the MuPAD symbolic engine allowing access to symbolic computing abilities. An additional package, Simulink, adds graphical multi-domain simulation and model-based design for dynamic and embedded systems.\\nAs of 2020, MATLAB has more than four million users worldwide. They come from various backgrounds of engineering, science, and economics. As of 2017, more than 5000 global colleges and universities use MATLAB to support instruction and research.\\n\\n\\n\\nPage: MathWorks\\nSummary: The MathWorks, Inc. is an American privately held corporation that specializes in mathematical computing software.  Its major products include MATLAB and Simulink, which support data analysis and simulation.\\n\\nPage: Psychtoolbox for MATLAB\\nSummary: Psychophysics Toolbox Version 3 (PTB-3) is a collection of free functions for MATLAB or GNU Octave intended for use by neuroscience and vision researchers. It synthesizes and shows accurately controlled visual and auditory stimuli and interacts with the observer. It has at least twelve thousand active users, an active forum, and many citations. PTB-3 is based on the Psychophysics Toolbox Version 2 (PTB-2) but its MATLAB extensions (in C) were rewritten to be more modular and use OpenGL. Psychtoolbox is offered alongside many alternative toolboxes for programming Psychophysics and Psychology experiments, such as PsychoPy for Python or jsPsych for JavaScript.\\nPsychophysics Toolbox Version 3 is free software. Most of it is released under the MIT License, but parts of it are licensed under other open source and free software licenses.'),\n",
       "  (ToolAgentAction(tool='wikipedia', tool_input={'query': 'Java programming language'}, log=\"\\nInvoking: `wikipedia` with `{'query': 'Java programming language'}`\\n\\n\\n\", message_log=[AIMessageChunk(content='', additional_kwargs={'tool_calls': [{'index': 0, 'id': 'call_pAwpsR3UkpD4h5bwMiVxkd7a', 'function': {'arguments': '{\"query\": \"R programming language\"}', 'name': 'wikipedia'}, 'type': 'function'}, {'index': 1, 'id': 'call_grzdLDhe2V3XhxkMgRdyv30m', 'function': {'arguments': '{\"query\": \"Python programming language\"}', 'name': 'wikipedia'}, 'type': 'function'}, {'index': 2, 'id': 'call_bgr1r1L0Oiu1ZbErfpVYFopM', 'function': {'arguments': '{\"query\": \"MATLAB\"}', 'name': 'wikipedia'}, 'type': 'function'}, {'index': 3, 'id': 'call_kdEq5sZ6gZqur747H13dVKbh', 'function': {'arguments': '{\"query\": \"Java programming language\"}', 'name': 'wikipedia'}, 'type': 'function'}, {'index': 4, 'id': 'call_SiRPfb6MNn7d5ma80eYSSR35', 'function': {'arguments': '{\"query\": \"JavaScript\"}', 'name': 'wikipedia'}, 'type': 'function'}, {'index': 5, 'id': 'call_wZxVby13Nnn9Rdnk2RKGhNti', 'function': {'arguments': '{\"query\": \"C programming language\"}', 'name': 'wikipedia'}, 'type': 'function'}, {'index': 6, 'id': 'call_JxU0nOdcYF0ywyjgtB7rmtoi', 'function': {'arguments': '{\"query\": \"C++ programming language\"}', 'name': 'wikipedia'}, 'type': 'function'}, {'index': 7, 'id': 'call_FyUWj4mQ0Oy3OIfM5EclEM74', 'function': {'arguments': '{\"query\": \"Scala programming language\"}', 'name': 'wikipedia'}, 'type': 'function'}]}, response_metadata={'finish_reason': 'tool_calls', 'model_name': 'gpt-4-0125-preview'}, id='run-5413bd2f-06fb-4f55-a5a2-4c18aa6cf48e', tool_calls=[{'name': 'wikipedia', 'args': {'query': 'R programming language'}, 'id': 'call_pAwpsR3UkpD4h5bwMiVxkd7a', 'type': 'tool_call'}, {'name': 'wikipedia', 'args': {'query': 'Python programming language'}, 'id': 'call_grzdLDhe2V3XhxkMgRdyv30m', 'type': 'tool_call'}, {'name': 'wikipedia', 'args': {'query': 'MATLAB'}, 'id': 'call_bgr1r1L0Oiu1ZbErfpVYFopM', 'type': 'tool_call'}, {'name': 'wikipedia', 'args': {'query': 'Java programming language'}, 'id': 'call_kdEq5sZ6gZqur747H13dVKbh', 'type': 'tool_call'}, {'name': 'wikipedia', 'args': {'query': 'JavaScript'}, 'id': 'call_SiRPfb6MNn7d5ma80eYSSR35', 'type': 'tool_call'}, {'name': 'wikipedia', 'args': {'query': 'C programming language'}, 'id': 'call_wZxVby13Nnn9Rdnk2RKGhNti', 'type': 'tool_call'}, {'name': 'wikipedia', 'args': {'query': 'C++ programming language'}, 'id': 'call_JxU0nOdcYF0ywyjgtB7rmtoi', 'type': 'tool_call'}, {'name': 'wikipedia', 'args': {'query': 'Scala programming language'}, 'id': 'call_FyUWj4mQ0Oy3OIfM5EclEM74', 'type': 'tool_call'}], tool_call_chunks=[{'name': 'wikipedia', 'args': '{\"query\": \"R programming language\"}', 'id': 'call_pAwpsR3UkpD4h5bwMiVxkd7a', 'index': 0, 'type': 'tool_call_chunk'}, {'name': 'wikipedia', 'args': '{\"query\": \"Python programming language\"}', 'id': 'call_grzdLDhe2V3XhxkMgRdyv30m', 'index': 1, 'type': 'tool_call_chunk'}, {'name': 'wikipedia', 'args': '{\"query\": \"MATLAB\"}', 'id': 'call_bgr1r1L0Oiu1ZbErfpVYFopM', 'index': 2, 'type': 'tool_call_chunk'}, {'name': 'wikipedia', 'args': '{\"query\": \"Java programming language\"}', 'id': 'call_kdEq5sZ6gZqur747H13dVKbh', 'index': 3, 'type': 'tool_call_chunk'}, {'name': 'wikipedia', 'args': '{\"query\": \"JavaScript\"}', 'id': 'call_SiRPfb6MNn7d5ma80eYSSR35', 'index': 4, 'type': 'tool_call_chunk'}, {'name': 'wikipedia', 'args': '{\"query\": \"C programming language\"}', 'id': 'call_wZxVby13Nnn9Rdnk2RKGhNti', 'index': 5, 'type': 'tool_call_chunk'}, {'name': 'wikipedia', 'args': '{\"query\": \"C++ programming language\"}', 'id': 'call_JxU0nOdcYF0ywyjgtB7rmtoi', 'index': 6, 'type': 'tool_call_chunk'}, {'name': 'wikipedia', 'args': '{\"query\": \"Scala programming language\"}', 'id': 'call_FyUWj4mQ0Oy3OIfM5EclEM74', 'index': 7, 'type': 'tool_call_chunk'}])], tool_call_id='call_kdEq5sZ6gZqur747H13dVKbh'),\n",
       "   \"Page: Java (programming language)\\nSummary: Java is a high-level, general-purpose, memory-safe, object-oriented programming language. It is intended to let programmers write once, run anywhere (WORA), meaning that compiled Java code can run on all platforms that support Java without the need to recompile. Java applications are typically compiled to bytecode that can run on any Java virtual machine (JVM) regardless of the underlying computer architecture. The syntax of Java is similar to C and C++, but has fewer low-level facilities than either of them. The Java runtime provides dynamic capabilities (such as reflection and runtime code modification) that are typically not available in traditional compiled languages.\\nJava gained popularity shortly after its release, and has been a popular programming language since then. Java was the third most popular programming language in 2022 according to GitHub. Although still widely popular, there has been a gradual decline in use of Java in recent years with other languages using JVM gaining popularity.\\nJava was designed by James Gosling at Sun Microsystems. It was released in May 1995 as a core component of Sun's Java platform. The original and reference implementation Java compilers, virtual machines, and class libraries were released by Sun under proprietary licenses. As of May 2007, in compliance with the specifications of the Java Community Process, Sun had relicensed most of its Java technologies under the GPL-2.0-only license. Oracle, which bought Sun in 2010, offers its own HotSpot Java Virtual Machine. However, the official reference implementation is the OpenJDK JVM, which is open-source software used by most developers and is the default JVM for almost all Linux distributions.\\nJava 24 is the version current as of March 2025. Java 8, 11, 17, and 21 are long-term support versions still under maintenance.\\n\\nPage: JavaScript\\nSummary: JavaScript ( ), often abbreviated as JS, is a programming language and core technology of the World Wide Web, alongside HTML and CSS. Ninety-nine percent of websites use JavaScript on the client side for webpage behavior.\\nWeb browsers have a dedicated JavaScript engine that executes the client code. These engines are also utilized in some servers and a variety of apps. The most popular runtime system for non-browser usage is Node.js.\\nJavaScript is a high-level, often just-in-time–compiled language that conforms to the ECMAScript standard. It has dynamic typing, prototype-based object-orientation, and first-class functions. It is multi-paradigm, supporting event-driven, functional, and imperative programming styles. It has application programming interfaces (APIs) for working with text, dates, regular expressions, standard data structures, and the Document Object Model (DOM).\\nThe ECMAScript standard does not include any input/output (I/O), such as networking, storage, or graphics facilities. In practice, the web browser or other runtime system provides JavaScript APIs for I/O.\\nAlthough Java and JavaScript are similar in name and syntax, the two languages are distinct and differ greatly in design.\\n\\n\\n\\nPage: Kotlin (programming language)\\nSummary: Kotlin () is a cross-platform, statically typed, general-purpose high-level programming language with type inference. Kotlin is designed to interoperate fully with Java, and the JVM version of Kotlin's standard library depends on the Java Class Library,\\nbut type inference allows its syntax to be more concise. Kotlin mainly targets the JVM, but also compiles to JavaScript (e.g., for frontend web applications using React) or native code via LLVM (e.g., for native iOS apps sharing business logic with Android apps). Language development costs are borne by JetBrains, while the Kotlin Foundation protects the Kotlin trademark.\\nOn 7 May 2019, Google announced that the Kotlin programming language had become its preferred language for Android app developers. Since the release of Android Studio 3.0 in October 2017, Kotlin has\"),\n",
       "  (ToolAgentAction(tool='wikipedia', tool_input={'query': 'JavaScript'}, log=\"\\nInvoking: `wikipedia` with `{'query': 'JavaScript'}`\\n\\n\\n\", message_log=[AIMessageChunk(content='', additional_kwargs={'tool_calls': [{'index': 0, 'id': 'call_pAwpsR3UkpD4h5bwMiVxkd7a', 'function': {'arguments': '{\"query\": \"R programming language\"}', 'name': 'wikipedia'}, 'type': 'function'}, {'index': 1, 'id': 'call_grzdLDhe2V3XhxkMgRdyv30m', 'function': {'arguments': '{\"query\": \"Python programming language\"}', 'name': 'wikipedia'}, 'type': 'function'}, {'index': 2, 'id': 'call_bgr1r1L0Oiu1ZbErfpVYFopM', 'function': {'arguments': '{\"query\": \"MATLAB\"}', 'name': 'wikipedia'}, 'type': 'function'}, {'index': 3, 'id': 'call_kdEq5sZ6gZqur747H13dVKbh', 'function': {'arguments': '{\"query\": \"Java programming language\"}', 'name': 'wikipedia'}, 'type': 'function'}, {'index': 4, 'id': 'call_SiRPfb6MNn7d5ma80eYSSR35', 'function': {'arguments': '{\"query\": \"JavaScript\"}', 'name': 'wikipedia'}, 'type': 'function'}, {'index': 5, 'id': 'call_wZxVby13Nnn9Rdnk2RKGhNti', 'function': {'arguments': '{\"query\": \"C programming language\"}', 'name': 'wikipedia'}, 'type': 'function'}, {'index': 6, 'id': 'call_JxU0nOdcYF0ywyjgtB7rmtoi', 'function': {'arguments': '{\"query\": \"C++ programming language\"}', 'name': 'wikipedia'}, 'type': 'function'}, {'index': 7, 'id': 'call_FyUWj4mQ0Oy3OIfM5EclEM74', 'function': {'arguments': '{\"query\": \"Scala programming language\"}', 'name': 'wikipedia'}, 'type': 'function'}]}, response_metadata={'finish_reason': 'tool_calls', 'model_name': 'gpt-4-0125-preview'}, id='run-5413bd2f-06fb-4f55-a5a2-4c18aa6cf48e', tool_calls=[{'name': 'wikipedia', 'args': {'query': 'R programming language'}, 'id': 'call_pAwpsR3UkpD4h5bwMiVxkd7a', 'type': 'tool_call'}, {'name': 'wikipedia', 'args': {'query': 'Python programming language'}, 'id': 'call_grzdLDhe2V3XhxkMgRdyv30m', 'type': 'tool_call'}, {'name': 'wikipedia', 'args': {'query': 'MATLAB'}, 'id': 'call_bgr1r1L0Oiu1ZbErfpVYFopM', 'type': 'tool_call'}, {'name': 'wikipedia', 'args': {'query': 'Java programming language'}, 'id': 'call_kdEq5sZ6gZqur747H13dVKbh', 'type': 'tool_call'}, {'name': 'wikipedia', 'args': {'query': 'JavaScript'}, 'id': 'call_SiRPfb6MNn7d5ma80eYSSR35', 'type': 'tool_call'}, {'name': 'wikipedia', 'args': {'query': 'C programming language'}, 'id': 'call_wZxVby13Nnn9Rdnk2RKGhNti', 'type': 'tool_call'}, {'name': 'wikipedia', 'args': {'query': 'C++ programming language'}, 'id': 'call_JxU0nOdcYF0ywyjgtB7rmtoi', 'type': 'tool_call'}, {'name': 'wikipedia', 'args': {'query': 'Scala programming language'}, 'id': 'call_FyUWj4mQ0Oy3OIfM5EclEM74', 'type': 'tool_call'}], tool_call_chunks=[{'name': 'wikipedia', 'args': '{\"query\": \"R programming language\"}', 'id': 'call_pAwpsR3UkpD4h5bwMiVxkd7a', 'index': 0, 'type': 'tool_call_chunk'}, {'name': 'wikipedia', 'args': '{\"query\": \"Python programming language\"}', 'id': 'call_grzdLDhe2V3XhxkMgRdyv30m', 'index': 1, 'type': 'tool_call_chunk'}, {'name': 'wikipedia', 'args': '{\"query\": \"MATLAB\"}', 'id': 'call_bgr1r1L0Oiu1ZbErfpVYFopM', 'index': 2, 'type': 'tool_call_chunk'}, {'name': 'wikipedia', 'args': '{\"query\": \"Java programming language\"}', 'id': 'call_kdEq5sZ6gZqur747H13dVKbh', 'index': 3, 'type': 'tool_call_chunk'}, {'name': 'wikipedia', 'args': '{\"query\": \"JavaScript\"}', 'id': 'call_SiRPfb6MNn7d5ma80eYSSR35', 'index': 4, 'type': 'tool_call_chunk'}, {'name': 'wikipedia', 'args': '{\"query\": \"C programming language\"}', 'id': 'call_wZxVby13Nnn9Rdnk2RKGhNti', 'index': 5, 'type': 'tool_call_chunk'}, {'name': 'wikipedia', 'args': '{\"query\": \"C++ programming language\"}', 'id': 'call_JxU0nOdcYF0ywyjgtB7rmtoi', 'index': 6, 'type': 'tool_call_chunk'}, {'name': 'wikipedia', 'args': '{\"query\": \"Scala programming language\"}', 'id': 'call_FyUWj4mQ0Oy3OIfM5EclEM74', 'index': 7, 'type': 'tool_call_chunk'}])], tool_call_id='call_SiRPfb6MNn7d5ma80eYSSR35'),\n",
       "   'Page: JavaScript\\nSummary: JavaScript ( ), often abbreviated as JS, is a programming language and core technology of the World Wide Web, alongside HTML and CSS. Ninety-nine percent of websites use JavaScript on the client side for webpage behavior.\\nWeb browsers have a dedicated JavaScript engine that executes the client code. These engines are also utilized in some servers and a variety of apps. The most popular runtime system for non-browser usage is Node.js.\\nJavaScript is a high-level, often just-in-time–compiled language that conforms to the ECMAScript standard. It has dynamic typing, prototype-based object-orientation, and first-class functions. It is multi-paradigm, supporting event-driven, functional, and imperative programming styles. It has application programming interfaces (APIs) for working with text, dates, regular expressions, standard data structures, and the Document Object Model (DOM).\\nThe ECMAScript standard does not include any input/output (I/O), such as networking, storage, or graphics facilities. In practice, the web browser or other runtime system provides JavaScript APIs for I/O.\\nAlthough Java and JavaScript are similar in name and syntax, the two languages are distinct and differ greatly in design.\\n\\n\\n\\nPage: JavaScript engine\\nSummary: A JavaScript engine is a software component that executes JavaScript code. The first JavaScript engines were mere interpreters, but all relevant modern engines use just-in-time compilation for improved performance. JavaScript engines are typically developed by web browser vendors, and every major browser has one. In a browser, the JavaScript engine runs in concert with the rendering engine via the Document Object Model and Web IDL bindings. However, the use of JavaScript engines is not limited to browsers; for example, the V8 engine is a core component of the Node.js runtime system. Since ECMAScript is the standardized specification of JavaScript, ECMAScript engine is another name for these implementations. With the advent of WebAssembly, some engines can also execute this code in the same sandbox as regular JavaScript code.\\n\\nPage: JavaScript syntax\\nSummary: The syntax of JavaScript is the set of rules that define a correctly structured JavaScript program.\\nThe examples below make use of the log function of the console object present in most browsers for standard text output.\\nThe JavaScript standard library lacks an official standard text output function (with the exception of document.write). Given that JavaScript is mainly used for client-side scripting within modern web browsers, and that almost all Web browsers provide the alert function, alert can also be used, but is not commonly used.'),\n",
       "  (ToolAgentAction(tool='wikipedia', tool_input={'query': 'C programming language'}, log=\"\\nInvoking: `wikipedia` with `{'query': 'C programming language'}`\\n\\n\\n\", message_log=[AIMessageChunk(content='', additional_kwargs={'tool_calls': [{'index': 0, 'id': 'call_pAwpsR3UkpD4h5bwMiVxkd7a', 'function': {'arguments': '{\"query\": \"R programming language\"}', 'name': 'wikipedia'}, 'type': 'function'}, {'index': 1, 'id': 'call_grzdLDhe2V3XhxkMgRdyv30m', 'function': {'arguments': '{\"query\": \"Python programming language\"}', 'name': 'wikipedia'}, 'type': 'function'}, {'index': 2, 'id': 'call_bgr1r1L0Oiu1ZbErfpVYFopM', 'function': {'arguments': '{\"query\": \"MATLAB\"}', 'name': 'wikipedia'}, 'type': 'function'}, {'index': 3, 'id': 'call_kdEq5sZ6gZqur747H13dVKbh', 'function': {'arguments': '{\"query\": \"Java programming language\"}', 'name': 'wikipedia'}, 'type': 'function'}, {'index': 4, 'id': 'call_SiRPfb6MNn7d5ma80eYSSR35', 'function': {'arguments': '{\"query\": \"JavaScript\"}', 'name': 'wikipedia'}, 'type': 'function'}, {'index': 5, 'id': 'call_wZxVby13Nnn9Rdnk2RKGhNti', 'function': {'arguments': '{\"query\": \"C programming language\"}', 'name': 'wikipedia'}, 'type': 'function'}, {'index': 6, 'id': 'call_JxU0nOdcYF0ywyjgtB7rmtoi', 'function': {'arguments': '{\"query\": \"C++ programming language\"}', 'name': 'wikipedia'}, 'type': 'function'}, {'index': 7, 'id': 'call_FyUWj4mQ0Oy3OIfM5EclEM74', 'function': {'arguments': '{\"query\": \"Scala programming language\"}', 'name': 'wikipedia'}, 'type': 'function'}]}, response_metadata={'finish_reason': 'tool_calls', 'model_name': 'gpt-4-0125-preview'}, id='run-5413bd2f-06fb-4f55-a5a2-4c18aa6cf48e', tool_calls=[{'name': 'wikipedia', 'args': {'query': 'R programming language'}, 'id': 'call_pAwpsR3UkpD4h5bwMiVxkd7a', 'type': 'tool_call'}, {'name': 'wikipedia', 'args': {'query': 'Python programming language'}, 'id': 'call_grzdLDhe2V3XhxkMgRdyv30m', 'type': 'tool_call'}, {'name': 'wikipedia', 'args': {'query': 'MATLAB'}, 'id': 'call_bgr1r1L0Oiu1ZbErfpVYFopM', 'type': 'tool_call'}, {'name': 'wikipedia', 'args': {'query': 'Java programming language'}, 'id': 'call_kdEq5sZ6gZqur747H13dVKbh', 'type': 'tool_call'}, {'name': 'wikipedia', 'args': {'query': 'JavaScript'}, 'id': 'call_SiRPfb6MNn7d5ma80eYSSR35', 'type': 'tool_call'}, {'name': 'wikipedia', 'args': {'query': 'C programming language'}, 'id': 'call_wZxVby13Nnn9Rdnk2RKGhNti', 'type': 'tool_call'}, {'name': 'wikipedia', 'args': {'query': 'C++ programming language'}, 'id': 'call_JxU0nOdcYF0ywyjgtB7rmtoi', 'type': 'tool_call'}, {'name': 'wikipedia', 'args': {'query': 'Scala programming language'}, 'id': 'call_FyUWj4mQ0Oy3OIfM5EclEM74', 'type': 'tool_call'}], tool_call_chunks=[{'name': 'wikipedia', 'args': '{\"query\": \"R programming language\"}', 'id': 'call_pAwpsR3UkpD4h5bwMiVxkd7a', 'index': 0, 'type': 'tool_call_chunk'}, {'name': 'wikipedia', 'args': '{\"query\": \"Python programming language\"}', 'id': 'call_grzdLDhe2V3XhxkMgRdyv30m', 'index': 1, 'type': 'tool_call_chunk'}, {'name': 'wikipedia', 'args': '{\"query\": \"MATLAB\"}', 'id': 'call_bgr1r1L0Oiu1ZbErfpVYFopM', 'index': 2, 'type': 'tool_call_chunk'}, {'name': 'wikipedia', 'args': '{\"query\": \"Java programming language\"}', 'id': 'call_kdEq5sZ6gZqur747H13dVKbh', 'index': 3, 'type': 'tool_call_chunk'}, {'name': 'wikipedia', 'args': '{\"query\": \"JavaScript\"}', 'id': 'call_SiRPfb6MNn7d5ma80eYSSR35', 'index': 4, 'type': 'tool_call_chunk'}, {'name': 'wikipedia', 'args': '{\"query\": \"C programming language\"}', 'id': 'call_wZxVby13Nnn9Rdnk2RKGhNti', 'index': 5, 'type': 'tool_call_chunk'}, {'name': 'wikipedia', 'args': '{\"query\": \"C++ programming language\"}', 'id': 'call_JxU0nOdcYF0ywyjgtB7rmtoi', 'index': 6, 'type': 'tool_call_chunk'}, {'name': 'wikipedia', 'args': '{\"query\": \"Scala programming language\"}', 'id': 'call_FyUWj4mQ0Oy3OIfM5EclEM74', 'index': 7, 'type': 'tool_call_chunk'}])], tool_call_id='call_wZxVby13Nnn9Rdnk2RKGhNti'),\n",
       "   \"Page: C (programming language)\\nSummary: C (pronounced  – like the letter c) is a general-purpose programming language. It was created in the 1970s by Dennis Ritchie and remains very widely used and influential. By design, C's features cleanly reflect the capabilities of the targeted CPUs. It has found lasting use in operating systems code (especially in kernels), device drivers, and protocol stacks, but its use in application software has been decreasing. C is commonly used on computer architectures that range from the largest supercomputers to the smallest microcontrollers and embedded systems.\\nA successor to the programming language B, C was originally developed at Bell Labs by Ritchie between 1972 and 1973 to construct utilities running on Unix. It was applied to re-implementing the kernel of the Unix operating system. During the 1980s, C gradually gained popularity. It has become one of the most widely used programming languages, with C compilers available for practically all modern computer architectures and operating systems. The book The C Programming Language, co-authored by the original language designer, served for many years as the de facto standard for the language. C has been standardized since 1989 by the American National Standards Institute (ANSI) and, subsequently, jointly by the International Organization for Standardization (ISO) and the International Electrotechnical Commission (IEC).\\nC is an imperative procedural language, supporting structured programming, lexical variable scope, and recursion, with a static type system. It was designed to be compiled to provide low-level access to memory and language constructs that map efficiently to machine instructions, all with minimal runtime support. Despite its low-level capabilities, the language was designed to encourage cross-platform programming. A standards-compliant C program written with portability in mind can be compiled for a wide variety of computer platforms and operating systems with few changes to its source code.\\nSince 2000, C has consistently ranked among the top four languages in the TIOBE index, a measure of the popularity of programming languages.\\n\\n\\n\\nPage: The C Programming Language\\nSummary: The C Programming Language (sometimes termed K&R, after its authors' initials) is a computer programming book written by Brian Kernighan and Dennis Ritchie, the latter of whom originally designed and implemented the C programming language, as well as co-designed the Unix operating system with which development of the language was closely intertwined.  The book was central to the development and popularization of C and is still widely read and used today.  Because the book was co-authored by the original language designer, and because the first edition of the book served for many years as the de facto standard for the language, the book was regarded by many to be the authoritative reference on C.\\n\\n\\n\\nPage: C Sharp (programming language)\\nSummary: C# ( see SHARP) is a general-purpose high-level programming language supporting multiple paradigms. C# encompasses static typing,:\\u200a4\\u200a strong typing, lexically scoped, imperative, declarative, functional, generic,:\\u200a22\\u200a object-oriented (class-based), and component-oriented programming disciplines.\\nThe principal inventors of the C# programming language were Anders Hejlsberg, Scott Wiltamuth, and Peter Golde from Microsoft. It was first widely distributed in July 2000 and was later approved as an international standard by Ecma (ECMA-334) in 2002 and ISO/IEC (ISO/IEC 23270 and 20619) in 2003. Microsoft introduced C# along with .NET Framework and Microsoft Visual Studio, both of which are technically speaking, closed-source. At the time, Microsoft had no open-source products. Four years later, in 2004, a free and open-source project called Microsoft Mono began, providing a cross-platform compiler and runtime environment for the C# programming language. A decade later, Microsoft released Visual Studio Code (code editor), Rosl\"),\n",
       "  (ToolAgentAction(tool='wikipedia', tool_input={'query': 'C++ programming language'}, log=\"\\nInvoking: `wikipedia` with `{'query': 'C++ programming language'}`\\n\\n\\n\", message_log=[AIMessageChunk(content='', additional_kwargs={'tool_calls': [{'index': 0, 'id': 'call_pAwpsR3UkpD4h5bwMiVxkd7a', 'function': {'arguments': '{\"query\": \"R programming language\"}', 'name': 'wikipedia'}, 'type': 'function'}, {'index': 1, 'id': 'call_grzdLDhe2V3XhxkMgRdyv30m', 'function': {'arguments': '{\"query\": \"Python programming language\"}', 'name': 'wikipedia'}, 'type': 'function'}, {'index': 2, 'id': 'call_bgr1r1L0Oiu1ZbErfpVYFopM', 'function': {'arguments': '{\"query\": \"MATLAB\"}', 'name': 'wikipedia'}, 'type': 'function'}, {'index': 3, 'id': 'call_kdEq5sZ6gZqur747H13dVKbh', 'function': {'arguments': '{\"query\": \"Java programming language\"}', 'name': 'wikipedia'}, 'type': 'function'}, {'index': 4, 'id': 'call_SiRPfb6MNn7d5ma80eYSSR35', 'function': {'arguments': '{\"query\": \"JavaScript\"}', 'name': 'wikipedia'}, 'type': 'function'}, {'index': 5, 'id': 'call_wZxVby13Nnn9Rdnk2RKGhNti', 'function': {'arguments': '{\"query\": \"C programming language\"}', 'name': 'wikipedia'}, 'type': 'function'}, {'index': 6, 'id': 'call_JxU0nOdcYF0ywyjgtB7rmtoi', 'function': {'arguments': '{\"query\": \"C++ programming language\"}', 'name': 'wikipedia'}, 'type': 'function'}, {'index': 7, 'id': 'call_FyUWj4mQ0Oy3OIfM5EclEM74', 'function': {'arguments': '{\"query\": \"Scala programming language\"}', 'name': 'wikipedia'}, 'type': 'function'}]}, response_metadata={'finish_reason': 'tool_calls', 'model_name': 'gpt-4-0125-preview'}, id='run-5413bd2f-06fb-4f55-a5a2-4c18aa6cf48e', tool_calls=[{'name': 'wikipedia', 'args': {'query': 'R programming language'}, 'id': 'call_pAwpsR3UkpD4h5bwMiVxkd7a', 'type': 'tool_call'}, {'name': 'wikipedia', 'args': {'query': 'Python programming language'}, 'id': 'call_grzdLDhe2V3XhxkMgRdyv30m', 'type': 'tool_call'}, {'name': 'wikipedia', 'args': {'query': 'MATLAB'}, 'id': 'call_bgr1r1L0Oiu1ZbErfpVYFopM', 'type': 'tool_call'}, {'name': 'wikipedia', 'args': {'query': 'Java programming language'}, 'id': 'call_kdEq5sZ6gZqur747H13dVKbh', 'type': 'tool_call'}, {'name': 'wikipedia', 'args': {'query': 'JavaScript'}, 'id': 'call_SiRPfb6MNn7d5ma80eYSSR35', 'type': 'tool_call'}, {'name': 'wikipedia', 'args': {'query': 'C programming language'}, 'id': 'call_wZxVby13Nnn9Rdnk2RKGhNti', 'type': 'tool_call'}, {'name': 'wikipedia', 'args': {'query': 'C++ programming language'}, 'id': 'call_JxU0nOdcYF0ywyjgtB7rmtoi', 'type': 'tool_call'}, {'name': 'wikipedia', 'args': {'query': 'Scala programming language'}, 'id': 'call_FyUWj4mQ0Oy3OIfM5EclEM74', 'type': 'tool_call'}], tool_call_chunks=[{'name': 'wikipedia', 'args': '{\"query\": \"R programming language\"}', 'id': 'call_pAwpsR3UkpD4h5bwMiVxkd7a', 'index': 0, 'type': 'tool_call_chunk'}, {'name': 'wikipedia', 'args': '{\"query\": \"Python programming language\"}', 'id': 'call_grzdLDhe2V3XhxkMgRdyv30m', 'index': 1, 'type': 'tool_call_chunk'}, {'name': 'wikipedia', 'args': '{\"query\": \"MATLAB\"}', 'id': 'call_bgr1r1L0Oiu1ZbErfpVYFopM', 'index': 2, 'type': 'tool_call_chunk'}, {'name': 'wikipedia', 'args': '{\"query\": \"Java programming language\"}', 'id': 'call_kdEq5sZ6gZqur747H13dVKbh', 'index': 3, 'type': 'tool_call_chunk'}, {'name': 'wikipedia', 'args': '{\"query\": \"JavaScript\"}', 'id': 'call_SiRPfb6MNn7d5ma80eYSSR35', 'index': 4, 'type': 'tool_call_chunk'}, {'name': 'wikipedia', 'args': '{\"query\": \"C programming language\"}', 'id': 'call_wZxVby13Nnn9Rdnk2RKGhNti', 'index': 5, 'type': 'tool_call_chunk'}, {'name': 'wikipedia', 'args': '{\"query\": \"C++ programming language\"}', 'id': 'call_JxU0nOdcYF0ywyjgtB7rmtoi', 'index': 6, 'type': 'tool_call_chunk'}, {'name': 'wikipedia', 'args': '{\"query\": \"Scala programming language\"}', 'id': 'call_FyUWj4mQ0Oy3OIfM5EclEM74', 'index': 7, 'type': 'tool_call_chunk'}])], tool_call_id='call_JxU0nOdcYF0ywyjgtB7rmtoi'),\n",
       "   \"Page: C (programming language)\\nSummary: C (pronounced  – like the letter c) is a general-purpose programming language. It was created in the 1970s by Dennis Ritchie and remains very widely used and influential. By design, C's features cleanly reflect the capabilities of the targeted CPUs. It has found lasting use in operating systems code (especially in kernels), device drivers, and protocol stacks, but its use in application software has been decreasing. C is commonly used on computer architectures that range from the largest supercomputers to the smallest microcontrollers and embedded systems.\\nA successor to the programming language B, C was originally developed at Bell Labs by Ritchie between 1972 and 1973 to construct utilities running on Unix. It was applied to re-implementing the kernel of the Unix operating system. During the 1980s, C gradually gained popularity. It has become one of the most widely used programming languages, with C compilers available for practically all modern computer architectures and operating systems. The book The C Programming Language, co-authored by the original language designer, served for many years as the de facto standard for the language. C has been standardized since 1989 by the American National Standards Institute (ANSI) and, subsequently, jointly by the International Organization for Standardization (ISO) and the International Electrotechnical Commission (IEC).\\nC is an imperative procedural language, supporting structured programming, lexical variable scope, and recursion, with a static type system. It was designed to be compiled to provide low-level access to memory and language constructs that map efficiently to machine instructions, all with minimal runtime support. Despite its low-level capabilities, the language was designed to encourage cross-platform programming. A standards-compliant C program written with portability in mind can be compiled for a wide variety of computer platforms and operating systems with few changes to its source code.\\nSince 2000, C has consistently ranked among the top four languages in the TIOBE index, a measure of the popularity of programming languages.\\n\\n\\n\\nPage: C Sharp (programming language)\\nSummary: C# ( see SHARP) is a general-purpose high-level programming language supporting multiple paradigms. C# encompasses static typing,:\\u200a4\\u200a strong typing, lexically scoped, imperative, declarative, functional, generic,:\\u200a22\\u200a object-oriented (class-based), and component-oriented programming disciplines.\\nThe principal inventors of the C# programming language were Anders Hejlsberg, Scott Wiltamuth, and Peter Golde from Microsoft. It was first widely distributed in July 2000 and was later approved as an international standard by Ecma (ECMA-334) in 2002 and ISO/IEC (ISO/IEC 23270 and 20619) in 2003. Microsoft introduced C# along with .NET Framework and Microsoft Visual Studio, both of which are technically speaking, closed-source. At the time, Microsoft had no open-source products. Four years later, in 2004, a free and open-source project called Microsoft Mono began, providing a cross-platform compiler and runtime environment for the C# programming language. A decade later, Microsoft released Visual Studio Code (code editor), Roslyn (compiler), and the unified .NET platform (software framework), all of which support C# and are free, open-source, and cross-platform. Mono also joined Microsoft but was not merged into .NET.\\nAs of January 2025, the most recent stable version of the language is C# 13.0, which was released in 2024 in .NET 9.0\\n\\n\\n\\nPage: The C Programming Language\\nSummary: The C Programming Language (sometimes termed K&R, after its authors' initials) is a computer programming book written by Brian Kernighan and Dennis Ritchie, the latter of whom originally designed and implemented the C programming language, as well as co-designed the Unix operating system with which development of the language was closely intertwined.  The book was central to the developmen\"),\n",
       "  (ToolAgentAction(tool='wikipedia', tool_input={'query': 'Scala programming language'}, log=\"\\nInvoking: `wikipedia` with `{'query': 'Scala programming language'}`\\n\\n\\n\", message_log=[AIMessageChunk(content='', additional_kwargs={'tool_calls': [{'index': 0, 'id': 'call_pAwpsR3UkpD4h5bwMiVxkd7a', 'function': {'arguments': '{\"query\": \"R programming language\"}', 'name': 'wikipedia'}, 'type': 'function'}, {'index': 1, 'id': 'call_grzdLDhe2V3XhxkMgRdyv30m', 'function': {'arguments': '{\"query\": \"Python programming language\"}', 'name': 'wikipedia'}, 'type': 'function'}, {'index': 2, 'id': 'call_bgr1r1L0Oiu1ZbErfpVYFopM', 'function': {'arguments': '{\"query\": \"MATLAB\"}', 'name': 'wikipedia'}, 'type': 'function'}, {'index': 3, 'id': 'call_kdEq5sZ6gZqur747H13dVKbh', 'function': {'arguments': '{\"query\": \"Java programming language\"}', 'name': 'wikipedia'}, 'type': 'function'}, {'index': 4, 'id': 'call_SiRPfb6MNn7d5ma80eYSSR35', 'function': {'arguments': '{\"query\": \"JavaScript\"}', 'name': 'wikipedia'}, 'type': 'function'}, {'index': 5, 'id': 'call_wZxVby13Nnn9Rdnk2RKGhNti', 'function': {'arguments': '{\"query\": \"C programming language\"}', 'name': 'wikipedia'}, 'type': 'function'}, {'index': 6, 'id': 'call_JxU0nOdcYF0ywyjgtB7rmtoi', 'function': {'arguments': '{\"query\": \"C++ programming language\"}', 'name': 'wikipedia'}, 'type': 'function'}, {'index': 7, 'id': 'call_FyUWj4mQ0Oy3OIfM5EclEM74', 'function': {'arguments': '{\"query\": \"Scala programming language\"}', 'name': 'wikipedia'}, 'type': 'function'}]}, response_metadata={'finish_reason': 'tool_calls', 'model_name': 'gpt-4-0125-preview'}, id='run-5413bd2f-06fb-4f55-a5a2-4c18aa6cf48e', tool_calls=[{'name': 'wikipedia', 'args': {'query': 'R programming language'}, 'id': 'call_pAwpsR3UkpD4h5bwMiVxkd7a', 'type': 'tool_call'}, {'name': 'wikipedia', 'args': {'query': 'Python programming language'}, 'id': 'call_grzdLDhe2V3XhxkMgRdyv30m', 'type': 'tool_call'}, {'name': 'wikipedia', 'args': {'query': 'MATLAB'}, 'id': 'call_bgr1r1L0Oiu1ZbErfpVYFopM', 'type': 'tool_call'}, {'name': 'wikipedia', 'args': {'query': 'Java programming language'}, 'id': 'call_kdEq5sZ6gZqur747H13dVKbh', 'type': 'tool_call'}, {'name': 'wikipedia', 'args': {'query': 'JavaScript'}, 'id': 'call_SiRPfb6MNn7d5ma80eYSSR35', 'type': 'tool_call'}, {'name': 'wikipedia', 'args': {'query': 'C programming language'}, 'id': 'call_wZxVby13Nnn9Rdnk2RKGhNti', 'type': 'tool_call'}, {'name': 'wikipedia', 'args': {'query': 'C++ programming language'}, 'id': 'call_JxU0nOdcYF0ywyjgtB7rmtoi', 'type': 'tool_call'}, {'name': 'wikipedia', 'args': {'query': 'Scala programming language'}, 'id': 'call_FyUWj4mQ0Oy3OIfM5EclEM74', 'type': 'tool_call'}], tool_call_chunks=[{'name': 'wikipedia', 'args': '{\"query\": \"R programming language\"}', 'id': 'call_pAwpsR3UkpD4h5bwMiVxkd7a', 'index': 0, 'type': 'tool_call_chunk'}, {'name': 'wikipedia', 'args': '{\"query\": \"Python programming language\"}', 'id': 'call_grzdLDhe2V3XhxkMgRdyv30m', 'index': 1, 'type': 'tool_call_chunk'}, {'name': 'wikipedia', 'args': '{\"query\": \"MATLAB\"}', 'id': 'call_bgr1r1L0Oiu1ZbErfpVYFopM', 'index': 2, 'type': 'tool_call_chunk'}, {'name': 'wikipedia', 'args': '{\"query\": \"Java programming language\"}', 'id': 'call_kdEq5sZ6gZqur747H13dVKbh', 'index': 3, 'type': 'tool_call_chunk'}, {'name': 'wikipedia', 'args': '{\"query\": \"JavaScript\"}', 'id': 'call_SiRPfb6MNn7d5ma80eYSSR35', 'index': 4, 'type': 'tool_call_chunk'}, {'name': 'wikipedia', 'args': '{\"query\": \"C programming language\"}', 'id': 'call_wZxVby13Nnn9Rdnk2RKGhNti', 'index': 5, 'type': 'tool_call_chunk'}, {'name': 'wikipedia', 'args': '{\"query\": \"C++ programming language\"}', 'id': 'call_JxU0nOdcYF0ywyjgtB7rmtoi', 'index': 6, 'type': 'tool_call_chunk'}, {'name': 'wikipedia', 'args': '{\"query\": \"Scala programming language\"}', 'id': 'call_FyUWj4mQ0Oy3OIfM5EclEM74', 'index': 7, 'type': 'tool_call_chunk'}])], tool_call_id='call_FyUWj4mQ0Oy3OIfM5EclEM74'),\n",
       "   \"Page: Scala (programming language)\\nSummary: Scala ( SKAH-lah) is a strong statically typed high-level general-purpose programming language that supports both object-oriented programming and functional programming. Designed to be concise, many of Scala's design decisions are intended to address criticisms of Java.\\nScala source code can be compiled to Java bytecode and run on a Java virtual machine (JVM). Scala can also be transpiled to JavaScript to run in a browser, or compiled directly to a native executable. When running on the JVM, Scala provides language interoperability with Java so that libraries written in either language may be referenced directly in Scala or Java code. Like Java, Scala is object-oriented, and uses a syntax termed curly-brace which is similar to the language C. Since Scala 3, there is also an option to use the off-side rule (indenting) to structure blocks, and its use is advised. Martin Odersky has said that this turned out to be the most productive change introduced in Scala 3.\\nUnlike Java, Scala has many features of functional programming languages (like Scheme, Standard ML, and Haskell), including currying, immutability, lazy evaluation, and pattern matching. It also has an advanced type system supporting algebraic data types, covariance and contravariance, higher-order types (but not higher-rank types), anonymous types, operator overloading, optional parameters, named parameters, raw strings, and an experimental exception-only version of algebraic effects that can be seen as a more powerful version of Java's checked exceptions.\\nThe name Scala is a portmanteau of scalable and language, signifying that it is designed to grow with the demands of its users.\\n\\n\\n\\nPage: Comparison of multi-paradigm programming languages\\nSummary: Programming languages can be grouped by the number and types of paradigms supported.\\n\\nPage: List of programming languages by type\\nSummary: This is a list of notable programming languages, grouped by type.\\nThe groupings are overlapping; not mutually exclusive. A language can be listed in multiple groupings.\\n\\n\")]}"
      ]
     },
     "execution_count": 18,
     "metadata": {},
     "output_type": "execute_result"
    }
   ],
   "source": [
    "response2"
   ]
  },
  {
   "cell_type": "code",
   "execution_count": null,
   "metadata": {},
   "outputs": [],
   "source": []
  }
 ],
 "metadata": {
  "kernelspec": {
   "display_name": "langchain_env_benji",
   "language": "python",
   "name": "langchain_env_benji"
  },
  "language_info": {
   "codemirror_mode": {
    "name": "ipython",
    "version": 3
   },
   "file_extension": ".py",
   "mimetype": "text/x-python",
   "name": "python",
   "nbconvert_exporter": "python",
   "pygments_lexer": "ipython3",
   "version": "3.10.16"
  }
 },
 "nbformat": 4,
 "nbformat_minor": 2
}
