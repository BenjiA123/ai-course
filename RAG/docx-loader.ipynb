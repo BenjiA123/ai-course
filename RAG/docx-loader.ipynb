{
 "cells": [
  {
   "cell_type": "markdown",
   "id": "20632ae7",
   "metadata": {},
   "source": [
    "# Indexing: Document Loading with DOCX2TXT Loader"
   ]
  },
  {
   "cell_type": "code",
   "execution_count": 1,
   "id": "b6a08b52",
   "metadata": {},
   "outputs": [],
   "source": [
    "from langchain_community.document_loaders import Docx2txtLoader"
   ]
  },
  {
   "cell_type": "code",
   "execution_count": 2,
   "id": "4706d4f2",
   "metadata": {},
   "outputs": [],
   "source": [
    "loader_docx = Docx2txtLoader(\"Introduction_to_Data_and_Data_Science.docx\")"
   ]
  },
  {
   "cell_type": "code",
   "execution_count": 3,
   "id": "8a502423",
   "metadata": {},
   "outputs": [],
   "source": [
    "pages_docx = loader_docx.load()"
   ]
  },
  {
   "cell_type": "code",
   "execution_count": null,
   "id": "a5ba32a0",
   "metadata": {
    "scrolled": true
   },
   "outputs": [],
   "source": [
    "pages_docx"
   ]
  },
  {
   "cell_type": "code",
   "execution_count": null,
   "id": "912bf985",
   "metadata": {},
   "outputs": [],
   "source": []
  },
  {
   "cell_type": "code",
   "execution_count": null,
   "id": "d53db8db",
   "metadata": {},
   "outputs": [],
   "source": []
  }
 ],
 "metadata": {
  "kernelspec": {
   "display_name": "langchain_env_benji",
   "language": "python",
   "name": "langchain_env_benji"
  },
  "language_info": {
   "codemirror_mode": {
    "name": "ipython",
    "version": 3
   },
   "file_extension": ".py",
   "mimetype": "text/x-python",
   "name": "python",
   "nbconvert_exporter": "python",
   "pygments_lexer": "ipython3",
   "version": "3.10.16"
  }
 },
 "nbformat": 4,
 "nbformat_minor": 5
}
