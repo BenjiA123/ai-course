{
 "cells": [
  {
   "cell_type": "markdown",
   "id": "32d15dba-2443-4618-a17e-ee6f925e4fad",
   "metadata": {},
   "source": [
    "## CHAT MESSAGE HISTORY"
   ]
  },
  {
   "cell_type": "code",
   "execution_count": null,
   "id": "d1128151-f20c-4d05-86eb-bceb50392c86",
   "metadata": {},
   "outputs": [],
   "source": [
    "%load_ext dotenv\n",
    "%dotenv"
   ]
  },
  {
   "cell_type": "code",
   "execution_count": 11,
   "id": "1dee14aa-57e9-464a-8f66-4d882d4a9832",
   "metadata": {},
   "outputs": [],
   "source": [
    "from langchain_openai.chat_models import ChatOpenAI\n",
    "\n",
    "from langchain_core.prompts import (HumanMessagePromptTemplate, \n",
    "                                            ChatPromptTemplate)\n",
    "from langchain.chains.llm import LLMChain\n",
    "from langchain_community.chat_message_histories import ChatMessageHistory"
   ]
  },
  {
   "cell_type": "code",
   "execution_count": 4,
   "id": "c2c4e489-0e73-4fba-8b73-c8d3e0771b20",
   "metadata": {},
   "outputs": [],
   "source": [
    "chat = ChatOpenAI(model_name = 'gpt-4',\n",
    "                  seed = 365,\n",
    "                  temperature = 0,\n",
    "                  max_tokens = 100)"
   ]
  },
  {
   "cell_type": "code",
   "execution_count": 13,
   "id": "3a356fb8-ff65-4e51-9200-bb75ab027ea4",
   "metadata": {},
   "outputs": [
    {
     "data": {
      "text/plain": [
       "InMemoryChatMessageHistory(messages=[])"
      ]
     },
     "execution_count": 13,
     "metadata": {},
     "output_type": "execute_result"
    }
   ],
   "source": [
    "background_info = ChatMessageHistory()\n",
    "background_info"
   ]
  },
  {
   "cell_type": "code",
   "execution_count": 19,
   "id": "dac5a900-7877-4bdf-a613-f7664f99a43a",
   "metadata": {},
   "outputs": [],
   "source": [
    "background_info.add_user_message(\"Can you give me an interesting fact I probabl didn't know about?\")\n",
    "background_info.add_ai_message(\"Sure, did you know that the longest place on the planet is 85 letters long?\")\n"
   ]
  },
  {
   "cell_type": "code",
   "execution_count": 21,
   "id": "8078f4fe-b19a-4f2c-a5b2-7ee4bd18a31d",
   "metadata": {},
   "outputs": [
    {
     "data": {
      "text/plain": [
       "[HumanMessage(content=\"Can you give me an interesting fact I probabl didn't know about?\", additional_kwargs={}, response_metadata={}),\n",
       " AIMessage(content='Sure, di you know that the longest place on the planet is 85 letters long?', additional_kwargs={}, response_metadata={}),\n",
       " HumanMessage(content=\"Can you give me an interesting fact I probabl didn't know about?\", additional_kwargs={}, response_metadata={}),\n",
       " AIMessage(content='Sure, did you know that the longest place on the planet is 85 letters long?', additional_kwargs={}, response_metadata={})]"
      ]
     },
     "execution_count": 21,
     "metadata": {},
     "output_type": "execute_result"
    }
   ],
   "source": [
    "background_info.messages"
   ]
  },
  {
   "cell_type": "code",
   "execution_count": 23,
   "id": "073b7a6c-242f-4402-accd-089a5dd16d79",
   "metadata": {},
   "outputs": [],
   "source": [
    "message_template_h = HumanMessagePromptTemplate.from_template(template = '{follow-up question}')"
   ]
  },
  {
   "cell_type": "code",
   "execution_count": 25,
   "id": "2794cf80-6781-4f8d-99ee-1cf3a3ef68f5",
   "metadata": {},
   "outputs": [],
   "source": [
    "chat_template = ChatPromptTemplate.from_messages(background_info.messages + [message_template_h])"
   ]
  },
  {
   "cell_type": "code",
   "execution_count": 27,
   "id": "8241c32f-8d53-4c31-a7d8-0ef594073ac1",
   "metadata": {},
   "outputs": [
    {
     "data": {
      "text/plain": [
       "ChatPromptTemplate(input_variables=['follow-up question'], input_types={}, partial_variables={}, messages=[HumanMessage(content=\"Can you give me an interesting fact I probabl didn't know about?\", additional_kwargs={}, response_metadata={}), AIMessage(content='Sure, di you know that the longest place on the planet is 85 letters long?', additional_kwargs={}, response_metadata={}), HumanMessage(content=\"Can you give me an interesting fact I probabl didn't know about?\", additional_kwargs={}, response_metadata={}), AIMessage(content='Sure, did you know that the longest place on the planet is 85 letters long?', additional_kwargs={}, response_metadata={}), HumanMessagePromptTemplate(prompt=PromptTemplate(input_variables=['follow-up question'], input_types={}, partial_variables={}, template='{follow-up question}'), additional_kwargs={})])"
      ]
     },
     "execution_count": 27,
     "metadata": {},
     "output_type": "execute_result"
    }
   ],
   "source": [
    "chat_template"
   ]
  },
  {
   "cell_type": "code",
   "execution_count": 29,
   "id": "a88964d2-edb9-496b-9f23-4606859e1bfc",
   "metadata": {},
   "outputs": [],
   "source": [
    "chain = chat_template | chat"
   ]
  },
  {
   "cell_type": "code",
   "execution_count": 42,
   "id": "411d3e31-6481-49e5-804b-8f4151af3913",
   "metadata": {},
   "outputs": [],
   "source": [
    "result = chain.invoke({'follow-up question': 'What does the name mean?'})"
   ]
  },
  {
   "cell_type": "code",
   "execution_count": 43,
   "id": "230047b9-48f6-4445-b26d-37fa8c0e2326",
   "metadata": {},
   "outputs": [
    {
     "data": {
      "text/plain": [
       "AIMessage(content='The name of the place is \"Taumatawhakatangihangakoauauotamateaturipukakapikimaungahoronukupokaiwhenuakitanatahu,\" a hill in New Zealand. The name roughly translates to \"The summit where Tamatea, the man with the big knees, the slider, climber of mountains, the land-swallower who travelled about, played his nose flute to his loved one\" in English.', additional_kwargs={'refusal': None}, response_metadata={'token_usage': {'completion_tokens': 98, 'prompt_tokens': 95, 'total_tokens': 193, 'completion_tokens_details': {'accepted_prediction_tokens': 0, 'audio_tokens': 0, 'reasoning_tokens': 0, 'rejected_prediction_tokens': 0}, 'prompt_tokens_details': {'audio_tokens': 0, 'cached_tokens': 0}}, 'model_name': 'gpt-4-0613', 'system_fingerprint': None, 'id': 'chatcmpl-BLr4Qn5DRYv3cANjhD4UkQzSS8heh', 'finish_reason': 'stop', 'logprobs': None}, id='run-3fe8e2da-63c8-4515-8d7a-cea707ea8938-0', usage_metadata={'input_tokens': 95, 'output_tokens': 98, 'total_tokens': 193, 'input_token_details': {'audio': 0, 'cache_read': 0}, 'output_token_details': {'audio': 0, 'reasoning': 0}})"
      ]
     },
     "execution_count": 43,
     "metadata": {},
     "output_type": "execute_result"
    }
   ],
   "source": [
    "result"
   ]
  },
  {
   "cell_type": "code",
   "execution_count": 46,
   "id": "5fcd41c6-7103-41ed-ab09-1256e825877e",
   "metadata": {},
   "outputs": [
    {
     "name": "stdout",
     "output_type": "stream",
     "text": [
      "The name of the place is \"Taumatawhakatangihangakoauauotamateaturipukakapikimaungahoronukupokaiwhenuakitanatahu,\" a hill in New Zealand. The name roughly translates to \"The summit where Tamatea, the man with the big knees, the slider, climber of mountains, the land-swallower who travelled about, played his nose flute to his loved one\" in English.\n"
     ]
    }
   ],
   "source": [
    "print(result.content)"
   ]
  },
  {
   "cell_type": "code",
   "execution_count": null,
   "id": "3cc414b7-2c50-42c7-a3ea-1af7a1aed1c7",
   "metadata": {},
   "outputs": [],
   "source": []
  }
 ],
 "metadata": {
  "kernelspec": {
   "display_name": "langchain_env_benji",
   "language": "python",
   "name": "langchain_env_benji"
  },
  "language_info": {
   "codemirror_mode": {
    "name": "ipython",
    "version": 3
   },
   "file_extension": ".py",
   "mimetype": "text/x-python",
   "name": "python",
   "nbconvert_exporter": "python",
   "pygments_lexer": "ipython3",
   "version": "3.10.10"
  }
 },
 "nbformat": 4,
 "nbformat_minor": 5
}
